{
  "nbformat": 4,
  "nbformat_minor": 0,
  "metadata": {
    "colab": {
      "name": "Work_Life_Integration.ipynb",
      "provenance": [],
      "collapsed_sections": [],
      "toc_visible": true
    },
    "kernelspec": {
      "display_name": "Python 3",
      "language": "python",
      "name": "python3"
    },
    "language_info": {
      "codemirror_mode": {
        "name": "ipython",
        "version": 3
      },
      "file_extension": ".py",
      "mimetype": "text/x-python",
      "name": "python",
      "nbconvert_exporter": "python",
      "pygments_lexer": "ipython3",
      "version": "3.7.6"
    }
  },
  "cells": [
    {
      "cell_type": "markdown",
      "metadata": {
        "id": "UjSEZs3BBebt"
      },
      "source": [
        "**<center><h1>Work Life Integration</h1></center>**"
      ]
    },
    {
      "cell_type": "markdown",
      "metadata": {
        "id": "i-JusWrzBebi"
      },
      "source": [
        "<center><img src=\"https://th.bing.com/th/id/R8bedee065ce3b96c866fa47b7d25dc4b?rik=W%2fji1U%2f%2bRUp0kA&riu=http%3a%2f%2fresearch.tamu.edu%2fwp-content%2fuploads%2f2015%2f07%2fwhy-humans-fatigue-1.jpg&ehk=%2fNM3%2bF0yK6kDKQOlnZqArg3AjL%2fO%2fz%2bhEAUZOksLGPc%3d&risl=&pid=ImgRaw\" \n",
        "width=\"600\" height=\"240\" />"
      ]
    },
    {
      "cell_type": "markdown",
      "metadata": {
        "id": "j0M8SUKiBebu"
      },
      "source": [
        "---\n",
        "# **Table of Contents**\n",
        "---\n",
        "\n",
        "1. [Problem Statement](#Section1)<br>\n",
        "2. [Data Loading and Description](#Section2)\n",
        "3. [Data Profiling](#Section3)\n",
        "    - 3.1 [Understanding the Dataset](#Section301)<br/>\n",
        "4. [Exploratory Data Analysis](#Section4)\n",
        "5. [Encoding and Train Test Split the data](#Section5)<br/>  \n",
        "6. [Fitting The Regression Models](#Section6)<br/>  \n",
        "7. [Hyper Paramter Tuning](#Section7)<br/>\n",
        "8. [Ensemble Learning](#Section8)<br/>\n",
        "    - 8.1 [Boosting Models](#Section801)<br/>\n",
        "    - 8.2 [Hyper Tuning Boosting Model](#Section802)<br/>\n",
        "    - 8.3 [Comparing Trained Models](#Section803)<br/>\n",
        "    - 8.3 [Stacking Models](#Section804)<br/>\n",
        "9. [Predictions](#Section9)<br/>"
      ]
    },
    {
      "cell_type": "markdown",
      "metadata": {
        "id": "ttQV_-hjBebv"
      },
      "source": [
        "<a name=Section1></a>\n",
        " ## 1.  Problem Statement\n",
        " \n",
        "**Content:** \n",
        "According to a global survey, about 450 million people live with mental disorders, including anxiety, depression, that can be one of the primary causes of poor health, stress and disability worldwide. In the current virtual scenario, it becomes very crucial for employers to know the mental health of their employees as this directly impacts productivity of the company or workflow and also influences team and workplace culture. To assess and understand the situation across the company, a survey was rolled out to the employees of XyX corporation last year. The responses to the survey are provided along with the ‘mental fatigue’ score which was computed for each employee.\n",
        "\n",
        "**Problem Statement:** \n",
        "You need to review survey results of last year and the ‘Mental fatigue score’ computed for each employee. This data is provided to you in the form of train.csv. We want to understand and observe the change in mental health parameters of all the employees in the XyX corporation. Therefore, we want to predict the mental fatigue score of employees this year based on the provided features and helping XyX corporation to take appropriate corrective steps for their employees.\n"
      ]
    },
    {
      "cell_type": "markdown",
      "metadata": {
        "id": "56YDtWq3Bebw"
      },
      "source": [
        "<a name=Section2></a>\n",
        " ## 2. Data Loading and Description"
      ]
    },
    {
      "cell_type": "markdown",
      "metadata": {
        "id": "w0xZKkAfBebw"
      },
      "source": [
        "The dataset comprises of 768 observations of 9 columns. Below is a table showing names of all the columns and their description."
      ]
    },
    {
      "cell_type": "markdown",
      "metadata": {
        "id": "FOQoIbwbBebx"
      },
      "source": [
        "| Columns\t                       |Description\n",
        "| -------------                    |:-------------                                 :| \n",
        "| Employee ID                      |Unique identifier of the employee\n",
        "| Date Of Joining                  |Date on which the employee joined the company\n",
        "| Gender                           |Gender of the employee\n",
        "| Company Type                     |Type of company [eg: Service based, Product based, etc.]\n",
        "| WFH Setup Available              |Whether proper work from home setup is available or not \n",
        "| Age                              |Age of employee\n",
        "| Tenure                           |Number of years in the organization\n",
        "| Vacations taken                  |Number of vacations taken\n",
        "| Designation                      |Seniority level of the employee in codes\n",
        "| Average Hours worked per day     |Hours allocated per day\n",
        "| Employee Satisfaction Score      |Satisfaction score provided by the employees\n",
        "| Mental Fatigue Score             |Dependent Variable [ to be predicted ]"
      ]
    },
    {
      "cell_type": "markdown",
      "metadata": {
        "id": "TloTj6iVBebx"
      },
      "source": [
        "#### Importing and Installing Packages"
      ]
    },
    {
      "cell_type": "code",
      "metadata": {
        "colab": {
          "base_uri": "https://localhost:8080/"
        },
        "id": "BOE-wZ2iYG_I",
        "outputId": "d12d6e63-9bf3-423e-cc74-c72a55323221"
      },
      "source": [
        "#!pip install -q --upgrade pandas-profiling"
      ],
      "execution_count": null,
      "outputs": [
        {
          "output_type": "stream",
          "text": [
            "\u001b[K     |████████████████████████████████| 245kB 12.1MB/s \n",
            "\u001b[K     |████████████████████████████████| 81kB 5.8MB/s \n",
            "\u001b[K     |████████████████████████████████| 81kB 5.0MB/s \n",
            "\u001b[K     |████████████████████████████████| 3.2MB 19.0MB/s \n",
            "\u001b[K     |████████████████████████████████| 1.1MB 65.6MB/s \n",
            "\u001b[K     |████████████████████████████████| 61kB 5.0MB/s \n",
            "\u001b[K     |████████████████████████████████| 296kB 53.5MB/s \n",
            "\u001b[?25h  Building wheel for htmlmin (setup.py) ... \u001b[?25l\u001b[?25hdone\n",
            "  Building wheel for phik (setup.py) ... \u001b[?25l\u001b[?25hdone\n",
            "\u001b[31mERROR: google-colab 1.0.0 has requirement requests~=2.23.0, but you'll have requests 2.25.1 which is incompatible.\u001b[0m\n",
            "\u001b[31mERROR: phik 0.11.2 has requirement scipy>=1.5.2, but you'll have scipy 1.4.1 which is incompatible.\u001b[0m\n"
          ],
          "name": "stdout"
        }
      ]
    },
    {
      "cell_type": "code",
      "metadata": {
        "colab": {
          "base_uri": "https://localhost:8080/"
        },
        "id": "JBVQdgcDfkqB",
        "outputId": "458dc07a-c591-4218-f3a8-c892b57d15df"
      },
      "source": [
        "!pip install catboost"
      ],
      "execution_count": 1,
      "outputs": [
        {
          "output_type": "stream",
          "text": [
            "Collecting catboost\n",
            "\u001b[?25l  Downloading https://files.pythonhosted.org/packages/47/80/8e9c57ec32dfed6ba2922bc5c96462cbf8596ce1a6f5de532ad1e43e53fe/catboost-0.25.1-cp37-none-manylinux1_x86_64.whl (67.3MB)\n",
            "\u001b[K     |████████████████████████████████| 67.3MB 55kB/s \n",
            "\u001b[?25hRequirement already satisfied: numpy>=1.16.0 in /usr/local/lib/python3.7/dist-packages (from catboost) (1.19.5)\n",
            "Requirement already satisfied: six in /usr/local/lib/python3.7/dist-packages (from catboost) (1.15.0)\n",
            "Requirement already satisfied: plotly in /usr/local/lib/python3.7/dist-packages (from catboost) (4.4.1)\n",
            "Requirement already satisfied: graphviz in /usr/local/lib/python3.7/dist-packages (from catboost) (0.10.1)\n",
            "Requirement already satisfied: matplotlib in /usr/local/lib/python3.7/dist-packages (from catboost) (3.2.2)\n",
            "Requirement already satisfied: scipy in /usr/local/lib/python3.7/dist-packages (from catboost) (1.4.1)\n",
            "Requirement already satisfied: pandas>=0.24.0 in /usr/local/lib/python3.7/dist-packages (from catboost) (1.1.5)\n",
            "Requirement already satisfied: retrying>=1.3.3 in /usr/local/lib/python3.7/dist-packages (from plotly->catboost) (1.3.3)\n",
            "Requirement already satisfied: python-dateutil>=2.1 in /usr/local/lib/python3.7/dist-packages (from matplotlib->catboost) (2.8.1)\n",
            "Requirement already satisfied: pyparsing!=2.0.4,!=2.1.2,!=2.1.6,>=2.0.1 in /usr/local/lib/python3.7/dist-packages (from matplotlib->catboost) (2.4.7)\n",
            "Requirement already satisfied: cycler>=0.10 in /usr/local/lib/python3.7/dist-packages (from matplotlib->catboost) (0.10.0)\n",
            "Requirement already satisfied: kiwisolver>=1.0.1 in /usr/local/lib/python3.7/dist-packages (from matplotlib->catboost) (1.3.1)\n",
            "Requirement already satisfied: pytz>=2017.2 in /usr/local/lib/python3.7/dist-packages (from pandas>=0.24.0->catboost) (2018.9)\n",
            "Installing collected packages: catboost\n",
            "Successfully installed catboost-0.25.1\n"
          ],
          "name": "stdout"
        }
      ]
    },
    {
      "cell_type": "code",
      "metadata": {
        "id": "EJTtdqeuYLXj",
        "colab": {
          "base_uri": "https://localhost:8080/"
        },
        "outputId": "76051b94-32ba-4796-a030-34c26c105887"
      },
      "source": [
        "#-------------------------------------------------------------------------------------------------------------------------------\n",
        "import pandas as pd                                                 # Importing for panel data analysis\n",
        "from pandas_profiling import ProfileReport                          # Import Pandas Profiling (To generate Univariate Analysis) \n",
        "pd.set_option('display.max_columns', None)                          # Unfolding hidden features if the cardinality is high      \n",
        "pd.set_option('display.max_colwidth', None)                         # Unfolding the max feature width for better clearity      \n",
        "pd.set_option('display.max_rows', None)                             # Unfolding hidden data points if the cardinality is high\n",
        "pd.set_option('mode.chained_assignment', None)                      # Removing restriction over chained assignments operations\n",
        "#pd.set_option('display.float_format', lambda x: '%.2f' % x)         # To suppress scientific notation over exponential values\n",
        "#-------------------------------------------------------------------------------------------------------------------------------\n",
        "import numpy as np      \n",
        "import math,time        \n",
        "import datetime\n",
        "import pickle\n",
        "from google.colab import files,drive\n",
        "from datetime import date,timedelta                                        # Importing package numpys (For Numerical Python)\n",
        "from sklearn.preprocessing import OrdinalEncoder,OneHotEncoder,LabelEncoder, MinMaxScaler\n",
        "from sklearn.linear_model import LinearRegression,HuberRegressor,ElasticNet,PassiveAggressiveRegressor, Lasso, Ridge, Lars,BayesianRidge, SGDRegressor\n",
        "from sklearn.svm import SVR,LinearSVR\n",
        "from sklearn.ensemble import RandomForestRegressor, BaggingRegressor,AdaBoostRegressor, GradientBoostingRegressor, VotingRegressor, StackingRegressor, ExtraTreesRegressor\n",
        "from sklearn.tree import DecisionTreeRegressor\n",
        "from sklearn.model_selection import train_test_split,RandomizedSearchCV,KFold,GridSearchCV\n",
        "from sklearn.metrics import mean_squared_error,mean_absolute_error\n",
        "import statsmodels.api as sm\n",
        "import xgboost as xgb\n",
        "import catboost as cb\n",
        "from sklearn.kernel_ridge import KernelRidge\n",
        "import lightgbm as ltb\n",
        "from sklearn.neighbors import KNeighborsRegressor\n",
        "#-------------------------------------------------------------------------------------------------------------------------------\n",
        "import matplotlib.pyplot as plt                                     # Importing pyplot interface using matplotlib                                              \n",
        "import seaborn as sns                                               # Importin seaborm library for interactive visualization\n",
        "%matplotlib inline"
      ],
      "execution_count": 2,
      "outputs": [
        {
          "output_type": "stream",
          "text": [
            "/usr/local/lib/python3.7/dist-packages/statsmodels/tools/_testing.py:19: FutureWarning: pandas.util.testing is deprecated. Use the functions in the public API at pandas.testing instead.\n",
            "  import pandas.util.testing as tm\n"
          ],
          "name": "stderr"
        }
      ]
    },
    {
      "cell_type": "markdown",
      "metadata": {
        "id": "yCn1FdR1Beb1"
      },
      "source": [
        "#### Importing the Dataset"
      ]
    },
    {
      "cell_type": "code",
      "metadata": {
        "colab": {
          "resources": {
            "http://localhost:8080/nbextensions/google.colab/files.js": {
              "data": "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",
              "ok": true,
              "headers": [
                [
                  "content-type",
                  "application/javascript"
                ]
              ],
              "status": 200,
              "status_text": ""
            }
          },
          "base_uri": "https://localhost:8080/",
          "height": 434
        },
        "id": "eSOaGNcoYSaa",
        "outputId": "0f7568cb-0293-481b-98f3-b3d57a4c72cd"
      },
      "source": [
        "data_to_load = files.upload()\n",
        "data = pd.read_csv('train.csv')\n",
        "print('Data Shape:', data.shape)\n",
        "data.head()"
      ],
      "execution_count": 3,
      "outputs": [
        {
          "output_type": "display_data",
          "data": {
            "text/html": [
              "\n",
              "     <input type=\"file\" id=\"files-551ea9c5-2a3c-4c4a-b45f-bd885dad9b4b\" name=\"files[]\" multiple disabled\n",
              "        style=\"border:none\" />\n",
              "     <output id=\"result-551ea9c5-2a3c-4c4a-b45f-bd885dad9b4b\">\n",
              "      Upload widget is only available when the cell has been executed in the\n",
              "      current browser session. Please rerun this cell to enable.\n",
              "      </output>\n",
              "      <script src=\"/nbextensions/google.colab/files.js\"></script> "
            ],
            "text/plain": [
              "<IPython.core.display.HTML object>"
            ]
          },
          "metadata": {
            "tags": []
          }
        },
        {
          "output_type": "stream",
          "text": [
            "Saving train.csv to train.csv\n",
            "Data Shape: (22750, 12)\n"
          ],
          "name": "stdout"
        },
        {
          "output_type": "execute_result",
          "data": {
            "text/html": [
              "<div>\n",
              "<style scoped>\n",
              "    .dataframe tbody tr th:only-of-type {\n",
              "        vertical-align: middle;\n",
              "    }\n",
              "\n",
              "    .dataframe tbody tr th {\n",
              "        vertical-align: top;\n",
              "    }\n",
              "\n",
              "    .dataframe thead th {\n",
              "        text-align: right;\n",
              "    }\n",
              "</style>\n",
              "<table border=\"1\" class=\"dataframe\">\n",
              "  <thead>\n",
              "    <tr style=\"text-align: right;\">\n",
              "      <th></th>\n",
              "      <th>Employee ID</th>\n",
              "      <th>Date of Joining</th>\n",
              "      <th>Gender</th>\n",
              "      <th>Company Type</th>\n",
              "      <th>WFH Setup Available</th>\n",
              "      <th>Age</th>\n",
              "      <th>Tenure</th>\n",
              "      <th>Vacations taken</th>\n",
              "      <th>Designation</th>\n",
              "      <th>Average Hours worked per day</th>\n",
              "      <th>Employee satisfaction score</th>\n",
              "      <th>Mental Fatigue Score</th>\n",
              "    </tr>\n",
              "  </thead>\n",
              "  <tbody>\n",
              "    <tr>\n",
              "      <th>0</th>\n",
              "      <td>fffe32003000360033003200</td>\n",
              "      <td>2008-09-30</td>\n",
              "      <td>Female</td>\n",
              "      <td>Service</td>\n",
              "      <td>No</td>\n",
              "      <td>52</td>\n",
              "      <td>18</td>\n",
              "      <td>8</td>\n",
              "      <td>2</td>\n",
              "      <td>3.0</td>\n",
              "      <td>3.8</td>\n",
              "      <td>0.16</td>\n",
              "    </tr>\n",
              "    <tr>\n",
              "      <th>1</th>\n",
              "      <td>fffe3700360033003500</td>\n",
              "      <td>2008-11-30</td>\n",
              "      <td>Male</td>\n",
              "      <td>Service</td>\n",
              "      <td>Yes</td>\n",
              "      <td>26</td>\n",
              "      <td>12</td>\n",
              "      <td>4</td>\n",
              "      <td>1</td>\n",
              "      <td>2.0</td>\n",
              "      <td>5.0</td>\n",
              "      <td>0.36</td>\n",
              "    </tr>\n",
              "    <tr>\n",
              "      <th>2</th>\n",
              "      <td>fffe31003300320037003900</td>\n",
              "      <td>2008-03-10</td>\n",
              "      <td>Female</td>\n",
              "      <td>Product</td>\n",
              "      <td>Yes</td>\n",
              "      <td>63</td>\n",
              "      <td>20</td>\n",
              "      <td>4</td>\n",
              "      <td>2</td>\n",
              "      <td>NaN</td>\n",
              "      <td>5.8</td>\n",
              "      <td>0.49</td>\n",
              "    </tr>\n",
              "    <tr>\n",
              "      <th>3</th>\n",
              "      <td>fffe32003400380032003900</td>\n",
              "      <td>2008-11-03</td>\n",
              "      <td>Male</td>\n",
              "      <td>Service</td>\n",
              "      <td>Yes</td>\n",
              "      <td>59</td>\n",
              "      <td>20</td>\n",
              "      <td>12</td>\n",
              "      <td>1</td>\n",
              "      <td>1.0</td>\n",
              "      <td>2.6</td>\n",
              "      <td>0.20</td>\n",
              "    </tr>\n",
              "    <tr>\n",
              "      <th>4</th>\n",
              "      <td>fffe31003900340031003600</td>\n",
              "      <td>2008-07-24</td>\n",
              "      <td>Female</td>\n",
              "      <td>Service</td>\n",
              "      <td>No</td>\n",
              "      <td>63</td>\n",
              "      <td>10</td>\n",
              "      <td>9</td>\n",
              "      <td>3</td>\n",
              "      <td>7.0</td>\n",
              "      <td>6.9</td>\n",
              "      <td>0.52</td>\n",
              "    </tr>\n",
              "  </tbody>\n",
              "</table>\n",
              "</div>"
            ],
            "text/plain": [
              "                Employee ID Date of Joining  Gender Company Type  \\\n",
              "0  fffe32003000360033003200      2008-09-30  Female      Service   \n",
              "1      fffe3700360033003500      2008-11-30    Male      Service   \n",
              "2  fffe31003300320037003900      2008-03-10  Female      Product   \n",
              "3  fffe32003400380032003900      2008-11-03    Male      Service   \n",
              "4  fffe31003900340031003600      2008-07-24  Female      Service   \n",
              "\n",
              "  WFH Setup Available  Age  Tenure  Vacations taken  Designation  \\\n",
              "0                  No   52      18                8            2   \n",
              "1                 Yes   26      12                4            1   \n",
              "2                 Yes   63      20                4            2   \n",
              "3                 Yes   59      20               12            1   \n",
              "4                  No   63      10                9            3   \n",
              "\n",
              "   Average Hours worked per day  Employee satisfaction score  \\\n",
              "0                           3.0                          3.8   \n",
              "1                           2.0                          5.0   \n",
              "2                           NaN                          5.8   \n",
              "3                           1.0                          2.6   \n",
              "4                           7.0                          6.9   \n",
              "\n",
              "   Mental Fatigue Score  \n",
              "0                  0.16  \n",
              "1                  0.36  \n",
              "2                  0.49  \n",
              "3                  0.20  \n",
              "4                  0.52  "
            ]
          },
          "metadata": {
            "tags": []
          },
          "execution_count": 3
        }
      ]
    },
    {
      "cell_type": "markdown",
      "metadata": {
        "id": "HJjiuapWBeb3"
      },
      "source": [
        "<a name=Section3></a>\n",
        " ## 3. Data Profiling\n",
        " "
      ]
    },
    {
      "cell_type": "markdown",
      "metadata": {
        "id": "sxHztqaMBeb3"
      },
      "source": [
        "<a name=Section301></a>\n",
        "### 3.1 Understanding the Dataset"
      ]
    },
    {
      "cell_type": "code",
      "metadata": {
        "colab": {
          "base_uri": "https://localhost:8080/"
        },
        "id": "-X3hFjFSY1xz",
        "outputId": "5c818831-6fd4-4509-b1e2-5362a8ec986d"
      },
      "source": [
        "data.info()"
      ],
      "execution_count": 4,
      "outputs": [
        {
          "output_type": "stream",
          "text": [
            "<class 'pandas.core.frame.DataFrame'>\n",
            "RangeIndex: 22750 entries, 0 to 22749\n",
            "Data columns (total 12 columns):\n",
            " #   Column                        Non-Null Count  Dtype  \n",
            "---  ------                        --------------  -----  \n",
            " 0   Employee ID                   22750 non-null  object \n",
            " 1   Date of Joining               22750 non-null  object \n",
            " 2   Gender                        22750 non-null  object \n",
            " 3   Company Type                  22750 non-null  object \n",
            " 4   WFH Setup Available           22750 non-null  object \n",
            " 5   Age                           22750 non-null  int64  \n",
            " 6   Tenure                        22750 non-null  int64  \n",
            " 7   Vacations taken               22750 non-null  int64  \n",
            " 8   Designation                   22750 non-null  int64  \n",
            " 9   Average Hours worked per day  21369 non-null  float64\n",
            " 10  Employee satisfaction score   20633 non-null  float64\n",
            " 11  Mental Fatigue Score          21739 non-null  float64\n",
            "dtypes: float64(3), int64(4), object(5)\n",
            "memory usage: 2.1+ MB\n"
          ],
          "name": "stdout"
        }
      ]
    },
    {
      "cell_type": "code",
      "metadata": {
        "colab": {
          "base_uri": "https://localhost:8080/",
          "height": 329
        },
        "id": "GxiWHA7IYiql",
        "outputId": "13e1b0de-cd68-4284-d7fa-1688bd0a4209"
      },
      "source": [
        "data.describe()"
      ],
      "execution_count": 5,
      "outputs": [
        {
          "output_type": "execute_result",
          "data": {
            "text/html": [
              "<div>\n",
              "<style scoped>\n",
              "    .dataframe tbody tr th:only-of-type {\n",
              "        vertical-align: middle;\n",
              "    }\n",
              "\n",
              "    .dataframe tbody tr th {\n",
              "        vertical-align: top;\n",
              "    }\n",
              "\n",
              "    .dataframe thead th {\n",
              "        text-align: right;\n",
              "    }\n",
              "</style>\n",
              "<table border=\"1\" class=\"dataframe\">\n",
              "  <thead>\n",
              "    <tr style=\"text-align: right;\">\n",
              "      <th></th>\n",
              "      <th>Age</th>\n",
              "      <th>Tenure</th>\n",
              "      <th>Vacations taken</th>\n",
              "      <th>Designation</th>\n",
              "      <th>Average Hours worked per day</th>\n",
              "      <th>Employee satisfaction score</th>\n",
              "      <th>Mental Fatigue Score</th>\n",
              "    </tr>\n",
              "  </thead>\n",
              "  <tbody>\n",
              "    <tr>\n",
              "      <th>count</th>\n",
              "      <td>22750.000000</td>\n",
              "      <td>22750.000000</td>\n",
              "      <td>22750.000000</td>\n",
              "      <td>22750.000000</td>\n",
              "      <td>21369.000000</td>\n",
              "      <td>20633.000000</td>\n",
              "      <td>21739.000000</td>\n",
              "    </tr>\n",
              "    <tr>\n",
              "      <th>mean</th>\n",
              "      <td>43.036967</td>\n",
              "      <td>10.499516</td>\n",
              "      <td>5.955341</td>\n",
              "      <td>2.178725</td>\n",
              "      <td>4.481398</td>\n",
              "      <td>5.728188</td>\n",
              "      <td>0.449656</td>\n",
              "    </tr>\n",
              "    <tr>\n",
              "      <th>std</th>\n",
              "      <td>12.931466</td>\n",
              "      <td>5.776066</td>\n",
              "      <td>3.736712</td>\n",
              "      <td>1.135145</td>\n",
              "      <td>2.047211</td>\n",
              "      <td>1.920839</td>\n",
              "      <td>0.200365</td>\n",
              "    </tr>\n",
              "    <tr>\n",
              "      <th>min</th>\n",
              "      <td>21.000000</td>\n",
              "      <td>1.000000</td>\n",
              "      <td>0.000000</td>\n",
              "      <td>0.000000</td>\n",
              "      <td>1.000000</td>\n",
              "      <td>0.000000</td>\n",
              "      <td>0.000000</td>\n",
              "    </tr>\n",
              "    <tr>\n",
              "      <th>25%</th>\n",
              "      <td>32.000000</td>\n",
              "      <td>5.000000</td>\n",
              "      <td>3.000000</td>\n",
              "      <td>1.000000</td>\n",
              "      <td>3.000000</td>\n",
              "      <td>4.600000</td>\n",
              "      <td>0.310000</td>\n",
              "    </tr>\n",
              "    <tr>\n",
              "      <th>50%</th>\n",
              "      <td>43.000000</td>\n",
              "      <td>10.000000</td>\n",
              "      <td>6.000000</td>\n",
              "      <td>2.000000</td>\n",
              "      <td>4.000000</td>\n",
              "      <td>5.900000</td>\n",
              "      <td>0.450000</td>\n",
              "    </tr>\n",
              "    <tr>\n",
              "      <th>75%</th>\n",
              "      <td>54.000000</td>\n",
              "      <td>16.000000</td>\n",
              "      <td>9.000000</td>\n",
              "      <td>3.000000</td>\n",
              "      <td>6.000000</td>\n",
              "      <td>7.100000</td>\n",
              "      <td>0.590000</td>\n",
              "    </tr>\n",
              "    <tr>\n",
              "      <th>max</th>\n",
              "      <td>65.000000</td>\n",
              "      <td>20.000000</td>\n",
              "      <td>12.000000</td>\n",
              "      <td>5.000000</td>\n",
              "      <td>10.000000</td>\n",
              "      <td>10.000000</td>\n",
              "      <td>1.000000</td>\n",
              "    </tr>\n",
              "  </tbody>\n",
              "</table>\n",
              "</div>"
            ],
            "text/plain": [
              "                Age        Tenure  Vacations taken   Designation  \\\n",
              "count  22750.000000  22750.000000     22750.000000  22750.000000   \n",
              "mean      43.036967     10.499516         5.955341      2.178725   \n",
              "std       12.931466      5.776066         3.736712      1.135145   \n",
              "min       21.000000      1.000000         0.000000      0.000000   \n",
              "25%       32.000000      5.000000         3.000000      1.000000   \n",
              "50%       43.000000     10.000000         6.000000      2.000000   \n",
              "75%       54.000000     16.000000         9.000000      3.000000   \n",
              "max       65.000000     20.000000        12.000000      5.000000   \n",
              "\n",
              "       Average Hours worked per day  Employee satisfaction score  \\\n",
              "count                  21369.000000                 20633.000000   \n",
              "mean                       4.481398                     5.728188   \n",
              "std                        2.047211                     1.920839   \n",
              "min                        1.000000                     0.000000   \n",
              "25%                        3.000000                     4.600000   \n",
              "50%                        4.000000                     5.900000   \n",
              "75%                        6.000000                     7.100000   \n",
              "max                       10.000000                    10.000000   \n",
              "\n",
              "       Mental Fatigue Score  \n",
              "count          21739.000000  \n",
              "mean               0.449656  \n",
              "std                0.200365  \n",
              "min                0.000000  \n",
              "25%                0.310000  \n",
              "50%                0.450000  \n",
              "75%                0.590000  \n",
              "max                1.000000  "
            ]
          },
          "metadata": {
            "tags": []
          },
          "execution_count": 5
        }
      ]
    },
    {
      "cell_type": "markdown",
      "metadata": {
        "id": "hKnTLa0EBeb4"
      },
      "source": [
        "<a name=Section4></a>\n",
        "## 4. Exploratory Data Analysis"
      ]
    },
    {
      "cell_type": "code",
      "metadata": {
        "colab": {
          "base_uri": "https://localhost:8080/"
        },
        "id": "zRmpHcCoZK5E",
        "outputId": "bd61ee33-a5b1-4f84-98fc-71ccde18bcbc"
      },
      "source": [
        "data.isnull().sum()"
      ],
      "execution_count": 6,
      "outputs": [
        {
          "output_type": "execute_result",
          "data": {
            "text/plain": [
              "Employee ID                        0\n",
              "Date of Joining                    0\n",
              "Gender                             0\n",
              "Company Type                       0\n",
              "WFH Setup Available                0\n",
              "Age                                0\n",
              "Tenure                             0\n",
              "Vacations taken                    0\n",
              "Designation                        0\n",
              "Average Hours worked per day    1381\n",
              "Employee satisfaction score     2117\n",
              "Mental Fatigue Score            1011\n",
              "dtype: int64"
            ]
          },
          "metadata": {
            "tags": []
          },
          "execution_count": 6
        }
      ]
    },
    {
      "cell_type": "markdown",
      "metadata": {
        "id": "sJUsfnvGBeb5"
      },
      "source": [
        "__Dropping the Employee ID column and converting the Date of Joining to datetime__"
      ]
    },
    {
      "cell_type": "code",
      "metadata": {
        "id": "X2vr3xpmbyZQ"
      },
      "source": [
        "data.drop(['Employee ID'],axis=1,inplace=True)"
      ],
      "execution_count": 7,
      "outputs": []
    },
    {
      "cell_type": "code",
      "metadata": {
        "id": "KbQJQjMWaynf"
      },
      "source": [
        "data['Date of Joining'] = pd.to_datetime(data['Date of Joining'])"
      ],
      "execution_count": 8,
      "outputs": []
    },
    {
      "cell_type": "code",
      "metadata": {
        "id": "THlhJ8fcZPUd"
      },
      "source": [
        "# convert objects to category\n",
        "for col in data.columns:\n",
        "  if data[col].dtype == 'object':\n",
        "    data[col] = data[col].astype('category')"
      ],
      "execution_count": 9,
      "outputs": []
    },
    {
      "cell_type": "code",
      "metadata": {
        "id": "UbI0613Rc5mv"
      },
      "source": [
        "# get missing percent for each feature\n",
        "def checknull():\n",
        "  for col in data.columns:\n",
        "    if data[col].isnull().sum()>0:\n",
        "      print('% missing values in',col,np.round(data[col].isnull().sum()/data.shape[0]*100,decimals=2),'%')"
      ],
      "execution_count": 10,
      "outputs": []
    },
    {
      "cell_type": "code",
      "metadata": {
        "colab": {
          "base_uri": "https://localhost:8080/"
        },
        "id": "qMRM6ocVelCw",
        "outputId": "d8571db7-b85a-48f2-b16a-5911ed969a4b"
      },
      "source": [
        "#drop missing values in mental fatigue, Average Hours worked per day, Employee satisfaction score\n",
        "s= data.shape[0]\n",
        "print('before',s)\n",
        "data.dropna(subset=['Mental Fatigue Score','Average Hours worked per day','Employee satisfaction score'],inplace=True)\n",
        "total = s-data.shape[0]\n",
        "print('dropped',total)\n",
        "print('% null dropped in data',np.round(total/s*100,decimals=2),'%')"
      ],
      "execution_count": 11,
      "outputs": [
        {
          "output_type": "stream",
          "text": [
            "before 22750\n",
            "dropped 4080\n",
            "% null dropped in data 17.93 %\n"
          ],
          "name": "stdout"
        }
      ]
    },
    {
      "cell_type": "code",
      "metadata": {
        "id": "S19vj6QDjFU9"
      },
      "source": [
        "checknull()"
      ],
      "execution_count": 12,
      "outputs": []
    },
    {
      "cell_type": "markdown",
      "metadata": {
        "id": "LmRlROA8Beb9"
      },
      "source": [
        "__Observations:__\n",
        "- Mental Fatigue target variable has 4.44% missing values which are dropeed\n",
        "- Avg Work hrs per day and Emp satisfaction score have missing values implying missing data not at random(MNAR)\n",
        "- Missing Values are dropped which was about 18%"
      ]
    },
    {
      "cell_type": "code",
      "metadata": {
        "colab": {
          "base_uri": "https://localhost:8080/",
          "height": 387
        },
        "id": "zrQrLiE17yJ6",
        "outputId": "dfd0e9b9-4b71-4a47-cb1f-333ceca3eb45"
      },
      "source": [
        "sns.displot(data=data['Average Hours worked per day'],kde=False,bins=10)"
      ],
      "execution_count": 13,
      "outputs": [
        {
          "output_type": "execute_result",
          "data": {
            "text/plain": [
              "<seaborn.axisgrid.FacetGrid at 0x7f4ddd161090>"
            ]
          },
          "metadata": {
            "tags": []
          },
          "execution_count": 13
        },
        {
          "output_type": "display_data",
          "data": {
            "image/png": "[encoded data removed]",
            "text/plain": [
              "<Figure size 360x360 with 1 Axes>"
            ]
          },
          "metadata": {
            "tags": [],
            "needs_background": "light"
          }
        }
      ]
    },
    {
      "cell_type": "code",
      "metadata": {
        "colab": {
          "base_uri": "https://localhost:8080/",
          "height": 309
        },
        "id": "oC1vFoXy-5dr",
        "outputId": "08f5747a-94c1-4c50-f379-abcc4d712d0a"
      },
      "source": [
        "data['Gender'].value_counts().plot(kind='bar')"
      ],
      "execution_count": 14,
      "outputs": [
        {
          "output_type": "execute_result",
          "data": {
            "text/plain": [
              "<matplotlib.axes._subplots.AxesSubplot at 0x7f4dd3928790>"
            ]
          },
          "metadata": {
            "tags": []
          },
          "execution_count": 14
        },
        {
          "output_type": "display_data",
          "data": {
            "image/png": "[encoded data removed]",
            "text/plain": [
              "<Figure size 432x288 with 1 Axes>"
            ]
          },
          "metadata": {
            "tags": [],
            "needs_background": "light"
          }
        }
      ]
    },
    {
      "cell_type": "code",
      "metadata": {
        "colab": {
          "base_uri": "https://localhost:8080/",
          "height": 391
        },
        "id": "Mtuz0UZf3kQg",
        "outputId": "e2375ac9-158c-4b41-9b2a-603804bf9e0a"
      },
      "source": [
        "plt.figure(figsize=(8,6))\n",
        "data.groupby(['WFH Setup Available','Designation'])['Average Hours worked per day'].mean().plot(kind='barh')"
      ],
      "execution_count": 15,
      "outputs": [
        {
          "output_type": "execute_result",
          "data": {
            "text/plain": [
              "<matplotlib.axes._subplots.AxesSubplot at 0x7f4dd3895710>"
            ]
          },
          "metadata": {
            "tags": []
          },
          "execution_count": 15
        },
        {
          "output_type": "display_data",
          "data": {
            "image/png": "[encoded data removed]",
            "text/plain": [
              "<Figure size 576x432 with 1 Axes>"
            ]
          },
          "metadata": {
            "tags": [],
            "needs_background": "light"
          }
        }
      ]
    },
    {
      "cell_type": "code",
      "metadata": {
        "id": "TyaONsJX4Irm",
        "colab": {
          "base_uri": "https://localhost:8080/",
          "height": 297
        },
        "outputId": "bb674afa-db75-4156-ff23-6cd843fcb758"
      },
      "source": [
        "fig, ax = plt.subplots(figsize = (10,4))\n",
        "plt.scatter(x=data.Age,y=data.Tenure)\n",
        "ax.set_xticks(np.arange(21,66))\n",
        "ax.set_yticks(np.arange(1,21))\n",
        "ax.set_xlabel('Age')\n",
        "ax.set_ylabel('Tenure')\n",
        "\n",
        "fig.tight_layout()\n",
        "\n",
        "plt.show()"
      ],
      "execution_count": 16,
      "outputs": [
        {
          "output_type": "display_data",
          "data": {
            "image/png": "[encoded data removed]",
            "text/plain": [
              "<Figure size 720x288 with 1 Axes>"
            ]
          },
          "metadata": {
            "tags": [],
            "needs_background": "light"
          }
        }
      ]
    },
    {
      "cell_type": "code",
      "metadata": {
        "colab": {
          "base_uri": "https://localhost:8080/",
          "height": 387
        },
        "id": "Gzt_xPJ2G-ds",
        "outputId": "1cff2090-fedb-461d-c4cd-34e5660491c6"
      },
      "source": [
        "sns.displot(data=data['Employee satisfaction score'],kde=False,bins=10)"
      ],
      "execution_count": 17,
      "outputs": [
        {
          "output_type": "execute_result",
          "data": {
            "text/plain": [
              "<seaborn.axisgrid.FacetGrid at 0x7f4dd389d390>"
            ]
          },
          "metadata": {
            "tags": []
          },
          "execution_count": 17
        },
        {
          "output_type": "display_data",
          "data": {
            "image/png": "[encoded data removed]",
            "text/plain": [
              "<Figure size 360x360 with 1 Axes>"
            ]
          },
          "metadata": {
            "tags": [],
            "needs_background": "light"
          }
        }
      ]
    },
    {
      "cell_type": "code",
      "metadata": {
        "colab": {
          "base_uri": "https://localhost:8080/",
          "height": 353
        },
        "id": "rTgJ5SMvHn5u",
        "outputId": "331e6919-e76e-4e51-8ecf-0b596cee80a4"
      },
      "source": [
        "data.groupby(['Gender','WFH Setup Available'])['Employee satisfaction score'].mean().plot(kind='bar')"
      ],
      "execution_count": 18,
      "outputs": [
        {
          "output_type": "execute_result",
          "data": {
            "text/plain": [
              "<matplotlib.axes._subplots.AxesSubplot at 0x7f4dd36b3e50>"
            ]
          },
          "metadata": {
            "tags": []
          },
          "execution_count": 18
        },
        {
          "output_type": "display_data",
          "data": {
            "image/png": "[encoded data removed]",
            "text/plain": [
              "<Figure size 432x288 with 1 Axes>"
            ]
          },
          "metadata": {
            "tags": [],
            "needs_background": "light"
          }
        }
      ]
    },
    {
      "cell_type": "markdown",
      "metadata": {
        "id": "yiUNUZgRBecC"
      },
      "source": [
        "__Analysing correlation between independent variables__"
      ]
    },
    {
      "cell_type": "code",
      "metadata": {
        "colab": {
          "base_uri": "https://localhost:8080/",
          "height": 539
        },
        "id": "got1Osm-NFJe",
        "outputId": "8af7326d-9281-4658-cce0-ddb220c1b42c"
      },
      "source": [
        "corr = data.drop(['Mental Fatigue Score'],axis=1).corr()\n",
        "plt.figure(figsize=(10,6))\n",
        "sns.heatmap(data=corr,annot=True,fmt='.2f')"
      ],
      "execution_count": 19,
      "outputs": [
        {
          "output_type": "execute_result",
          "data": {
            "text/plain": [
              "<matplotlib.axes._subplots.AxesSubplot at 0x7f4dd35bd490>"
            ]
          },
          "metadata": {
            "tags": []
          },
          "execution_count": 19
        },
        {
          "output_type": "display_data",
          "data": {
            "image/png": "[encoded data removed]",
            "text/plain": [
              "<Figure size 720x432 with 2 Axes>"
            ]
          },
          "metadata": {
            "tags": [],
            "needs_background": "light"
          }
        }
      ]
    },
    {
      "cell_type": "code",
      "metadata": {
        "colab": {
          "base_uri": "https://localhost:8080/",
          "height": 219
        },
        "id": "h-unc_Yt3chn",
        "outputId": "5605f048-d597-4f08-ee98-16a06c424524"
      },
      "source": [
        "data.drop(['Date of Joining','Age','Tenure','Vacations taken','Company Type'],axis=1,inplace=True)\n",
        "data.head()"
      ],
      "execution_count": 20,
      "outputs": [
        {
          "output_type": "execute_result",
          "data": {
            "text/html": [
              "<div>\n",
              "<style scoped>\n",
              "    .dataframe tbody tr th:only-of-type {\n",
              "        vertical-align: middle;\n",
              "    }\n",
              "\n",
              "    .dataframe tbody tr th {\n",
              "        vertical-align: top;\n",
              "    }\n",
              "\n",
              "    .dataframe thead th {\n",
              "        text-align: right;\n",
              "    }\n",
              "</style>\n",
              "<table border=\"1\" class=\"dataframe\">\n",
              "  <thead>\n",
              "    <tr style=\"text-align: right;\">\n",
              "      <th></th>\n",
              "      <th>Gender</th>\n",
              "      <th>WFH Setup Available</th>\n",
              "      <th>Designation</th>\n",
              "      <th>Average Hours worked per day</th>\n",
              "      <th>Employee satisfaction score</th>\n",
              "      <th>Mental Fatigue Score</th>\n",
              "    </tr>\n",
              "  </thead>\n",
              "  <tbody>\n",
              "    <tr>\n",
              "      <th>0</th>\n",
              "      <td>Female</td>\n",
              "      <td>No</td>\n",
              "      <td>2</td>\n",
              "      <td>3.0</td>\n",
              "      <td>3.8</td>\n",
              "      <td>0.16</td>\n",
              "    </tr>\n",
              "    <tr>\n",
              "      <th>1</th>\n",
              "      <td>Male</td>\n",
              "      <td>Yes</td>\n",
              "      <td>1</td>\n",
              "      <td>2.0</td>\n",
              "      <td>5.0</td>\n",
              "      <td>0.36</td>\n",
              "    </tr>\n",
              "    <tr>\n",
              "      <th>3</th>\n",
              "      <td>Male</td>\n",
              "      <td>Yes</td>\n",
              "      <td>1</td>\n",
              "      <td>1.0</td>\n",
              "      <td>2.6</td>\n",
              "      <td>0.20</td>\n",
              "    </tr>\n",
              "    <tr>\n",
              "      <th>4</th>\n",
              "      <td>Female</td>\n",
              "      <td>No</td>\n",
              "      <td>3</td>\n",
              "      <td>7.0</td>\n",
              "      <td>6.9</td>\n",
              "      <td>0.52</td>\n",
              "    </tr>\n",
              "    <tr>\n",
              "      <th>5</th>\n",
              "      <td>Male</td>\n",
              "      <td>Yes</td>\n",
              "      <td>2</td>\n",
              "      <td>4.0</td>\n",
              "      <td>3.6</td>\n",
              "      <td>0.29</td>\n",
              "    </tr>\n",
              "  </tbody>\n",
              "</table>\n",
              "</div>"
            ],
            "text/plain": [
              "   Gender WFH Setup Available  Designation  Average Hours worked per day  \\\n",
              "0  Female                  No            2                           3.0   \n",
              "1    Male                 Yes            1                           2.0   \n",
              "3    Male                 Yes            1                           1.0   \n",
              "4  Female                  No            3                           7.0   \n",
              "5    Male                 Yes            2                           4.0   \n",
              "\n",
              "   Employee satisfaction score  Mental Fatigue Score  \n",
              "0                          3.8                  0.16  \n",
              "1                          5.0                  0.36  \n",
              "3                          2.6                  0.20  \n",
              "4                          6.9                  0.52  \n",
              "5                          3.6                  0.29  "
            ]
          },
          "metadata": {
            "tags": []
          },
          "execution_count": 20
        }
      ]
    },
    {
      "cell_type": "markdown",
      "metadata": {
        "id": "2WFVivbCBecE"
      },
      "source": [
        "__Observations:__\n",
        "- Age and Tenure do not show a meaningfull relation for employees age and experience, and thus will be dropped.\n",
        "- Date of joining for all employees are in the same year and not helpful for predictions and so will be dropped.\n",
        "- Company type do no show any significance in terms of working pattern of employess and is dropped.\n",
        "-Vacations taken do have any importance in correlation and will not be considered.\n"
      ]
    },
    {
      "cell_type": "markdown",
      "metadata": {
        "id": "RrpEXCBOBecF"
      },
      "source": [
        "<a name=Section5></a>\n",
        "## 5. Encoding and Train Test Split the data"
      ]
    },
    {
      "cell_type": "code",
      "metadata": {
        "id": "H4ioyRh1Y5kZ"
      },
      "source": [
        "# using onehot encoding on Cat features\n",
        "def ApplyOneHot(data,feature):\n",
        "  data_dum = pd.get_dummies(data[feature],drop_first=True,prefix=feature)\n",
        "  data = pd.concat([data,data_dum],axis=1)\n",
        "  data.drop(feature,inplace=True,axis=1)\n",
        "  return data"
      ],
      "execution_count": 21,
      "outputs": []
    },
    {
      "cell_type": "code",
      "metadata": {
        "id": "KB_nDc4G3yML"
      },
      "source": [
        "data_uncorr = data.copy()"
      ],
      "execution_count": 22,
      "outputs": []
    },
    {
      "cell_type": "code",
      "metadata": {
        "colab": {
          "base_uri": "https://localhost:8080/",
          "height": 219
        },
        "id": "UYmIlhxxY_iG",
        "outputId": "fdb7599c-a56e-4c92-d2b5-4440a219f1c2"
      },
      "source": [
        "for col in data_uncorr.select_dtypes(include='category').columns:\n",
        "  data_uncorr =ApplyOneHot(data_uncorr,col)\n",
        "data_uncorr.head()"
      ],
      "execution_count": 23,
      "outputs": [
        {
          "output_type": "execute_result",
          "data": {
            "text/html": [
              "<div>\n",
              "<style scoped>\n",
              "    .dataframe tbody tr th:only-of-type {\n",
              "        vertical-align: middle;\n",
              "    }\n",
              "\n",
              "    .dataframe tbody tr th {\n",
              "        vertical-align: top;\n",
              "    }\n",
              "\n",
              "    .dataframe thead th {\n",
              "        text-align: right;\n",
              "    }\n",
              "</style>\n",
              "<table border=\"1\" class=\"dataframe\">\n",
              "  <thead>\n",
              "    <tr style=\"text-align: right;\">\n",
              "      <th></th>\n",
              "      <th>Designation</th>\n",
              "      <th>Average Hours worked per day</th>\n",
              "      <th>Employee satisfaction score</th>\n",
              "      <th>Mental Fatigue Score</th>\n",
              "      <th>Gender_Male</th>\n",
              "      <th>WFH Setup Available_Yes</th>\n",
              "    </tr>\n",
              "  </thead>\n",
              "  <tbody>\n",
              "    <tr>\n",
              "      <th>0</th>\n",
              "      <td>2</td>\n",
              "      <td>3.0</td>\n",
              "      <td>3.8</td>\n",
              "      <td>0.16</td>\n",
              "      <td>0</td>\n",
              "      <td>0</td>\n",
              "    </tr>\n",
              "    <tr>\n",
              "      <th>1</th>\n",
              "      <td>1</td>\n",
              "      <td>2.0</td>\n",
              "      <td>5.0</td>\n",
              "      <td>0.36</td>\n",
              "      <td>1</td>\n",
              "      <td>1</td>\n",
              "    </tr>\n",
              "    <tr>\n",
              "      <th>3</th>\n",
              "      <td>1</td>\n",
              "      <td>1.0</td>\n",
              "      <td>2.6</td>\n",
              "      <td>0.20</td>\n",
              "      <td>1</td>\n",
              "      <td>1</td>\n",
              "    </tr>\n",
              "    <tr>\n",
              "      <th>4</th>\n",
              "      <td>3</td>\n",
              "      <td>7.0</td>\n",
              "      <td>6.9</td>\n",
              "      <td>0.52</td>\n",
              "      <td>0</td>\n",
              "      <td>0</td>\n",
              "    </tr>\n",
              "    <tr>\n",
              "      <th>5</th>\n",
              "      <td>2</td>\n",
              "      <td>4.0</td>\n",
              "      <td>3.6</td>\n",
              "      <td>0.29</td>\n",
              "      <td>1</td>\n",
              "      <td>1</td>\n",
              "    </tr>\n",
              "  </tbody>\n",
              "</table>\n",
              "</div>"
            ],
            "text/plain": [
              "   Designation  Average Hours worked per day  Employee satisfaction score  \\\n",
              "0            2                           3.0                          3.8   \n",
              "1            1                           2.0                          5.0   \n",
              "3            1                           1.0                          2.6   \n",
              "4            3                           7.0                          6.9   \n",
              "5            2                           4.0                          3.6   \n",
              "\n",
              "   Mental Fatigue Score  Gender_Male  WFH Setup Available_Yes  \n",
              "0                  0.16            0                        0  \n",
              "1                  0.36            1                        1  \n",
              "3                  0.20            1                        1  \n",
              "4                  0.52            0                        0  \n",
              "5                  0.29            1                        1  "
            ]
          },
          "metadata": {
            "tags": []
          },
          "execution_count": 23
        }
      ]
    },
    {
      "cell_type": "code",
      "metadata": {
        "id": "UX_hIdDuZiKO"
      },
      "source": [
        "#Train test split\n",
        "X = data_uncorr.drop(['Mental Fatigue Score'],axis=1)\n",
        "y = data_uncorr['Mental Fatigue Score']\n",
        "X_train,X_test,y_train,y_test = train_test_split(X,y,test_size=0.2,random_state=42)"
      ],
      "execution_count": 24,
      "outputs": []
    },
    {
      "cell_type": "code",
      "metadata": {
        "colab": {
          "base_uri": "https://localhost:8080/"
        },
        "id": "A3gzzsLjBFpP",
        "outputId": "bb800e22-bc49-4ebe-c0e3-568a38a04564"
      },
      "source": [
        "print('Train and Test',X_train.shape,X_test.shape)"
      ],
      "execution_count": 25,
      "outputs": [
        {
          "output_type": "stream",
          "text": [
            "Train and Test (14936, 5) (3734, 5)\n"
          ],
          "name": "stdout"
        }
      ]
    },
    {
      "cell_type": "markdown",
      "metadata": {
        "id": "fvgaTTFNBecH"
      },
      "source": [
        "<a name=Section6></a>\n",
        "## 6. Fitting The Regression Models"
      ]
    },
    {
      "cell_type": "markdown",
      "metadata": {
        "id": "dZLw55K5zeqp"
      },
      "source": [
        "**Fitting and training the data on several popular Linear Regressor models and comparing the accuracy and RMSE**"
      ]
    },
    {
      "cell_type": "code",
      "metadata": {
        "id": "3KiRrrXmZyQd"
      },
      "source": [
        "def model_train_list(model_list):\n",
        "  # Create an empty list to append scores and Regressor name\n",
        "  train_scores = []\n",
        "  test_scores = []\n",
        "  rmse_test = []\n",
        "  rmse_train = []\n",
        "  reg_names = []\n",
        "\n",
        "  # Train Regressor over train data and append scores to empty list\n",
        "  for reg in model_list:\n",
        "    # Fit the train data over the Regressor object\n",
        "    start = time.time()\n",
        "    reg.fit(X_train, y_train)\n",
        "    y_predict = reg.predict(X_test) \n",
        "    y_predict_tr = reg.predict(X_train)  \n",
        "    end = time.time()\n",
        "    # Append train and test score to the empty list\n",
        "    train_scores.append(reg.score(X_train, y_train))\n",
        "    test_scores.append(reg.score(X_test, y_test))\n",
        "    rmse_train.append(math.sqrt(mean_squared_error(y_train,y_predict_tr)))\n",
        "    rmse_test.append(math.sqrt(mean_squared_error(y_test,y_predict)))               \n",
        "    reg_names.append(reg.__class__.__name__)\n",
        "    print(reg.__class__.__name__,':',np.round(end-start,decimals=2),'secs \\n')\n",
        "  #Create an accuracy dataframe from scores and names list\n",
        "  accuracy_frame = pd.DataFrame(data={'Train Accuracy': train_scores, 'Test Accuracy': test_scores, 'Train RMSE': rmse_train,\n",
        "                                    'Test RMSE':rmse_test}, index=reg_names)\n",
        "  #View the accuracy of all the regressors\n",
        "  return accuracy_frame.round(5)"
      ],
      "execution_count": 26,
      "outputs": []
    },
    {
      "cell_type": "code",
      "metadata": {
        "id": "mxRe_PTlAV9c"
      },
      "source": [
        "def model_fit_predict(model):\n",
        "  model.fit(X_train, y_train)\n",
        "  y_predict = model.predict(X_test) \n",
        "  y_predict_tr = model.predict(X_train)  \n",
        "  rmse_test = math.sqrt(mean_squared_error(y_test,y_predict))\n",
        "  rmse_train = math.sqrt(mean_squared_error(y_train,y_predict_tr))\n",
        "  # Append train and test score to the empty list\n",
        "  accuracy_frame = pd.DataFrame(data={'Accuracy': [model.score(X_train, y_train),model.score(X_test, y_test)], \n",
        "                                      'RMSE': [rmse_train,rmse_test]}, \n",
        "                                      index=['Train','Test'])\n",
        "\n",
        "  print(accuracy_frame.round(5))"
      ],
      "execution_count": 27,
      "outputs": []
    },
    {
      "cell_type": "code",
      "metadata": {
        "id": "y-5pyEzRZzWF"
      },
      "source": [
        "# Initialize Regressors\n",
        "lr   = LinearRegression()\n",
        "svr  = SVR()\n",
        "dt   = DecisionTreeRegressor(random_state = 42)\n",
        "rf   = RandomForestRegressor(random_state = 42)\n",
        "ls   = Lasso(random_state = 42)\n",
        "knn  = KNeighborsRegressor()\n",
        "kr   = KernelRidge()\n",
        "en   = ElasticNet()\n",
        "par  = PassiveAggressiveRegressor(random_state=42)\n",
        "br   = BayesianRidge()\n",
        "lar  = Lars()\n",
        "rd   = Ridge(random_state=42)\n",
        "sgd  = SGDRegressor(random_state=42)"
      ],
      "execution_count": 28,
      "outputs": []
    },
    {
      "cell_type": "code",
      "metadata": {
        "colab": {
          "base_uri": "https://localhost:8080/"
        },
        "id": "iGUEZTIwm834",
        "outputId": "57f07843-6d73-4b43-8f4b-b84f2bc11039"
      },
      "source": [
        "# Train the list of Regressor objects\n",
        "%%time\n",
        "reg_list = [lr, lar, ls, rd, br, kr, en, dt, rf, svr, knn, par, sgd]\n",
        "accuracy_frame = model_train_list(reg_list)"
      ],
      "execution_count": null,
      "outputs": [
        {
          "output_type": "stream",
          "text": [
            "LinearRegression : 0.03 secs \n",
            "\n",
            "Lars : 0.01 secs \n",
            "\n",
            "Lasso : 0.01 secs \n",
            "\n",
            "Ridge : 0.01 secs \n",
            "\n",
            "BayesianRidge : 0.01 secs \n",
            "\n",
            "KernelRidge : 35.71 secs \n",
            "\n",
            "ElasticNet : 0.01 secs \n",
            "\n",
            "DecisionTreeRegressor : 0.03 secs \n",
            "\n",
            "RandomForestRegressor : 1.68 secs \n",
            "\n",
            "SVR : 1.66 secs \n",
            "\n",
            "KNeighborsRegressor : 0.2 secs \n",
            "\n",
            "PassiveAggressiveRegressor : 0.01 secs \n",
            "\n",
            "SGDRegressor : 0.02 secs \n",
            "\n",
            "CPU times: user 1min 9s, sys: 3.67 s, total: 1min 13s\n",
            "Wall time: 41 s\n"
          ],
          "name": "stdout"
        }
      ]
    },
    {
      "cell_type": "code",
      "metadata": {
        "colab": {
          "base_uri": "https://localhost:8080/",
          "height": 447
        },
        "id": "OG-LJ6dy4-oU",
        "outputId": "dde7f62b-45f9-4b72-c3c8-4e80cef68894"
      },
      "source": [
        "accuracy_frame.sort_values(by=['Test Accuracy'],ascending=False)"
      ],
      "execution_count": null,
      "outputs": [
        {
          "output_type": "execute_result",
          "data": {
            "text/html": [
              "<div>\n",
              "<style scoped>\n",
              "    .dataframe tbody tr th:only-of-type {\n",
              "        vertical-align: middle;\n",
              "    }\n",
              "\n",
              "    .dataframe tbody tr th {\n",
              "        vertical-align: top;\n",
              "    }\n",
              "\n",
              "    .dataframe thead th {\n",
              "        text-align: right;\n",
              "    }\n",
              "</style>\n",
              "<table border=\"1\" class=\"dataframe\">\n",
              "  <thead>\n",
              "    <tr style=\"text-align: right;\">\n",
              "      <th></th>\n",
              "      <th>Train Accuracy</th>\n",
              "      <th>Test Accuracy</th>\n",
              "      <th>Train RMSE</th>\n",
              "      <th>Test RMSE</th>\n",
              "    </tr>\n",
              "  </thead>\n",
              "  <tbody>\n",
              "    <tr>\n",
              "      <th>LinearRegression</th>\n",
              "      <td>0.89733</td>\n",
              "      <td>0.89817</td>\n",
              "      <td>0.06366</td>\n",
              "      <td>0.06489</td>\n",
              "    </tr>\n",
              "    <tr>\n",
              "      <th>Lars</th>\n",
              "      <td>0.89733</td>\n",
              "      <td>0.89817</td>\n",
              "      <td>0.06366</td>\n",
              "      <td>0.06489</td>\n",
              "    </tr>\n",
              "    <tr>\n",
              "      <th>Ridge</th>\n",
              "      <td>0.89733</td>\n",
              "      <td>0.89817</td>\n",
              "      <td>0.06366</td>\n",
              "      <td>0.06489</td>\n",
              "    </tr>\n",
              "    <tr>\n",
              "      <th>BayesianRidge</th>\n",
              "      <td>0.89733</td>\n",
              "      <td>0.89817</td>\n",
              "      <td>0.06366</td>\n",
              "      <td>0.06489</td>\n",
              "    </tr>\n",
              "    <tr>\n",
              "      <th>SGDRegressor</th>\n",
              "      <td>0.89412</td>\n",
              "      <td>0.89545</td>\n",
              "      <td>0.06465</td>\n",
              "      <td>0.06575</td>\n",
              "    </tr>\n",
              "    <tr>\n",
              "      <th>RandomForestRegressor</th>\n",
              "      <td>0.92589</td>\n",
              "      <td>0.89088</td>\n",
              "      <td>0.05409</td>\n",
              "      <td>0.06717</td>\n",
              "    </tr>\n",
              "    <tr>\n",
              "      <th>SVR</th>\n",
              "      <td>0.88921</td>\n",
              "      <td>0.88886</td>\n",
              "      <td>0.06613</td>\n",
              "      <td>0.06779</td>\n",
              "    </tr>\n",
              "    <tr>\n",
              "      <th>KNeighborsRegressor</th>\n",
              "      <td>0.91304</td>\n",
              "      <td>0.88697</td>\n",
              "      <td>0.05859</td>\n",
              "      <td>0.06836</td>\n",
              "    </tr>\n",
              "    <tr>\n",
              "      <th>PassiveAggressiveRegressor</th>\n",
              "      <td>0.88599</td>\n",
              "      <td>0.88666</td>\n",
              "      <td>0.06708</td>\n",
              "      <td>0.06846</td>\n",
              "    </tr>\n",
              "    <tr>\n",
              "      <th>KernelRidge</th>\n",
              "      <td>0.88418</td>\n",
              "      <td>0.88661</td>\n",
              "      <td>0.06761</td>\n",
              "      <td>0.06847</td>\n",
              "    </tr>\n",
              "    <tr>\n",
              "      <th>DecisionTreeRegressor</th>\n",
              "      <td>0.92730</td>\n",
              "      <td>0.88254</td>\n",
              "      <td>0.05357</td>\n",
              "      <td>0.06969</td>\n",
              "    </tr>\n",
              "    <tr>\n",
              "      <th>Lasso</th>\n",
              "      <td>0.00000</td>\n",
              "      <td>-0.00009</td>\n",
              "      <td>0.19867</td>\n",
              "      <td>0.20336</td>\n",
              "    </tr>\n",
              "    <tr>\n",
              "      <th>ElasticNet</th>\n",
              "      <td>0.00000</td>\n",
              "      <td>-0.00009</td>\n",
              "      <td>0.19867</td>\n",
              "      <td>0.20336</td>\n",
              "    </tr>\n",
              "  </tbody>\n",
              "</table>\n",
              "</div>"
            ],
            "text/plain": [
              "                            Train Accuracy  Test Accuracy  Train RMSE  \\\n",
              "LinearRegression                   0.89733        0.89817     0.06366   \n",
              "Lars                               0.89733        0.89817     0.06366   \n",
              "Ridge                              0.89733        0.89817     0.06366   \n",
              "BayesianRidge                      0.89733        0.89817     0.06366   \n",
              "SGDRegressor                       0.89412        0.89545     0.06465   \n",
              "RandomForestRegressor              0.92589        0.89088     0.05409   \n",
              "SVR                                0.88921        0.88886     0.06613   \n",
              "KNeighborsRegressor                0.91304        0.88697     0.05859   \n",
              "PassiveAggressiveRegressor         0.88599        0.88666     0.06708   \n",
              "KernelRidge                        0.88418        0.88661     0.06761   \n",
              "DecisionTreeRegressor              0.92730        0.88254     0.05357   \n",
              "Lasso                              0.00000       -0.00009     0.19867   \n",
              "ElasticNet                         0.00000       -0.00009     0.19867   \n",
              "\n",
              "                            Test RMSE  \n",
              "LinearRegression              0.06489  \n",
              "Lars                          0.06489  \n",
              "Ridge                         0.06489  \n",
              "BayesianRidge                 0.06489  \n",
              "SGDRegressor                  0.06575  \n",
              "RandomForestRegressor         0.06717  \n",
              "SVR                           0.06779  \n",
              "KNeighborsRegressor           0.06836  \n",
              "PassiveAggressiveRegressor    0.06846  \n",
              "KernelRidge                   0.06847  \n",
              "DecisionTreeRegressor         0.06969  \n",
              "Lasso                         0.20336  \n",
              "ElasticNet                    0.20336  "
            ]
          },
          "metadata": {
            "tags": []
          },
          "execution_count": 30
        }
      ]
    },
    {
      "cell_type": "markdown",
      "metadata": {
        "id": "gArjnTelzSGZ"
      },
      "source": [
        "- *LinearRegression* is the best model from all the other model in terms of high accuracy and low RMSE.\n",
        "- Hyper tuning of the models BayesianRidge, SGDRegressor, RandomForestRegressor, SVR, KNeighborsRegressor, KernelRidge"
      ]
    },
    {
      "cell_type": "markdown",
      "metadata": {
        "id": "SjyHnNvQroiF"
      },
      "source": [
        "<a name=Section7></a>\n",
        "## 7. Hyper Paramter Tuning"
      ]
    },
    {
      "cell_type": "markdown",
      "metadata": {
        "id": "np2Lcs7c9u2m"
      },
      "source": [
        "<a name=Section701></a>\n",
        "### 7.1 Random Forest"
      ]
    },
    {
      "cell_type": "markdown",
      "metadata": {
        "id": "so8K5wQQrnv4"
      },
      "source": [
        "The Random Forest Model will be tuned using __RandomSearch__ for better rmse score\n",
        "and to reduce the overfitting"
      ]
    },
    {
      "cell_type": "code",
      "metadata": {
        "id": "ivwU9Vfvrrql"
      },
      "source": [
        "# parameters for RandomSearchCV\n",
        "# Number of trees in random forest\n",
        "n_estimators = [10,20,50,100,200,300]\n",
        "# Number of features to consider at every split\n",
        "max_features = ['auto','log2','sqrt']\n",
        "# Maximum number of levels in tree\n",
        "max_depth = [2,4,6,8,10]\n",
        "max_depth.append(None)\n",
        "param_dist = {'n_estimators': n_estimators,\n",
        "               'criterion': ['mse','mae'],\n",
        "               'max_depth': max_depth,\n",
        "               'min_samples_split': range(3, 11),\n",
        "               'min_samples_leaf': range(1, 5),\n",
        "               'max_features': max_features,\n",
        "               'bootstrap':[True,False]\n",
        "               }\n",
        "# run randomized search\n",
        "n_iter_search = 50\n",
        "\n",
        "seed =13\n",
        "kfold= KFold(n_splits=3,shuffle=True,random_state=seed)\n",
        "\n",
        "rf_CV = RandomizedSearchCV(estimator = rf, param_distributions = param_dist,\n",
        "                                  n_iter = n_iter_search, cv= kfold,\n",
        "                                  n_jobs = -1,scoring='r2',verbose=2)"
      ],
      "execution_count": null,
      "outputs": []
    },
    {
      "cell_type": "code",
      "metadata": {
        "colab": {
          "base_uri": "https://localhost:8080/"
        },
        "id": "CMXCPIQgsHnP",
        "outputId": "ea6051fb-60e4-4bb9-9b8c-66e4fdb0e877"
      },
      "source": [
        "#%%time\n",
        "#rf_CV.fit(X,y)"
      ],
      "execution_count": null,
      "outputs": [
        {
          "output_type": "stream",
          "text": [
            "Fitting 3 folds for each of 50 candidates, totalling 150 fits\n"
          ],
          "name": "stdout"
        },
        {
          "output_type": "stream",
          "text": [
            "[Parallel(n_jobs=-1)]: Using backend LokyBackend with 2 concurrent workers.\n",
            "[Parallel(n_jobs=-1)]: Done  37 tasks      | elapsed: 14.1min\n",
            "[Parallel(n_jobs=-1)]: Done 150 out of 150 | elapsed: 43.9min finished\n"
          ],
          "name": "stderr"
        },
        {
          "output_type": "stream",
          "text": [
            "CPU times: user 15.8 s, sys: 6.05 s, total: 21.8 s\n",
            "Wall time: 43min 53s\n"
          ],
          "name": "stdout"
        },
        {
          "output_type": "execute_result",
          "data": {
            "text/plain": [
              "RandomizedSearchCV(cv=KFold(n_splits=3, random_state=13, shuffle=True),\n",
              "                   error_score=nan,\n",
              "                   estimator=RandomForestRegressor(bootstrap=True,\n",
              "                                                   ccp_alpha=0.0,\n",
              "                                                   criterion='mse',\n",
              "                                                   max_depth=None,\n",
              "                                                   max_features='auto',\n",
              "                                                   max_leaf_nodes=None,\n",
              "                                                   max_samples=None,\n",
              "                                                   min_impurity_decrease=0.0,\n",
              "                                                   min_impurity_split=None,\n",
              "                                                   min_samples_leaf=1,\n",
              "                                                   min_samples_split=2,\n",
              "                                                   min_weight_fraction_leaf=0....\n",
              "                   iid='deprecated', n_iter=50, n_jobs=-1,\n",
              "                   param_distributions={'bootstrap': [True, False],\n",
              "                                        'criterion': ['mse', 'mae'],\n",
              "                                        'max_depth': [2, 4, 6, 8, 10, 12, None],\n",
              "                                        'max_features': ['auto', 'log2',\n",
              "                                                         'sqrt'],\n",
              "                                        'min_samples_leaf': range(1, 5),\n",
              "                                        'min_samples_split': range(3, 11),\n",
              "                                        'n_estimators': [10, 20, 50, 100, 200,\n",
              "                                                         300]},\n",
              "                   pre_dispatch='2*n_jobs', random_state=None, refit=True,\n",
              "                   return_train_score=False, scoring='r2', verbose=2)"
            ]
          },
          "metadata": {
            "tags": []
          },
          "execution_count": 53
        }
      ]
    },
    {
      "cell_type": "code",
      "metadata": {
        "colab": {
          "base_uri": "https://localhost:8080/"
        },
        "id": "573RiOGBBjLk",
        "outputId": "ef64f8dc-0ce2-4aab-ab0a-cfe3230dcdf7"
      },
      "source": [
        "print('Best R2:',rf_CV.best_score_)\n",
        "print('Best Parameters:',rf_CV.best_params_)"
      ],
      "execution_count": null,
      "outputs": [
        {
          "output_type": "stream",
          "text": [
            "Best R2: 0.9040884398696831\n",
            "Best Parameters: {'n_estimators': 200, 'min_samples_split': 3, 'min_samples_leaf': 3, 'max_features': 'log2', 'max_depth': 10, 'criterion': 'mse', 'bootstrap': True}\n"
          ],
          "name": "stdout"
        }
      ]
    },
    {
      "cell_type": "code",
      "metadata": {
        "id": "wvGtwC01JYrT"
      },
      "source": [
        "rf_r2 = RandomForestRegressor(bootstrap=True, ccp_alpha=0.0, criterion='mse',\n",
        "                        max_depth=8, max_features=None, max_leaf_nodes=None,\n",
        "                        max_samples=None, min_impurity_decrease=0.0,\n",
        "                        min_impurity_split=None, min_samples_leaf=3,\n",
        "                        min_samples_split=5, min_weight_fraction_leaf=0.0,\n",
        "                        n_estimators=500, n_jobs=-1, oob_score=False,\n",
        "                        random_state=42, verbose=0, warm_start=False)"
      ],
      "execution_count": 29,
      "outputs": []
    },
    {
      "cell_type": "code",
      "metadata": {
        "colab": {
          "base_uri": "https://localhost:8080/"
        },
        "id": "ojJQ8gdKJhQZ",
        "outputId": "4a55fd35-eb06-42ef-d2fe-3dcc787aaa43"
      },
      "source": [
        "%%time\n",
        "print(rf_r2.__class__.__name__,\"Accuracy tuned:\")\n",
        "model_fit_predict(rf_r2)"
      ],
      "execution_count": null,
      "outputs": [
        {
          "output_type": "stream",
          "text": [
            "RandomForestRegressor Accuracy tuned:\n",
            "       Accuracy     RMSE\n",
            "Train   0.91069  0.05937\n",
            "Test    0.90405  0.06299\n",
            "CPU times: user 2.69 s, sys: 13.5 ms, total: 2.71 s\n",
            "Wall time: 2.71 s\n"
          ],
          "name": "stdout"
        }
      ]
    },
    {
      "cell_type": "markdown",
      "metadata": {
        "id": "ySn5GomJDIU1"
      },
      "source": [
        "<a name=Section702></a>\n",
        "### 7.2 SVR"
      ]
    },
    {
      "cell_type": "code",
      "metadata": {
        "id": "0oldR7v5DdGQ"
      },
      "source": [
        "# Parameters for tuning\n",
        "parameters = [\n",
        "              {'kernel': ['rbf'],\n",
        "               'gamma': [1e-4, 1e-3, 0.01, 0.1, 0.2, 0.5, 0.6, 0.9],\n",
        "               'C': [1,3,5,7,10]\n",
        "               }\n",
        "              ]\n",
        "\n",
        "# run randomized search\n",
        "n_iter_search = 50\n",
        "#neg_root_mean_squared_error\n",
        "svr_CV = RandomizedSearchCV(estimator = svr, param_distributions = parameters,\n",
        "                                  n_iter = n_iter_search, cv= kfold,\n",
        "                                  n_jobs = -1,scoring='r2',verbose=2)"
      ],
      "execution_count": null,
      "outputs": []
    },
    {
      "cell_type": "code",
      "metadata": {
        "colab": {
          "base_uri": "https://localhost:8080/"
        },
        "id": "HqgYWz_lQgtv",
        "outputId": "f72f1983-a842-4dbf-f254-969dc53c0dd8"
      },
      "source": [
        "%%time\n",
        "#svr_CV.fit(X,y)"
      ],
      "execution_count": null,
      "outputs": [
        {
          "output_type": "stream",
          "text": [
            "/usr/local/lib/python3.7/dist-packages/sklearn/model_selection/_search.py:281: UserWarning: The total space of parameters 40 is smaller than n_iter=50. Running 40 iterations. For exhaustive searches, use GridSearchCV.\n",
            "  % (grid_size, self.n_iter, grid_size), UserWarning)\n",
            "[Parallel(n_jobs=-1)]: Using backend LokyBackend with 2 concurrent workers.\n"
          ],
          "name": "stderr"
        },
        {
          "output_type": "stream",
          "text": [
            "Fitting 3 folds for each of 40 candidates, totalling 120 fits\n"
          ],
          "name": "stdout"
        },
        {
          "output_type": "stream",
          "text": [
            "[Parallel(n_jobs=-1)]: Done  37 tasks      | elapsed:   31.9s\n",
            "[Parallel(n_jobs=-1)]: Done 120 out of 120 | elapsed:  2.3min finished\n"
          ],
          "name": "stderr"
        },
        {
          "output_type": "stream",
          "text": [
            "CPU times: user 3.36 s, sys: 441 ms, total: 3.8 s\n",
            "Wall time: 2min 21s\n"
          ],
          "name": "stdout"
        },
        {
          "output_type": "execute_result",
          "data": {
            "text/plain": [
              "RandomizedSearchCV(cv=KFold(n_splits=3, random_state=13, shuffle=True),\n",
              "                   error_score=nan,\n",
              "                   estimator=SVR(C=1.0, cache_size=200, coef0=0.0, degree=3,\n",
              "                                 epsilon=0.1, gamma='scale', kernel='rbf',\n",
              "                                 max_iter=-1, shrinking=True, tol=0.001,\n",
              "                                 verbose=False),\n",
              "                   iid='deprecated', n_iter=50, n_jobs=-1,\n",
              "                   param_distributions=[{'C': [1, 3, 5, 7, 10],\n",
              "                                         'gamma': [0.0001, 0.001, 0.01, 0.1,\n",
              "                                                   0.2, 0.5, 0.6, 0.9],\n",
              "                                         'kernel': ['rbf']}],\n",
              "                   pre_dispatch='2*n_jobs', random_state=None, refit=True,\n",
              "                   return_train_score=False, scoring='r2', verbose=2)"
            ]
          },
          "metadata": {
            "tags": []
          },
          "execution_count": 104
        }
      ]
    },
    {
      "cell_type": "code",
      "metadata": {
        "colab": {
          "base_uri": "https://localhost:8080/"
        },
        "id": "sfEI4rF5Uhjd",
        "outputId": "bcc3611e-ea2f-48fa-8fa8-9590827b5cc7"
      },
      "source": [
        "svr_CV.best_estimator_"
      ],
      "execution_count": null,
      "outputs": [
        {
          "output_type": "execute_result",
          "data": {
            "text/plain": [
              "SVR(C=1, cache_size=200, coef0=0.0, degree=3, epsilon=0.1, gamma=0.0001,\n",
              "    kernel='rbf', max_iter=-1, shrinking=True, tol=0.001, verbose=False)"
            ]
          },
          "metadata": {
            "tags": []
          },
          "execution_count": 107
        }
      ]
    },
    {
      "cell_type": "code",
      "metadata": {
        "id": "1cCuble8TQLP"
      },
      "source": [
        "svr_r2 = SVR(C=2, cache_size=200, coef0=0.0, degree=3, epsilon=0.01, gamma=0.1,\n",
        "    kernel='rbf', max_iter=-1, shrinking=True, tol=0.001, verbose=False)"
      ],
      "execution_count": 30,
      "outputs": []
    },
    {
      "cell_type": "code",
      "metadata": {
        "colab": {
          "base_uri": "https://localhost:8080/"
        },
        "id": "2lRh2QFqTVP3",
        "outputId": "e71730c5-2389-456d-851a-b120bf7af534"
      },
      "source": [
        "%%time\n",
        "print(svr_r2.__class__.__name__,\"Accuracy tuned:\")\n",
        "model_fit_predict(svr_r2)"
      ],
      "execution_count": null,
      "outputs": [
        {
          "output_type": "stream",
          "text": [
            "SVR Accuracy tuned:\n",
            "       Accuracy     RMSE\n",
            "Train   0.90595  0.06093\n",
            "Test    0.90454  0.06283\n",
            "CPU times: user 33.8 s, sys: 47 ms, total: 33.8 s\n",
            "Wall time: 33.7 s\n"
          ],
          "name": "stdout"
        }
      ]
    },
    {
      "cell_type": "markdown",
      "metadata": {
        "id": "4cDOHjG9WAK7"
      },
      "source": [
        "<a name=Section703></a>\n",
        "### 7.3 KNeighbors Regressor"
      ]
    },
    {
      "cell_type": "code",
      "metadata": {
        "id": "XShqakdsWPBT"
      },
      "source": [
        "# parameters for RandomSearchCV\n",
        "l_neigbours = list(np.arange(4,100,1))\n",
        "param_grid = [{'n_neighbors':l_neigbours,\n",
        "               'weights':['uniform','distance']}]\n",
        "# run randomized search\n",
        "n_iter_search = 100\n",
        "#neg_root_mean_squared_error\n",
        "knn_CV = GridSearchCV(estimator = knn, param_grid = param_grid,\n",
        "                                  cv= kfold, verbose = 2,\n",
        "                                  n_jobs = -1,scoring='r2')"
      ],
      "execution_count": null,
      "outputs": []
    },
    {
      "cell_type": "code",
      "metadata": {
        "colab": {
          "base_uri": "https://localhost:8080/"
        },
        "id": "H6Tnl25YWYDb",
        "outputId": "44beb9a5-916c-44ac-813d-4e246418d380"
      },
      "source": [
        "%%time\n",
        "#knn_CV.fit(X,y)"
      ],
      "execution_count": null,
      "outputs": [
        {
          "output_type": "stream",
          "text": [
            "Fitting 3 folds for each of 192 candidates, totalling 576 fits\n"
          ],
          "name": "stdout"
        },
        {
          "output_type": "stream",
          "text": [
            "[Parallel(n_jobs=-1)]: Using backend LokyBackend with 2 concurrent workers.\n",
            "[Parallel(n_jobs=-1)]: Done  37 tasks      | elapsed:    4.3s\n",
            "[Parallel(n_jobs=-1)]: Done 158 tasks      | elapsed:   18.1s\n",
            "[Parallel(n_jobs=-1)]: Done 361 tasks      | elapsed:   54.5s\n"
          ],
          "name": "stderr"
        },
        {
          "output_type": "stream",
          "text": [
            "CPU times: user 5.22 s, sys: 512 ms, total: 5.73 s\n",
            "Wall time: 1min 47s\n"
          ],
          "name": "stdout"
        },
        {
          "output_type": "stream",
          "text": [
            "[Parallel(n_jobs=-1)]: Done 576 out of 576 | elapsed:  1.8min finished\n"
          ],
          "name": "stderr"
        },
        {
          "output_type": "execute_result",
          "data": {
            "text/plain": [
              "GridSearchCV(cv=KFold(n_splits=3, random_state=13, shuffle=True),\n",
              "             error_score=nan,\n",
              "             estimator=KNeighborsRegressor(algorithm='auto', leaf_size=30,\n",
              "                                           metric='minkowski',\n",
              "                                           metric_params=None, n_jobs=None,\n",
              "                                           n_neighbors=5, p=2,\n",
              "                                           weights='uniform'),\n",
              "             iid='deprecated', n_jobs=-1,\n",
              "             param_grid=[{'n_neighbors': [4, 5, 6, 7, 8, 9, 10, 11, 12, 13, 14,\n",
              "                                          15, 16, 17, 18, 19, 20, 21, 22, 23,\n",
              "                                          24, 25, 26, 27, 28, 29, 30, 31, 32,\n",
              "                                          33, ...],\n",
              "                          'weights': ['uniform', 'distance']}],\n",
              "             pre_dispatch='2*n_jobs', refit=True, return_train_score=False,\n",
              "             scoring='r2', verbose=2)"
            ]
          },
          "metadata": {
            "tags": []
          },
          "execution_count": 119
        }
      ]
    },
    {
      "cell_type": "code",
      "metadata": {
        "colab": {
          "base_uri": "https://localhost:8080/"
        },
        "id": "Q6mikaN3Xhb6",
        "outputId": "c6d79be8-2382-4bb3-a035-8b6e6ab67384"
      },
      "source": [
        "print('Best R2:',knn_CV.best_score_)\n",
        "print('Best Parameters:',knn_CV.best_params_)"
      ],
      "execution_count": null,
      "outputs": [
        {
          "output_type": "stream",
          "text": [
            "Best R2: 0.9013638174048224\n",
            "Best Parameters: {'n_neighbors': 33, 'weights': 'uniform'}\n"
          ],
          "name": "stdout"
        }
      ]
    },
    {
      "cell_type": "code",
      "metadata": {
        "colab": {
          "base_uri": "https://localhost:8080/"
        },
        "id": "k-L97zkI3dn6",
        "outputId": "a0d811ce-00cb-4454-e1d4-6b7ff1dd0d00"
      },
      "source": [
        "knn_CV.best_estimator_"
      ],
      "execution_count": null,
      "outputs": [
        {
          "output_type": "execute_result",
          "data": {
            "text/plain": [
              "KNeighborsRegressor(algorithm='auto', leaf_size=30, metric='minkowski',\n",
              "                    metric_params=None, n_jobs=None, n_neighbors=33, p=2,\n",
              "                    weights='uniform')"
            ]
          },
          "metadata": {
            "tags": []
          },
          "execution_count": 217
        }
      ]
    },
    {
      "cell_type": "code",
      "metadata": {
        "id": "P8ZWzGqsW73m"
      },
      "source": [
        "knn_r2 = KNeighborsRegressor(algorithm='auto', leaf_size=30, metric='minkowski',\n",
        "                    metric_params=None, n_jobs=None, n_neighbors=15, p=2,\n",
        "                    weights='uniform')"
      ],
      "execution_count": 31,
      "outputs": []
    },
    {
      "cell_type": "code",
      "metadata": {
        "colab": {
          "base_uri": "https://localhost:8080/"
        },
        "id": "v2emVcftXAnJ",
        "outputId": "36ee09ba-ee85-4715-9c90-64beea39e75c"
      },
      "source": [
        "%%time\n",
        "print(knn_r2.__class__.__name__,\"Accuracy tuned:\")\n",
        "model_fit_predict(knn_r2)"
      ],
      "execution_count": null,
      "outputs": [
        {
          "output_type": "stream",
          "text": [
            "KNeighborsRegressor Accuracy tuned:\n",
            "       Accuracy     RMSE\n",
            "Train   0.90751  0.06042\n",
            "Test    0.90237  0.06354\n",
            "CPU times: user 960 ms, sys: 7.05 ms, total: 967 ms\n",
            "Wall time: 967 ms\n"
          ],
          "name": "stdout"
        }
      ]
    },
    {
      "cell_type": "markdown",
      "metadata": {
        "id": "gyKXMdyUX0Ge"
      },
      "source": [
        "<a name=Section704></a>\n",
        "### 7.4 Ridge"
      ]
    },
    {
      "cell_type": "code",
      "metadata": {
        "id": "xga6EHa_YXv8"
      },
      "source": [
        "param_grid = {\n",
        "    'alpha':list(range(1,500,1))\n",
        "    }\n",
        "# run randomized search\n",
        "n_iter_search = 500\n",
        "#neg_root_mean_squared_error\n",
        "rd_CV = RandomizedSearchCV(estimator = rd, param_distributions = param_grid,\n",
        "                                  n_iter = n_iter_search, cv= kfold,\n",
        "                                  n_jobs = -1,scoring='r2',verbose=2)"
      ],
      "execution_count": null,
      "outputs": []
    },
    {
      "cell_type": "code",
      "metadata": {
        "colab": {
          "base_uri": "https://localhost:8080/"
        },
        "id": "fOF7A_IAYh9a",
        "outputId": "af0aecc5-460b-420b-8af5-ce98364a9753"
      },
      "source": [
        "#%%time\n",
        "#rd_CV.fit(X,y)"
      ],
      "execution_count": null,
      "outputs": [
        {
          "output_type": "stream",
          "text": [
            "Fitting 3 folds for each of 499 candidates, totalling 1497 fits\n"
          ],
          "name": "stdout"
        },
        {
          "output_type": "stream",
          "text": [
            "/usr/local/lib/python3.7/dist-packages/sklearn/model_selection/_search.py:281: UserWarning: The total space of parameters 499 is smaller than n_iter=500. Running 499 iterations. For exhaustive searches, use GridSearchCV.\n",
            "  % (grid_size, self.n_iter, grid_size), UserWarning)\n",
            "[Parallel(n_jobs=-1)]: Using backend LokyBackend with 2 concurrent workers.\n",
            "[Parallel(n_jobs=-1)]: Done 186 tasks      | elapsed:    2.5s\n"
          ],
          "name": "stderr"
        },
        {
          "output_type": "stream",
          "text": [
            "CPU times: user 1.9 s, sys: 181 ms, total: 2.08 s\n",
            "Wall time: 9.78 s\n"
          ],
          "name": "stdout"
        },
        {
          "output_type": "stream",
          "text": [
            "[Parallel(n_jobs=-1)]: Done 1497 out of 1497 | elapsed:    9.8s finished\n"
          ],
          "name": "stderr"
        },
        {
          "output_type": "execute_result",
          "data": {
            "text/plain": [
              "RandomizedSearchCV(cv=KFold(n_splits=3, random_state=13, shuffle=True),\n",
              "                   error_score=nan,\n",
              "                   estimator=Ridge(alpha=1.0, copy_X=True, fit_intercept=True,\n",
              "                                   max_iter=None, normalize=False,\n",
              "                                   random_state=42, solver='auto', tol=0.001),\n",
              "                   iid='deprecated', n_iter=500, n_jobs=-1,\n",
              "                   param_distributions={'alpha': [1, 2, 3, 4, 5, 6, 7, 8, 9, 10,\n",
              "                                                  11, 12, 13, 14, 15, 16, 17,\n",
              "                                                  18, 19, 20, 21, 22, 23, 24,\n",
              "                                                  25, 26, 27, 28, 29, 30, ...]},\n",
              "                   pre_dispatch='2*n_jobs', random_state=None, refit=True,\n",
              "                   return_train_score=False, scoring='r2', verbose=2)"
            ]
          },
          "metadata": {
            "tags": []
          },
          "execution_count": 126
        }
      ]
    },
    {
      "cell_type": "code",
      "metadata": {
        "colab": {
          "base_uri": "https://localhost:8080/"
        },
        "id": "0iLG0_-PYq8T",
        "outputId": "e61f61fc-bb0b-4831-e649-6ba5846ec22e"
      },
      "source": [
        "print('Best R2:',rd_CV.best_score_)\n",
        "print('Best Parameters:',rd_CV.best_params_)"
      ],
      "execution_count": null,
      "outputs": [
        {
          "output_type": "stream",
          "text": [
            "Best R2: 0.8974765256915864\n",
            "Best Parameters: {'alpha': 15}\n"
          ],
          "name": "stdout"
        }
      ]
    },
    {
      "cell_type": "code",
      "metadata": {
        "colab": {
          "base_uri": "https://localhost:8080/"
        },
        "id": "bENi6Q723pNp",
        "outputId": "ab2cc8e1-505c-4db4-9eb3-f21219e6cd44"
      },
      "source": [
        "rd_CV.best_estimator_"
      ],
      "execution_count": null,
      "outputs": [
        {
          "output_type": "execute_result",
          "data": {
            "text/plain": [
              "Ridge(alpha=15, copy_X=True, fit_intercept=True, max_iter=None, normalize=False,\n",
              "      random_state=42, solver='auto', tol=0.001)"
            ]
          },
          "metadata": {
            "tags": []
          },
          "execution_count": 219
        }
      ]
    },
    {
      "cell_type": "code",
      "metadata": {
        "id": "XHk_W0gaY3-h"
      },
      "source": [
        "rd_r2 = Ridge(alpha=15, copy_X=True, fit_intercept=True, max_iter=None, normalize=False,\n",
        "      random_state=42, solver='auto', tol=0.001)"
      ],
      "execution_count": null,
      "outputs": []
    },
    {
      "cell_type": "code",
      "metadata": {
        "colab": {
          "base_uri": "https://localhost:8080/"
        },
        "id": "srUGLAoAY1u5",
        "outputId": "36616e8f-a580-4ca3-fd3d-a67d9fe83e49"
      },
      "source": [
        "%%time\n",
        "print(rd_r2.__class__.__name__,\"Accuracy tuned:\")\n",
        "model_fit_predict(rd_r2)"
      ],
      "execution_count": null,
      "outputs": [
        {
          "output_type": "stream",
          "text": [
            "Ridge Accuracy tuned:\n",
            "       Accuracy     RMSE\n",
            "Train   0.89733  0.06366\n",
            "Test    0.89818  0.06489\n",
            "CPU times: user 22 ms, sys: 19.1 ms, total: 41.1 ms\n",
            "Wall time: 32.3 ms\n"
          ],
          "name": "stdout"
        }
      ]
    },
    {
      "cell_type": "markdown",
      "metadata": {
        "id": "zgMmSG1VZKEW"
      },
      "source": [
        "<a name=Section705></a>\n",
        "### 7.5 Kernel Ridge"
      ]
    },
    {
      "cell_type": "code",
      "metadata": {
        "id": "oy8RjgelZN_s"
      },
      "source": [
        "kr_r2  = KernelRidge(alpha=3, kernel='polynomial', degree=4)"
      ],
      "execution_count": 32,
      "outputs": []
    },
    {
      "cell_type": "code",
      "metadata": {
        "colab": {
          "base_uri": "https://localhost:8080/"
        },
        "id": "sj9HmUKQZW_E",
        "outputId": "a75cf231-4a91-42e8-ade7-8c63ceeafdd3"
      },
      "source": [
        "%%time\n",
        "model_fit_predict(kr_r2)"
      ],
      "execution_count": null,
      "outputs": [
        {
          "output_type": "stream",
          "text": [
            "       Accuracy     RMSE\n",
            "Train   0.90542  0.06110\n",
            "Test    0.90467  0.06279\n",
            "CPU times: user 2min 29s, sys: 6.06 s, total: 2min 35s\n",
            "Wall time: 1min 57s\n"
          ],
          "name": "stdout"
        }
      ]
    },
    {
      "cell_type": "markdown",
      "metadata": {
        "id": "dKiqaYJWbijj"
      },
      "source": [
        "<a name=Section706></a>\n",
        "### 7.6 Decision Trees Regressor"
      ]
    },
    {
      "cell_type": "code",
      "metadata": {
        "id": "z9YOgKYzbvHL"
      },
      "source": [
        "# parameters for RandomSearchCV\n",
        "\n",
        "# Number of features to consider at every split\n",
        "max_features = ['auto','log2','sqrt']\n",
        "# Maximum number of levels in tree\n",
        "max_depth = [2,4,6,8]\n",
        "max_depth.append(None)\n",
        "param_dist = {\n",
        "               'criterion': ['mse','mae'],\n",
        "               'max_depth': max_depth,\n",
        "               'min_samples_split': range(3, 11),\n",
        "               'min_samples_leaf': range(1, 5),\n",
        "               'max_features': max_features\n",
        "               \n",
        "               }\n",
        "# run randomized search\n",
        "n_iter_search = 50\n",
        "\n",
        "seed =13\n",
        "kfold= KFold(n_splits=3,shuffle=True,random_state=seed)\n",
        "\n",
        "dt_CV = RandomizedSearchCV(estimator = dt, param_distributions = param_dist,\n",
        "                                  n_iter = n_iter_search, cv= kfold,\n",
        "                                  n_jobs = -1,scoring='r2',verbose=2)"
      ],
      "execution_count": null,
      "outputs": []
    },
    {
      "cell_type": "code",
      "metadata": {
        "colab": {
          "base_uri": "https://localhost:8080/"
        },
        "id": "uq7EX8AVcUbq",
        "outputId": "ccf769d2-0a8a-4cdc-e5b5-16d4003cdd4f"
      },
      "source": [
        "#%%time\n",
        "#dt_CV.fit(X,y)"
      ],
      "execution_count": null,
      "outputs": [
        {
          "output_type": "stream",
          "text": [
            "Fitting 3 folds for each of 50 candidates, totalling 150 fits\n"
          ],
          "name": "stdout"
        },
        {
          "output_type": "stream",
          "text": [
            "[Parallel(n_jobs=-1)]: Using backend LokyBackend with 2 concurrent workers.\n",
            "[Parallel(n_jobs=-1)]: Done  53 tasks      | elapsed:   26.5s\n"
          ],
          "name": "stderr"
        },
        {
          "output_type": "stream",
          "text": [
            "CPU times: user 1.1 s, sys: 78.9 ms, total: 1.18 s\n",
            "Wall time: 55.2 s\n"
          ],
          "name": "stdout"
        },
        {
          "output_type": "stream",
          "text": [
            "[Parallel(n_jobs=-1)]: Done 150 out of 150 | elapsed:   55.1s finished\n"
          ],
          "name": "stderr"
        },
        {
          "output_type": "execute_result",
          "data": {
            "text/plain": [
              "RandomizedSearchCV(cv=KFold(n_splits=3, random_state=13, shuffle=True),\n",
              "                   error_score=nan,\n",
              "                   estimator=DecisionTreeRegressor(ccp_alpha=0.0,\n",
              "                                                   criterion='mse',\n",
              "                                                   max_depth=None,\n",
              "                                                   max_features=None,\n",
              "                                                   max_leaf_nodes=None,\n",
              "                                                   min_impurity_decrease=0.0,\n",
              "                                                   min_impurity_split=None,\n",
              "                                                   min_samples_leaf=1,\n",
              "                                                   min_samples_split=2,\n",
              "                                                   min_weight_fraction_leaf=0.0,\n",
              "                                                   presort='deprecated',\n",
              "                                                   random_state=42,\n",
              "                                                   splitter='best'),\n",
              "                   iid='deprecated', n_iter=50, n_jobs=-1,\n",
              "                   param_distributions={'criterion': ['mse', 'mae'],\n",
              "                                        'max_depth': [2, 4, 6, 8, None],\n",
              "                                        'max_features': ['auto', 'log2',\n",
              "                                                         'sqrt'],\n",
              "                                        'min_samples_leaf': range(1, 5),\n",
              "                                        'min_samples_split': range(3, 11)},\n",
              "                   pre_dispatch='2*n_jobs', random_state=None, refit=True,\n",
              "                   return_train_score=False, scoring='r2', verbose=2)"
            ]
          },
          "metadata": {
            "tags": []
          },
          "execution_count": 146
        }
      ]
    },
    {
      "cell_type": "code",
      "metadata": {
        "colab": {
          "base_uri": "https://localhost:8080/"
        },
        "id": "VLF3hkI4d0IF",
        "outputId": "387978e6-8699-4b00-cc28-8e155381edb4"
      },
      "source": [
        "print('Best R2:',dt_CV.best_score_)\n",
        "print('Best Parameters:',dt_CV.best_params_)"
      ],
      "execution_count": null,
      "outputs": [
        {
          "output_type": "stream",
          "text": [
            "Best R2: 0.9010501213237937\n",
            "Best Parameters: {'min_samples_split': 10, 'min_samples_leaf': 3, 'max_features': 'auto', 'max_depth': 8, 'criterion': 'mse'}\n"
          ],
          "name": "stdout"
        }
      ]
    },
    {
      "cell_type": "code",
      "metadata": {
        "colab": {
          "base_uri": "https://localhost:8080/"
        },
        "id": "XE1OyPVeex2U",
        "outputId": "4ca255ab-27ba-4412-ca97-b121e10887bb"
      },
      "source": [
        "dt_CV.best_estimator_"
      ],
      "execution_count": null,
      "outputs": [
        {
          "output_type": "execute_result",
          "data": {
            "text/plain": [
              "DecisionTreeRegressor(ccp_alpha=0.0, criterion='mse', max_depth=8,\n",
              "                      max_features='auto', max_leaf_nodes=None,\n",
              "                      min_impurity_decrease=0.0, min_impurity_split=None,\n",
              "                      min_samples_leaf=3, min_samples_split=10,\n",
              "                      min_weight_fraction_leaf=0.0, presort='deprecated',\n",
              "                      random_state=42, splitter='best')"
            ]
          },
          "metadata": {
            "tags": []
          },
          "execution_count": 150
        }
      ]
    },
    {
      "cell_type": "code",
      "metadata": {
        "id": "o_0U-KSndRys"
      },
      "source": [
        "dt_r2 = DecisionTreeRegressor(ccp_alpha=0.0, criterion='mse', max_depth=8,\n",
        "                      max_features='auto', max_leaf_nodes=None,\n",
        "                      min_impurity_decrease=0.0, min_impurity_split=None,\n",
        "                      min_samples_leaf=3, min_samples_split=10,\n",
        "                      min_weight_fraction_leaf=0.0, presort='deprecated',\n",
        "                      random_state=42, splitter='best')"
      ],
      "execution_count": 33,
      "outputs": []
    },
    {
      "cell_type": "code",
      "metadata": {
        "colab": {
          "base_uri": "https://localhost:8080/"
        },
        "id": "88iCmZTEdw--",
        "outputId": "d5740921-6a1c-4f57-b460-e7485893f676"
      },
      "source": [
        "%%time\n",
        "model_fit_predict(dt_r2)"
      ],
      "execution_count": null,
      "outputs": [
        {
          "output_type": "stream",
          "text": [
            "       Accuracy     RMSE\n",
            "Train   0.90811  0.06022\n",
            "Test    0.90096  0.06400\n",
            "CPU times: user 30.2 ms, sys: 1.01 ms, total: 31.2 ms\n",
            "Wall time: 34.1 ms\n"
          ],
          "name": "stdout"
        }
      ]
    },
    {
      "cell_type": "markdown",
      "metadata": {
        "id": "j63N0u2Xu70A"
      },
      "source": [
        "<a name=Section707></a>\n",
        "### 7.7 BayesianRidge"
      ]
    },
    {
      "cell_type": "code",
      "metadata": {
        "id": "moT9yjeMvC4w"
      },
      "source": [
        "# parameters for RandomSearchCV\n",
        "list_para = [1e-15,1e-14,1e-13,1e-12,1e-11,1e-10,1e-9,1e-8,1e-7,1e-6,1e-5,1e-4,1e-3,1e-2,1e-1,1,10]\n",
        "param_grid = {\n",
        "    'alpha_1': list_para,\n",
        "    'alpha_2':list_para,\n",
        "    'lambda_1': list_para,\n",
        "    'lambda_2': list_para\n",
        "}\n",
        "\n",
        "# run randomized search\n",
        "#n_iter_search = 100\n",
        "#neg_root_mean_squared_error\n",
        "br_CV = GridSearchCV(estimator = br, param_grid = param_grid,\n",
        "                                  cv= kfold,\n",
        "                                  n_jobs = -1,scoring='r2',verbose=2)"
      ],
      "execution_count": null,
      "outputs": []
    },
    {
      "cell_type": "code",
      "metadata": {
        "colab": {
          "base_uri": "https://localhost:8080/"
        },
        "id": "70adBw6uvL6b",
        "outputId": "8cb6ed8d-4efb-4082-8070-ec0ec7491d34"
      },
      "source": [
        "#%%time\n",
        "#br_CV.fit(X,y)"
      ],
      "execution_count": null,
      "outputs": [
        {
          "output_type": "stream",
          "text": [
            "Fitting 3 folds for each of 83521 candidates, totalling 250563 fits\n"
          ],
          "name": "stdout"
        },
        {
          "output_type": "stream",
          "text": [
            "[Parallel(n_jobs=-1)]: Using backend LokyBackend with 2 concurrent workers.\n",
            "[Parallel(n_jobs=-1)]: Done 396 tasks      | elapsed:    2.7s\n",
            "[Parallel(n_jobs=-1)]: Done 2332 tasks      | elapsed:   15.3s\n",
            "[Parallel(n_jobs=-1)]: Done 5580 tasks      | elapsed:   36.4s\n",
            "[Parallel(n_jobs=-1)]: Done 10108 tasks      | elapsed:  1.1min\n",
            "[Parallel(n_jobs=-1)]: Done 15948 tasks      | elapsed:  1.7min\n",
            "[Parallel(n_jobs=-1)]: Done 23068 tasks      | elapsed:  2.5min\n",
            "[Parallel(n_jobs=-1)]: Done 31500 tasks      | elapsed:  3.4min\n",
            "[Parallel(n_jobs=-1)]: Done 41212 tasks      | elapsed:  4.5min\n",
            "[Parallel(n_jobs=-1)]: Done 52236 tasks      | elapsed:  5.7min\n",
            "[Parallel(n_jobs=-1)]: Done 64540 tasks      | elapsed:  7.0min\n",
            "[Parallel(n_jobs=-1)]: Done 78156 tasks      | elapsed:  8.5min\n",
            "[Parallel(n_jobs=-1)]: Done 93052 tasks      | elapsed: 10.1min\n",
            "[Parallel(n_jobs=-1)]: Done 109260 tasks      | elapsed: 11.9min\n",
            "[Parallel(n_jobs=-1)]: Done 126748 tasks      | elapsed: 13.7min\n",
            "[Parallel(n_jobs=-1)]: Done 145548 tasks      | elapsed: 15.8min\n",
            "[Parallel(n_jobs=-1)]: Done 165628 tasks      | elapsed: 17.9min\n",
            "[Parallel(n_jobs=-1)]: Done 187020 tasks      | elapsed: 20.3min\n",
            "[Parallel(n_jobs=-1)]: Done 209692 tasks      | elapsed: 22.7min\n",
            "[Parallel(n_jobs=-1)]: Done 233676 tasks      | elapsed: 25.3min\n",
            "[Parallel(n_jobs=-1)]: Done 250563 out of 250563 | elapsed: 27.1min finished\n"
          ],
          "name": "stderr"
        },
        {
          "output_type": "stream",
          "text": [
            "CPU times: user 5min 3s, sys: 15 s, total: 5min 18s\n",
            "Wall time: 27min 5s\n"
          ],
          "name": "stdout"
        },
        {
          "output_type": "execute_result",
          "data": {
            "text/plain": [
              "GridSearchCV(cv=KFold(n_splits=3, random_state=13, shuffle=True),\n",
              "             error_score=nan,\n",
              "             estimator=BayesianRidge(alpha_1=1e-06, alpha_2=1e-06,\n",
              "                                     alpha_init=None, compute_score=False,\n",
              "                                     copy_X=True, fit_intercept=True,\n",
              "                                     lambda_1=1e-06, lambda_2=1e-06,\n",
              "                                     lambda_init=None, n_iter=300,\n",
              "                                     normalize=False, tol=0.001,\n",
              "                                     verbose=False),\n",
              "             iid='deprecated', n_jobs=-1,\n",
              "             param_grid={'alpha_1': [1e-...\n",
              "                                     1e-09, 1e-08, 1e-07, 1e-06, 1e-05, 0.0001,\n",
              "                                     0.001, 0.01, 0.1, 1, 10],\n",
              "                         'lambda_1': [1e-15, 1e-14, 1e-13, 1e-12, 1e-11, 1e-10,\n",
              "                                      1e-09, 1e-08, 1e-07, 1e-06, 1e-05, 0.0001,\n",
              "                                      0.001, 0.01, 0.1, 1, 10],\n",
              "                         'lambda_2': [1e-15, 1e-14, 1e-13, 1e-12, 1e-11, 1e-10,\n",
              "                                      1e-09, 1e-08, 1e-07, 1e-06, 1e-05, 0.0001,\n",
              "                                      0.001, 0.01, 0.1, 1, 10]},\n",
              "             pre_dispatch='2*n_jobs', refit=True, return_train_score=False,\n",
              "             scoring='r2', verbose=2)"
            ]
          },
          "metadata": {
            "tags": []
          },
          "execution_count": 212
        }
      ]
    },
    {
      "cell_type": "code",
      "metadata": {
        "colab": {
          "base_uri": "https://localhost:8080/"
        },
        "id": "O7x9r2Rdvzqq",
        "outputId": "4fa8f05b-3211-429f-9304-8958b4b235b5"
      },
      "source": [
        "print('Best R2:',br_CV.best_score_)\n",
        "print('Best Parameters:',br_CV.best_params_)"
      ],
      "execution_count": null,
      "outputs": [
        {
          "output_type": "stream",
          "text": [
            "Best R2: 0.897476442540353\n",
            "Best Parameters: {'alpha_1': 1e-15, 'alpha_2': 10, 'lambda_1': 10, 'lambda_2': 0.01}\n"
          ],
          "name": "stdout"
        }
      ]
    },
    {
      "cell_type": "code",
      "metadata": {
        "colab": {
          "base_uri": "https://localhost:8080/"
        },
        "id": "Th8S2cZt3Fu8",
        "outputId": "872c3e40-3adb-4e3b-dc47-07484b0dd448"
      },
      "source": [
        "br_CV.best_estimator_"
      ],
      "execution_count": null,
      "outputs": [
        {
          "output_type": "execute_result",
          "data": {
            "text/plain": [
              "BayesianRidge(alpha_1=1e-15, alpha_2=10, alpha_init=None, compute_score=False,\n",
              "              copy_X=True, fit_intercept=True, lambda_1=10, lambda_2=0.01,\n",
              "              lambda_init=None, n_iter=300, normalize=False, tol=0.001,\n",
              "              verbose=False)"
            ]
          },
          "metadata": {
            "tags": []
          },
          "execution_count": 214
        }
      ]
    },
    {
      "cell_type": "code",
      "metadata": {
        "id": "jFm9F8y73JF0"
      },
      "source": [
        "br_r2 = BayesianRidge(alpha_1=1e-15, alpha_2=10, alpha_init=None, compute_score=False,\n",
        "              copy_X=True, fit_intercept=True, lambda_1=10, lambda_2=0.01,\n",
        "              lambda_init=None, n_iter=300, normalize=False, tol=0.001,\n",
        "              verbose=False)"
      ],
      "execution_count": 34,
      "outputs": []
    },
    {
      "cell_type": "code",
      "metadata": {
        "colab": {
          "base_uri": "https://localhost:8080/"
        },
        "id": "3-iVs7Rd3MAm",
        "outputId": "3463ccb4-e2ff-411e-b22b-83993e98235a"
      },
      "source": [
        "%%time\n",
        "model_fit_predict(br_r2)"
      ],
      "execution_count": null,
      "outputs": [
        {
          "output_type": "stream",
          "text": [
            "       Accuracy     RMSE\n",
            "Train   0.89733  0.06366\n",
            "Test    0.89818  0.06489\n",
            "CPU times: user 22.2 ms, sys: 15.9 ms, total: 38 ms\n",
            "Wall time: 24.4 ms\n"
          ],
          "name": "stdout"
        }
      ]
    },
    {
      "cell_type": "markdown",
      "metadata": {
        "id": "mBD94IWjIWZM"
      },
      "source": [
        "<a name=Section708></a>\n",
        "### 7.8 SGDRegressor"
      ]
    },
    {
      "cell_type": "code",
      "metadata": {
        "id": "EPsZcZpLfDXd"
      },
      "source": [
        "# parameters for RandomSearchCV\n",
        "\n",
        "param_grid = {\n",
        "    'penalty':['l2', 'l1', 'elasticnet'],\n",
        "              'alpha':[0.0001,0.001,0.01,0.1,1],\n",
        "              'learning_rate':['constant','optimal','invscaling','adaptive']\n",
        "              }\n",
        "\n",
        "#neg_root_mean_squared_error\n",
        "sgd_CV = GridSearchCV(estimator = sgd, param_grid = param_grid,\n",
        "                                  cv= 5, verbose = 2,\n",
        "                                  n_jobs = -1,scoring='r2')"
      ],
      "execution_count": null,
      "outputs": []
    },
    {
      "cell_type": "code",
      "metadata": {
        "colab": {
          "base_uri": "https://localhost:8080/"
        },
        "id": "LTB0ttZWscFg",
        "outputId": "c6b0024b-5805-4f42-8735-ec776c07644a"
      },
      "source": [
        "%%time\n",
        "#sgd_CV.fit(X,y)"
      ],
      "execution_count": null,
      "outputs": [
        {
          "output_type": "stream",
          "text": [
            "Fitting 5 folds for each of 60 candidates, totalling 300 fits\n"
          ],
          "name": "stdout"
        },
        {
          "output_type": "stream",
          "text": [
            "[Parallel(n_jobs=-1)]: Using backend LokyBackend with 2 concurrent workers.\n",
            "[Parallel(n_jobs=-1)]: Done  37 tasks      | elapsed:    3.1s\n"
          ],
          "name": "stderr"
        },
        {
          "output_type": "stream",
          "text": [
            "CPU times: user 1.67 s, sys: 4.31 s, total: 5.97 s\n",
            "Wall time: 40.3 s\n"
          ],
          "name": "stdout"
        },
        {
          "output_type": "stream",
          "text": [
            "[Parallel(n_jobs=-1)]: Done 300 out of 300 | elapsed:   40.3s finished\n"
          ],
          "name": "stderr"
        },
        {
          "output_type": "execute_result",
          "data": {
            "text/plain": [
              "GridSearchCV(cv=5, error_score=nan,\n",
              "             estimator=SGDRegressor(alpha=0.0001, average=False,\n",
              "                                    early_stopping=False, epsilon=0.1,\n",
              "                                    eta0=0.01, fit_intercept=True,\n",
              "                                    l1_ratio=0.15, learning_rate='invscaling',\n",
              "                                    loss='squared_loss', max_iter=1000,\n",
              "                                    n_iter_no_change=5, penalty='l2',\n",
              "                                    power_t=0.25, random_state=42, shuffle=True,\n",
              "                                    tol=0.001, validation_fraction=0.1,\n",
              "                                    verbose=0, warm_start=False),\n",
              "             iid='deprecated', n_jobs=-1,\n",
              "             param_grid={'alpha': [0.0001, 0.001, 0.01, 0.1, 1],\n",
              "                         'learning_rate': ['constant', 'optimal', 'invscaling',\n",
              "                                           'adaptive'],\n",
              "                         'penalty': ['l2', 'l1', 'elasticnet']},\n",
              "             pre_dispatch='2*n_jobs', refit=True, return_train_score=False,\n",
              "             scoring='r2', verbose=2)"
            ]
          },
          "metadata": {
            "tags": []
          },
          "execution_count": 231
        }
      ]
    },
    {
      "cell_type": "code",
      "metadata": {
        "colab": {
          "base_uri": "https://localhost:8080/"
        },
        "id": "X_EfFligssdW",
        "outputId": "6070a918-c285-495b-f702-9dd2c2117831"
      },
      "source": [
        "sgd_CV.best_estimator_"
      ],
      "execution_count": null,
      "outputs": [
        {
          "output_type": "execute_result",
          "data": {
            "text/plain": [
              "SGDRegressor(alpha=0.0001, average=False, early_stopping=False, epsilon=0.1,\n",
              "             eta0=0.01, fit_intercept=True, l1_ratio=0.15,\n",
              "             learning_rate='adaptive', loss='squared_loss', max_iter=1000,\n",
              "             n_iter_no_change=5, penalty='l2', power_t=0.25, random_state=42,\n",
              "             shuffle=True, tol=0.001, validation_fraction=0.1, verbose=0,\n",
              "             warm_start=False)"
            ]
          },
          "metadata": {
            "tags": []
          },
          "execution_count": 232
        }
      ]
    },
    {
      "cell_type": "code",
      "metadata": {
        "id": "M0SxEF4uIsCd"
      },
      "source": [
        "sgd_r2 = SGDRegressor(alpha=0.0001, average=False, early_stopping=False, epsilon=0.1,\n",
        "             eta0=0.01, fit_intercept=True, l1_ratio=0.15,\n",
        "             learning_rate='invscaling', loss='squared_loss', max_iter=1000,\n",
        "             n_iter_no_change=5, penalty='l2', power_t=0.25, random_state=42,\n",
        "             shuffle=True, tol=0.001, validation_fraction=0.1, verbose=0,\n",
        "             warm_start=False)"
      ],
      "execution_count": 35,
      "outputs": []
    },
    {
      "cell_type": "code",
      "metadata": {
        "colab": {
          "base_uri": "https://localhost:8080/"
        },
        "id": "cucqPMTT8JEf",
        "outputId": "a9f768db-0461-41e9-df1a-939aa6a072d5"
      },
      "source": [
        "%%time\n",
        "model_fit_predict(sgd_r2)"
      ],
      "execution_count": 40,
      "outputs": [
        {
          "output_type": "stream",
          "text": [
            "       Accuracy     RMSE\n",
            "Train   0.89733  0.06366\n",
            "Test    0.89817  0.06489\n",
            "CPU times: user 50.9 ms, sys: 15.3 ms, total: 66.2 ms\n",
            "Wall time: 57.4 ms\n"
          ],
          "name": "stdout"
        }
      ]
    },
    {
      "cell_type": "markdown",
      "metadata": {
        "id": "kIgb_lLsfGum"
      },
      "source": [
        "<a name=Section8></a>\n",
        "## 8. Ensemble Learning"
      ]
    },
    {
      "cell_type": "markdown",
      "metadata": {
        "id": "dPP-HdrYkuP9"
      },
      "source": [
        "__Training the data set on Boosting, Bagging, Voting and Stacking technique to measure the accuracy__"
      ]
    },
    {
      "cell_type": "markdown",
      "metadata": {
        "id": "vLwB976ihW0I"
      },
      "source": [
        "<a name=Section801></a>\n",
        "### 8.1 Boosting Models"
      ]
    },
    {
      "cell_type": "code",
      "metadata": {
        "id": "kvbpvRMMhfzB"
      },
      "source": [
        "ada_reg = AdaBoostRegressor(random_state=42)\n",
        "gb_reg  = GradientBoostingRegressor(random_state = 42)\n",
        "xg      = xgb.XGBRegressor(random_state=42)\n",
        "cat     = cb.CatBoostRegressor(random_state=42)\n",
        "lgb     = ltb.LGBMRegressor(random_state=42)\n",
        "etr     = ExtraTreesRegressor(random_state=42)\n",
        "boost_list = [ada_reg,gb_reg,xg,lgb,etr,cat]"
      ],
      "execution_count": 36,
      "outputs": []
    },
    {
      "cell_type": "code",
      "metadata": {
        "colab": {
          "base_uri": "https://localhost:8080/"
        },
        "id": "M1HQXRwRh_3p",
        "outputId": "1881f503-0106-42e9-813e-9a3766575c69"
      },
      "source": [
        "%%time\n",
        "accuracy_frame=model_train_list(boost_list)"
      ],
      "execution_count": null,
      "outputs": [
        {
          "output_type": "stream",
          "text": [
            "AdaBoostRegressor : 0.19 secs \n",
            "\n",
            "GradientBoostingRegressor : 0.68 secs \n",
            "\n",
            "[08:19:52] WARNING: /workspace/src/objective/regression_obj.cu:152: reg:linear is now deprecated in favor of reg:squarederror.\n",
            "XGBRegressor : 0.55 secs \n",
            "\n",
            "LGBMRegressor : 0.26 secs \n",
            "\n",
            "ExtraTreesRegressor : 1.69 secs \n",
            "\n",
            "Learning rate set to 0.063156\n",
            "0:\tlearn: 0.1882354\ttotal: 2.73ms\tremaining: 2.73s\n",
            "1:\tlearn: 0.1787186\ttotal: 5.23ms\tremaining: 2.61s\n",
            "2:\tlearn: 0.1696462\ttotal: 7.96ms\tremaining: 2.65s\n",
            "3:\tlearn: 0.1611215\ttotal: 10.7ms\tremaining: 2.67s\n",
            "4:\tlearn: 0.1532094\ttotal: 13.5ms\tremaining: 2.69s\n",
            "5:\tlearn: 0.1459494\ttotal: 16.4ms\tremaining: 2.71s\n",
            "6:\tlearn: 0.1393249\ttotal: 19.3ms\tremaining: 2.73s\n",
            "7:\tlearn: 0.1330000\ttotal: 22.2ms\tremaining: 2.76s\n",
            "8:\tlearn: 0.1270745\ttotal: 25.1ms\tremaining: 2.76s\n",
            "9:\tlearn: 0.1215179\ttotal: 27.9ms\tremaining: 2.76s\n",
            "10:\tlearn: 0.1164019\ttotal: 30.6ms\tremaining: 2.75s\n",
            "11:\tlearn: 0.1118803\ttotal: 33.3ms\tremaining: 2.74s\n",
            "12:\tlearn: 0.1075897\ttotal: 36.1ms\tremaining: 2.74s\n",
            "13:\tlearn: 0.1035723\ttotal: 38.9ms\tremaining: 2.74s\n",
            "14:\tlearn: 0.0999424\ttotal: 41.7ms\tremaining: 2.74s\n",
            "15:\tlearn: 0.0965346\ttotal: 44.5ms\tremaining: 2.73s\n",
            "16:\tlearn: 0.0935143\ttotal: 47.3ms\tremaining: 2.73s\n",
            "17:\tlearn: 0.0906489\ttotal: 50.1ms\tremaining: 2.73s\n",
            "18:\tlearn: 0.0879752\ttotal: 53ms\tremaining: 2.73s\n",
            "19:\tlearn: 0.0855344\ttotal: 55.9ms\tremaining: 2.74s\n",
            "20:\tlearn: 0.0833168\ttotal: 58.6ms\tremaining: 2.73s\n",
            "21:\tlearn: 0.0813192\ttotal: 61.4ms\tremaining: 2.73s\n",
            "22:\tlearn: 0.0794779\ttotal: 66.3ms\tremaining: 2.81s\n",
            "23:\tlearn: 0.0777981\ttotal: 68.7ms\tremaining: 2.79s\n",
            "24:\tlearn: 0.0763406\ttotal: 71.2ms\tremaining: 2.77s\n",
            "25:\tlearn: 0.0749625\ttotal: 73.8ms\tremaining: 2.76s\n",
            "26:\tlearn: 0.0737537\ttotal: 76.6ms\tremaining: 2.76s\n",
            "27:\tlearn: 0.0726373\ttotal: 79.4ms\tremaining: 2.76s\n",
            "28:\tlearn: 0.0716713\ttotal: 82ms\tremaining: 2.75s\n",
            "29:\tlearn: 0.0707232\ttotal: 84.8ms\tremaining: 2.74s\n",
            "30:\tlearn: 0.0698463\ttotal: 88ms\tremaining: 2.75s\n",
            "31:\tlearn: 0.0691048\ttotal: 90.9ms\tremaining: 2.75s\n",
            "32:\tlearn: 0.0684471\ttotal: 94.1ms\tremaining: 2.76s\n",
            "33:\tlearn: 0.0678401\ttotal: 97.2ms\tremaining: 2.76s\n",
            "34:\tlearn: 0.0672651\ttotal: 100ms\tremaining: 2.76s\n",
            "35:\tlearn: 0.0667637\ttotal: 104ms\tremaining: 2.78s\n",
            "36:\tlearn: 0.0662927\ttotal: 109ms\tremaining: 2.84s\n",
            "37:\tlearn: 0.0658868\ttotal: 112ms\tremaining: 2.83s\n",
            "38:\tlearn: 0.0655119\ttotal: 115ms\tremaining: 2.83s\n",
            "39:\tlearn: 0.0651748\ttotal: 117ms\tremaining: 2.82s\n",
            "40:\tlearn: 0.0648721\ttotal: 120ms\tremaining: 2.82s\n",
            "41:\tlearn: 0.0645981\ttotal: 123ms\tremaining: 2.81s\n",
            "42:\tlearn: 0.0643232\ttotal: 126ms\tremaining: 2.81s\n",
            "43:\tlearn: 0.0641003\ttotal: 129ms\tremaining: 2.8s\n",
            "44:\tlearn: 0.0638969\ttotal: 132ms\tremaining: 2.8s\n",
            "45:\tlearn: 0.0637333\ttotal: 135ms\tremaining: 2.79s\n",
            "46:\tlearn: 0.0635652\ttotal: 137ms\tremaining: 2.78s\n",
            "47:\tlearn: 0.0634214\ttotal: 140ms\tremaining: 2.78s\n",
            "48:\tlearn: 0.0632897\ttotal: 143ms\tremaining: 2.77s\n",
            "49:\tlearn: 0.0631668\ttotal: 146ms\tremaining: 2.77s\n",
            "50:\tlearn: 0.0630534\ttotal: 148ms\tremaining: 2.76s\n",
            "51:\tlearn: 0.0629393\ttotal: 151ms\tremaining: 2.76s\n",
            "52:\tlearn: 0.0628482\ttotal: 154ms\tremaining: 2.75s\n",
            "53:\tlearn: 0.0627490\ttotal: 157ms\tremaining: 2.74s\n",
            "54:\tlearn: 0.0626712\ttotal: 159ms\tremaining: 2.74s\n",
            "55:\tlearn: 0.0625882\ttotal: 162ms\tremaining: 2.73s\n",
            "56:\tlearn: 0.0625303\ttotal: 165ms\tremaining: 2.72s\n",
            "57:\tlearn: 0.0624582\ttotal: 167ms\tremaining: 2.72s\n",
            "58:\tlearn: 0.0623823\ttotal: 170ms\tremaining: 2.72s\n",
            "59:\tlearn: 0.0623208\ttotal: 175ms\tremaining: 2.75s\n",
            "60:\tlearn: 0.0622630\ttotal: 180ms\tremaining: 2.77s\n",
            "61:\tlearn: 0.0622240\ttotal: 183ms\tremaining: 2.76s\n",
            "62:\tlearn: 0.0621842\ttotal: 185ms\tremaining: 2.75s\n",
            "63:\tlearn: 0.0621457\ttotal: 188ms\tremaining: 2.75s\n",
            "64:\tlearn: 0.0621063\ttotal: 191ms\tremaining: 2.75s\n",
            "65:\tlearn: 0.0620690\ttotal: 194ms\tremaining: 2.74s\n",
            "66:\tlearn: 0.0620361\ttotal: 196ms\tremaining: 2.73s\n",
            "67:\tlearn: 0.0620063\ttotal: 199ms\tremaining: 2.73s\n",
            "68:\tlearn: 0.0619785\ttotal: 202ms\tremaining: 2.73s\n",
            "69:\tlearn: 0.0619520\ttotal: 205ms\tremaining: 2.72s\n",
            "70:\tlearn: 0.0619334\ttotal: 207ms\tremaining: 2.71s\n",
            "71:\tlearn: 0.0618982\ttotal: 210ms\tremaining: 2.71s\n",
            "72:\tlearn: 0.0618671\ttotal: 213ms\tremaining: 2.71s\n",
            "73:\tlearn: 0.0618505\ttotal: 216ms\tremaining: 2.7s\n",
            "74:\tlearn: 0.0618301\ttotal: 219ms\tremaining: 2.7s\n",
            "75:\tlearn: 0.0617950\ttotal: 222ms\tremaining: 2.7s\n",
            "76:\tlearn: 0.0617650\ttotal: 225ms\tremaining: 2.7s\n",
            "77:\tlearn: 0.0617429\ttotal: 228ms\tremaining: 2.69s\n",
            "78:\tlearn: 0.0617151\ttotal: 231ms\tremaining: 2.69s\n",
            "79:\tlearn: 0.0616896\ttotal: 234ms\tremaining: 2.69s\n",
            "80:\tlearn: 0.0616746\ttotal: 236ms\tremaining: 2.68s\n",
            "81:\tlearn: 0.0616612\ttotal: 239ms\tremaining: 2.68s\n",
            "82:\tlearn: 0.0616545\ttotal: 242ms\tremaining: 2.67s\n",
            "83:\tlearn: 0.0616421\ttotal: 244ms\tremaining: 2.66s\n",
            "84:\tlearn: 0.0616178\ttotal: 247ms\tremaining: 2.66s\n",
            "85:\tlearn: 0.0615997\ttotal: 250ms\tremaining: 2.65s\n",
            "86:\tlearn: 0.0615780\ttotal: 253ms\tremaining: 2.65s\n",
            "87:\tlearn: 0.0615703\ttotal: 255ms\tremaining: 2.64s\n",
            "88:\tlearn: 0.0615525\ttotal: 258ms\tremaining: 2.64s\n",
            "89:\tlearn: 0.0615236\ttotal: 260ms\tremaining: 2.63s\n",
            "90:\tlearn: 0.0615111\ttotal: 263ms\tremaining: 2.62s\n",
            "91:\tlearn: 0.0614872\ttotal: 266ms\tremaining: 2.62s\n",
            "92:\tlearn: 0.0614585\ttotal: 268ms\tremaining: 2.62s\n",
            "93:\tlearn: 0.0614456\ttotal: 271ms\tremaining: 2.61s\n",
            "94:\tlearn: 0.0614182\ttotal: 274ms\tremaining: 2.61s\n",
            "95:\tlearn: 0.0614116\ttotal: 276ms\tremaining: 2.6s\n",
            "96:\tlearn: 0.0613947\ttotal: 278ms\tremaining: 2.59s\n",
            "97:\tlearn: 0.0613739\ttotal: 281ms\tremaining: 2.59s\n",
            "98:\tlearn: 0.0613628\ttotal: 284ms\tremaining: 2.58s\n",
            "99:\tlearn: 0.0613478\ttotal: 286ms\tremaining: 2.58s\n",
            "100:\tlearn: 0.0613266\ttotal: 289ms\tremaining: 2.57s\n",
            "101:\tlearn: 0.0613105\ttotal: 292ms\tremaining: 2.57s\n",
            "102:\tlearn: 0.0612886\ttotal: 295ms\tremaining: 2.57s\n",
            "103:\tlearn: 0.0612790\ttotal: 297ms\tremaining: 2.56s\n",
            "104:\tlearn: 0.0612621\ttotal: 300ms\tremaining: 2.56s\n",
            "105:\tlearn: 0.0612470\ttotal: 303ms\tremaining: 2.56s\n",
            "106:\tlearn: 0.0612241\ttotal: 306ms\tremaining: 2.55s\n",
            "107:\tlearn: 0.0612145\ttotal: 308ms\tremaining: 2.55s\n",
            "108:\tlearn: 0.0611945\ttotal: 311ms\tremaining: 2.54s\n",
            "109:\tlearn: 0.0611865\ttotal: 314ms\tremaining: 2.54s\n",
            "110:\tlearn: 0.0611696\ttotal: 317ms\tremaining: 2.54s\n",
            "111:\tlearn: 0.0611503\ttotal: 319ms\tremaining: 2.53s\n",
            "112:\tlearn: 0.0611454\ttotal: 322ms\tremaining: 2.52s\n",
            "113:\tlearn: 0.0611241\ttotal: 324ms\tremaining: 2.52s\n",
            "114:\tlearn: 0.0611040\ttotal: 327ms\tremaining: 2.52s\n",
            "115:\tlearn: 0.0610965\ttotal: 330ms\tremaining: 2.51s\n",
            "116:\tlearn: 0.0610809\ttotal: 333ms\tremaining: 2.51s\n",
            "117:\tlearn: 0.0610705\ttotal: 335ms\tremaining: 2.51s\n",
            "118:\tlearn: 0.0610578\ttotal: 338ms\tremaining: 2.5s\n",
            "119:\tlearn: 0.0610477\ttotal: 340ms\tremaining: 2.5s\n",
            "120:\tlearn: 0.0610290\ttotal: 344ms\tremaining: 2.5s\n",
            "121:\tlearn: 0.0610152\ttotal: 347ms\tremaining: 2.49s\n",
            "122:\tlearn: 0.0610002\ttotal: 349ms\tremaining: 2.49s\n",
            "123:\tlearn: 0.0609848\ttotal: 352ms\tremaining: 2.48s\n",
            "124:\tlearn: 0.0609786\ttotal: 354ms\tremaining: 2.48s\n",
            "125:\tlearn: 0.0609763\ttotal: 357ms\tremaining: 2.47s\n",
            "126:\tlearn: 0.0609681\ttotal: 359ms\tremaining: 2.47s\n",
            "127:\tlearn: 0.0609586\ttotal: 362ms\tremaining: 2.47s\n",
            "128:\tlearn: 0.0609483\ttotal: 366ms\tremaining: 2.47s\n",
            "129:\tlearn: 0.0609323\ttotal: 370ms\tremaining: 2.48s\n",
            "130:\tlearn: 0.0609278\ttotal: 376ms\tremaining: 2.49s\n",
            "131:\tlearn: 0.0609188\ttotal: 379ms\tremaining: 2.49s\n",
            "132:\tlearn: 0.0609134\ttotal: 381ms\tremaining: 2.48s\n",
            "133:\tlearn: 0.0608982\ttotal: 384ms\tremaining: 2.48s\n",
            "134:\tlearn: 0.0608863\ttotal: 386ms\tremaining: 2.48s\n",
            "135:\tlearn: 0.0608717\ttotal: 389ms\tremaining: 2.47s\n",
            "136:\tlearn: 0.0608607\ttotal: 391ms\tremaining: 2.46s\n",
            "137:\tlearn: 0.0608477\ttotal: 394ms\tremaining: 2.46s\n",
            "138:\tlearn: 0.0608291\ttotal: 396ms\tremaining: 2.45s\n",
            "139:\tlearn: 0.0608124\ttotal: 399ms\tremaining: 2.45s\n",
            "140:\tlearn: 0.0608072\ttotal: 401ms\tremaining: 2.44s\n",
            "141:\tlearn: 0.0607943\ttotal: 404ms\tremaining: 2.44s\n",
            "142:\tlearn: 0.0607866\ttotal: 406ms\tremaining: 2.43s\n",
            "143:\tlearn: 0.0607765\ttotal: 408ms\tremaining: 2.43s\n",
            "144:\tlearn: 0.0607661\ttotal: 411ms\tremaining: 2.42s\n",
            "145:\tlearn: 0.0607571\ttotal: 414ms\tremaining: 2.42s\n",
            "146:\tlearn: 0.0607421\ttotal: 416ms\tremaining: 2.42s\n",
            "147:\tlearn: 0.0607316\ttotal: 419ms\tremaining: 2.41s\n",
            "148:\tlearn: 0.0607206\ttotal: 422ms\tremaining: 2.41s\n",
            "149:\tlearn: 0.0607116\ttotal: 424ms\tremaining: 2.4s\n",
            "150:\tlearn: 0.0606915\ttotal: 427ms\tremaining: 2.4s\n",
            "151:\tlearn: 0.0606789\ttotal: 430ms\tremaining: 2.4s\n",
            "152:\tlearn: 0.0606648\ttotal: 433ms\tremaining: 2.39s\n",
            "153:\tlearn: 0.0606509\ttotal: 435ms\tremaining: 2.39s\n",
            "154:\tlearn: 0.0606435\ttotal: 438ms\tremaining: 2.39s\n",
            "155:\tlearn: 0.0606271\ttotal: 441ms\tremaining: 2.38s\n",
            "156:\tlearn: 0.0606154\ttotal: 443ms\tremaining: 2.38s\n",
            "157:\tlearn: 0.0606029\ttotal: 446ms\tremaining: 2.38s\n",
            "158:\tlearn: 0.0605963\ttotal: 451ms\tremaining: 2.38s\n",
            "159:\tlearn: 0.0605861\ttotal: 455ms\tremaining: 2.39s\n",
            "160:\tlearn: 0.0605730\ttotal: 458ms\tremaining: 2.39s\n",
            "161:\tlearn: 0.0605615\ttotal: 461ms\tremaining: 2.38s\n",
            "162:\tlearn: 0.0605548\ttotal: 464ms\tremaining: 2.38s\n",
            "163:\tlearn: 0.0605484\ttotal: 466ms\tremaining: 2.38s\n",
            "164:\tlearn: 0.0605408\ttotal: 469ms\tremaining: 2.37s\n",
            "165:\tlearn: 0.0605332\ttotal: 472ms\tremaining: 2.37s\n",
            "166:\tlearn: 0.0605203\ttotal: 475ms\tremaining: 2.37s\n",
            "167:\tlearn: 0.0605045\ttotal: 477ms\tremaining: 2.36s\n",
            "168:\tlearn: 0.0604906\ttotal: 480ms\tremaining: 2.36s\n",
            "169:\tlearn: 0.0604809\ttotal: 483ms\tremaining: 2.35s\n",
            "170:\tlearn: 0.0604760\ttotal: 485ms\tremaining: 2.35s\n",
            "171:\tlearn: 0.0604676\ttotal: 488ms\tremaining: 2.35s\n",
            "172:\tlearn: 0.0604565\ttotal: 491ms\tremaining: 2.35s\n",
            "173:\tlearn: 0.0604444\ttotal: 493ms\tremaining: 2.34s\n",
            "174:\tlearn: 0.0604321\ttotal: 496ms\tremaining: 2.34s\n",
            "175:\tlearn: 0.0604182\ttotal: 499ms\tremaining: 2.33s\n",
            "176:\tlearn: 0.0604028\ttotal: 502ms\tremaining: 2.33s\n",
            "177:\tlearn: 0.0603916\ttotal: 505ms\tremaining: 2.33s\n",
            "178:\tlearn: 0.0603768\ttotal: 508ms\tremaining: 2.33s\n",
            "179:\tlearn: 0.0603635\ttotal: 510ms\tremaining: 2.32s\n",
            "180:\tlearn: 0.0603491\ttotal: 513ms\tremaining: 2.32s\n",
            "181:\tlearn: 0.0603427\ttotal: 516ms\tremaining: 2.32s\n",
            "182:\tlearn: 0.0603270\ttotal: 519ms\tremaining: 2.32s\n",
            "183:\tlearn: 0.0603171\ttotal: 522ms\tremaining: 2.32s\n",
            "184:\tlearn: 0.0603078\ttotal: 525ms\tremaining: 2.31s\n",
            "185:\tlearn: 0.0603005\ttotal: 528ms\tremaining: 2.31s\n",
            "186:\tlearn: 0.0602928\ttotal: 530ms\tremaining: 2.31s\n",
            "187:\tlearn: 0.0602855\ttotal: 533ms\tremaining: 2.3s\n",
            "188:\tlearn: 0.0602769\ttotal: 536ms\tremaining: 2.3s\n",
            "189:\tlearn: 0.0602683\ttotal: 539ms\tremaining: 2.3s\n",
            "190:\tlearn: 0.0602625\ttotal: 541ms\tremaining: 2.29s\n",
            "191:\tlearn: 0.0602530\ttotal: 544ms\tremaining: 2.29s\n",
            "192:\tlearn: 0.0602450\ttotal: 547ms\tremaining: 2.29s\n",
            "193:\tlearn: 0.0602336\ttotal: 550ms\tremaining: 2.28s\n",
            "194:\tlearn: 0.0602218\ttotal: 553ms\tremaining: 2.28s\n",
            "195:\tlearn: 0.0602115\ttotal: 555ms\tremaining: 2.28s\n",
            "196:\tlearn: 0.0602023\ttotal: 562ms\tremaining: 2.29s\n",
            "197:\tlearn: 0.0601924\ttotal: 569ms\tremaining: 2.3s\n",
            "198:\tlearn: 0.0601828\ttotal: 571ms\tremaining: 2.3s\n",
            "199:\tlearn: 0.0601755\ttotal: 574ms\tremaining: 2.29s\n",
            "200:\tlearn: 0.0601661\ttotal: 576ms\tremaining: 2.29s\n",
            "201:\tlearn: 0.0601568\ttotal: 579ms\tremaining: 2.29s\n",
            "202:\tlearn: 0.0601479\ttotal: 582ms\tremaining: 2.28s\n",
            "203:\tlearn: 0.0601393\ttotal: 585ms\tremaining: 2.28s\n",
            "204:\tlearn: 0.0601276\ttotal: 587ms\tremaining: 2.28s\n",
            "205:\tlearn: 0.0601151\ttotal: 591ms\tremaining: 2.28s\n",
            "206:\tlearn: 0.0601068\ttotal: 594ms\tremaining: 2.27s\n",
            "207:\tlearn: 0.0600979\ttotal: 596ms\tremaining: 2.27s\n",
            "208:\tlearn: 0.0600921\ttotal: 599ms\tremaining: 2.27s\n",
            "209:\tlearn: 0.0600842\ttotal: 602ms\tremaining: 2.26s\n",
            "210:\tlearn: 0.0600783\ttotal: 605ms\tremaining: 2.26s\n",
            "211:\tlearn: 0.0600732\ttotal: 608ms\tremaining: 2.26s\n",
            "212:\tlearn: 0.0600658\ttotal: 610ms\tremaining: 2.25s\n",
            "213:\tlearn: 0.0600578\ttotal: 613ms\tremaining: 2.25s\n",
            "214:\tlearn: 0.0600500\ttotal: 616ms\tremaining: 2.25s\n",
            "215:\tlearn: 0.0600425\ttotal: 621ms\tremaining: 2.25s\n",
            "216:\tlearn: 0.0600352\ttotal: 626ms\tremaining: 2.26s\n",
            "217:\tlearn: 0.0600272\ttotal: 628ms\tremaining: 2.25s\n",
            "218:\tlearn: 0.0600139\ttotal: 631ms\tremaining: 2.25s\n",
            "219:\tlearn: 0.0600075\ttotal: 634ms\tremaining: 2.25s\n",
            "220:\tlearn: 0.0600005\ttotal: 636ms\tremaining: 2.24s\n",
            "221:\tlearn: 0.0599919\ttotal: 639ms\tremaining: 2.24s\n",
            "222:\tlearn: 0.0599793\ttotal: 642ms\tremaining: 2.24s\n",
            "223:\tlearn: 0.0599701\ttotal: 645ms\tremaining: 2.23s\n",
            "224:\tlearn: 0.0599634\ttotal: 648ms\tremaining: 2.23s\n",
            "225:\tlearn: 0.0599543\ttotal: 650ms\tremaining: 2.23s\n",
            "226:\tlearn: 0.0599452\ttotal: 653ms\tremaining: 2.22s\n",
            "227:\tlearn: 0.0599373\ttotal: 656ms\tremaining: 2.22s\n",
            "228:\tlearn: 0.0599329\ttotal: 659ms\tremaining: 2.22s\n",
            "229:\tlearn: 0.0599276\ttotal: 663ms\tremaining: 2.22s\n",
            "230:\tlearn: 0.0599139\ttotal: 666ms\tremaining: 2.22s\n",
            "231:\tlearn: 0.0599047\ttotal: 669ms\tremaining: 2.21s\n",
            "232:\tlearn: 0.0598981\ttotal: 671ms\tremaining: 2.21s\n",
            "233:\tlearn: 0.0598857\ttotal: 674ms\tremaining: 2.21s\n",
            "234:\tlearn: 0.0598810\ttotal: 677ms\tremaining: 2.2s\n",
            "235:\tlearn: 0.0598740\ttotal: 680ms\tremaining: 2.2s\n",
            "236:\tlearn: 0.0598643\ttotal: 683ms\tremaining: 2.2s\n",
            "237:\tlearn: 0.0598570\ttotal: 685ms\tremaining: 2.19s\n",
            "238:\tlearn: 0.0598491\ttotal: 688ms\tremaining: 2.19s\n",
            "239:\tlearn: 0.0598427\ttotal: 691ms\tremaining: 2.19s\n",
            "240:\tlearn: 0.0598350\ttotal: 693ms\tremaining: 2.18s\n",
            "241:\tlearn: 0.0598288\ttotal: 696ms\tremaining: 2.18s\n",
            "242:\tlearn: 0.0598198\ttotal: 699ms\tremaining: 2.18s\n",
            "243:\tlearn: 0.0598125\ttotal: 702ms\tremaining: 2.17s\n",
            "244:\tlearn: 0.0598047\ttotal: 704ms\tremaining: 2.17s\n",
            "245:\tlearn: 0.0598016\ttotal: 707ms\tremaining: 2.17s\n",
            "246:\tlearn: 0.0597957\ttotal: 710ms\tremaining: 2.16s\n",
            "247:\tlearn: 0.0597923\ttotal: 712ms\tremaining: 2.16s\n",
            "248:\tlearn: 0.0597858\ttotal: 715ms\tremaining: 2.16s\n",
            "249:\tlearn: 0.0597787\ttotal: 718ms\tremaining: 2.15s\n",
            "250:\tlearn: 0.0597734\ttotal: 721ms\tremaining: 2.15s\n",
            "251:\tlearn: 0.0597679\ttotal: 723ms\tremaining: 2.15s\n",
            "252:\tlearn: 0.0597622\ttotal: 726ms\tremaining: 2.14s\n",
            "253:\tlearn: 0.0597534\ttotal: 729ms\tremaining: 2.14s\n",
            "254:\tlearn: 0.0597459\ttotal: 732ms\tremaining: 2.14s\n",
            "255:\tlearn: 0.0597401\ttotal: 734ms\tremaining: 2.13s\n",
            "256:\tlearn: 0.0597349\ttotal: 737ms\tremaining: 2.13s\n",
            "257:\tlearn: 0.0597298\ttotal: 740ms\tremaining: 2.13s\n",
            "258:\tlearn: 0.0597259\ttotal: 742ms\tremaining: 2.12s\n",
            "259:\tlearn: 0.0597227\ttotal: 745ms\tremaining: 2.12s\n",
            "260:\tlearn: 0.0597143\ttotal: 748ms\tremaining: 2.12s\n",
            "261:\tlearn: 0.0597095\ttotal: 754ms\tremaining: 2.12s\n",
            "262:\tlearn: 0.0597015\ttotal: 761ms\tremaining: 2.13s\n",
            "263:\tlearn: 0.0596959\ttotal: 775ms\tremaining: 2.16s\n",
            "264:\tlearn: 0.0596887\ttotal: 779ms\tremaining: 2.16s\n",
            "265:\tlearn: 0.0596850\ttotal: 781ms\tremaining: 2.15s\n",
            "266:\tlearn: 0.0596809\ttotal: 783ms\tremaining: 2.15s\n",
            "267:\tlearn: 0.0596721\ttotal: 786ms\tremaining: 2.15s\n",
            "268:\tlearn: 0.0596642\ttotal: 789ms\tremaining: 2.14s\n",
            "269:\tlearn: 0.0596580\ttotal: 792ms\tremaining: 2.14s\n",
            "270:\tlearn: 0.0596516\ttotal: 794ms\tremaining: 2.14s\n",
            "271:\tlearn: 0.0596474\ttotal: 797ms\tremaining: 2.13s\n",
            "272:\tlearn: 0.0596381\ttotal: 800ms\tremaining: 2.13s\n",
            "273:\tlearn: 0.0596270\ttotal: 802ms\tremaining: 2.13s\n",
            "274:\tlearn: 0.0596217\ttotal: 805ms\tremaining: 2.12s\n",
            "275:\tlearn: 0.0596168\ttotal: 807ms\tremaining: 2.12s\n",
            "276:\tlearn: 0.0596117\ttotal: 810ms\tremaining: 2.11s\n",
            "277:\tlearn: 0.0596073\ttotal: 813ms\tremaining: 2.11s\n",
            "278:\tlearn: 0.0596010\ttotal: 816ms\tremaining: 2.11s\n",
            "279:\tlearn: 0.0595949\ttotal: 818ms\tremaining: 2.1s\n",
            "280:\tlearn: 0.0595916\ttotal: 821ms\tremaining: 2.1s\n",
            "281:\tlearn: 0.0595846\ttotal: 824ms\tremaining: 2.1s\n",
            "282:\tlearn: 0.0595759\ttotal: 827ms\tremaining: 2.09s\n",
            "283:\tlearn: 0.0595701\ttotal: 829ms\tremaining: 2.09s\n",
            "284:\tlearn: 0.0595660\ttotal: 832ms\tremaining: 2.09s\n",
            "285:\tlearn: 0.0595608\ttotal: 834ms\tremaining: 2.08s\n",
            "286:\tlearn: 0.0595563\ttotal: 837ms\tremaining: 2.08s\n",
            "287:\tlearn: 0.0595536\ttotal: 840ms\tremaining: 2.08s\n",
            "288:\tlearn: 0.0595506\ttotal: 842ms\tremaining: 2.07s\n",
            "289:\tlearn: 0.0595463\ttotal: 845ms\tremaining: 2.07s\n",
            "290:\tlearn: 0.0595420\ttotal: 848ms\tremaining: 2.06s\n",
            "291:\tlearn: 0.0595330\ttotal: 850ms\tremaining: 2.06s\n",
            "292:\tlearn: 0.0595282\ttotal: 853ms\tremaining: 2.06s\n",
            "293:\tlearn: 0.0595177\ttotal: 856ms\tremaining: 2.06s\n",
            "294:\tlearn: 0.0595132\ttotal: 859ms\tremaining: 2.05s\n",
            "295:\tlearn: 0.0595011\ttotal: 863ms\tremaining: 2.05s\n",
            "296:\tlearn: 0.0594957\ttotal: 865ms\tremaining: 2.05s\n",
            "297:\tlearn: 0.0594878\ttotal: 868ms\tremaining: 2.04s\n",
            "298:\tlearn: 0.0594838\ttotal: 871ms\tremaining: 2.04s\n",
            "299:\tlearn: 0.0594776\ttotal: 874ms\tremaining: 2.04s\n",
            "300:\tlearn: 0.0594727\ttotal: 876ms\tremaining: 2.04s\n",
            "301:\tlearn: 0.0594697\ttotal: 879ms\tremaining: 2.03s\n",
            "302:\tlearn: 0.0594659\ttotal: 882ms\tremaining: 2.03s\n",
            "303:\tlearn: 0.0594612\ttotal: 884ms\tremaining: 2.02s\n",
            "304:\tlearn: 0.0594586\ttotal: 887ms\tremaining: 2.02s\n",
            "305:\tlearn: 0.0594562\ttotal: 889ms\tremaining: 2.02s\n",
            "306:\tlearn: 0.0594515\ttotal: 892ms\tremaining: 2.01s\n",
            "307:\tlearn: 0.0594473\ttotal: 895ms\tremaining: 2.01s\n",
            "308:\tlearn: 0.0594451\ttotal: 897ms\tremaining: 2.01s\n",
            "309:\tlearn: 0.0594363\ttotal: 900ms\tremaining: 2s\n",
            "310:\tlearn: 0.0594300\ttotal: 903ms\tremaining: 2s\n",
            "311:\tlearn: 0.0594229\ttotal: 906ms\tremaining: 2s\n",
            "312:\tlearn: 0.0594177\ttotal: 909ms\tremaining: 1.99s\n",
            "313:\tlearn: 0.0594145\ttotal: 911ms\tremaining: 1.99s\n",
            "314:\tlearn: 0.0594123\ttotal: 914ms\tremaining: 1.99s\n",
            "315:\tlearn: 0.0594059\ttotal: 917ms\tremaining: 1.98s\n",
            "316:\tlearn: 0.0593995\ttotal: 920ms\tremaining: 1.98s\n",
            "317:\tlearn: 0.0593950\ttotal: 922ms\tremaining: 1.98s\n",
            "318:\tlearn: 0.0593929\ttotal: 925ms\tremaining: 1.97s\n",
            "319:\tlearn: 0.0593892\ttotal: 927ms\tremaining: 1.97s\n",
            "320:\tlearn: 0.0593861\ttotal: 930ms\tremaining: 1.97s\n",
            "321:\tlearn: 0.0593802\ttotal: 933ms\tremaining: 1.96s\n",
            "322:\tlearn: 0.0593781\ttotal: 935ms\tremaining: 1.96s\n",
            "323:\tlearn: 0.0593757\ttotal: 938ms\tremaining: 1.96s\n",
            "324:\tlearn: 0.0593712\ttotal: 940ms\tremaining: 1.95s\n",
            "325:\tlearn: 0.0593687\ttotal: 943ms\tremaining: 1.95s\n",
            "326:\tlearn: 0.0593643\ttotal: 948ms\tremaining: 1.95s\n",
            "327:\tlearn: 0.0593599\ttotal: 954ms\tremaining: 1.95s\n",
            "328:\tlearn: 0.0593535\ttotal: 956ms\tremaining: 1.95s\n",
            "329:\tlearn: 0.0593491\ttotal: 959ms\tremaining: 1.95s\n",
            "330:\tlearn: 0.0593449\ttotal: 962ms\tremaining: 1.94s\n",
            "331:\tlearn: 0.0593406\ttotal: 965ms\tremaining: 1.94s\n",
            "332:\tlearn: 0.0593365\ttotal: 968ms\tremaining: 1.94s\n",
            "333:\tlearn: 0.0593325\ttotal: 970ms\tremaining: 1.93s\n",
            "334:\tlearn: 0.0593237\ttotal: 973ms\tremaining: 1.93s\n",
            "335:\tlearn: 0.0593232\ttotal: 975ms\tremaining: 1.93s\n",
            "336:\tlearn: 0.0593188\ttotal: 978ms\tremaining: 1.92s\n",
            "337:\tlearn: 0.0593145\ttotal: 980ms\tremaining: 1.92s\n",
            "338:\tlearn: 0.0593095\ttotal: 983ms\tremaining: 1.92s\n",
            "339:\tlearn: 0.0593036\ttotal: 986ms\tremaining: 1.91s\n",
            "340:\tlearn: 0.0593013\ttotal: 988ms\tremaining: 1.91s\n",
            "341:\tlearn: 0.0592967\ttotal: 991ms\tremaining: 1.91s\n",
            "342:\tlearn: 0.0592921\ttotal: 993ms\tremaining: 1.9s\n",
            "343:\tlearn: 0.0592868\ttotal: 996ms\tremaining: 1.9s\n",
            "344:\tlearn: 0.0592819\ttotal: 999ms\tremaining: 1.9s\n",
            "345:\tlearn: 0.0592779\ttotal: 1s\tremaining: 1.89s\n",
            "346:\tlearn: 0.0592749\ttotal: 1s\tremaining: 1.89s\n",
            "347:\tlearn: 0.0592703\ttotal: 1.01s\tremaining: 1.89s\n",
            "348:\tlearn: 0.0592669\ttotal: 1.01s\tremaining: 1.88s\n",
            "349:\tlearn: 0.0592615\ttotal: 1.01s\tremaining: 1.88s\n",
            "350:\tlearn: 0.0592522\ttotal: 1.01s\tremaining: 1.88s\n",
            "351:\tlearn: 0.0592495\ttotal: 1.02s\tremaining: 1.87s\n",
            "352:\tlearn: 0.0592441\ttotal: 1.02s\tremaining: 1.87s\n",
            "353:\tlearn: 0.0592396\ttotal: 1.02s\tremaining: 1.87s\n",
            "354:\tlearn: 0.0592368\ttotal: 1.03s\tremaining: 1.86s\n",
            "355:\tlearn: 0.0592330\ttotal: 1.03s\tremaining: 1.86s\n",
            "356:\tlearn: 0.0592293\ttotal: 1.03s\tremaining: 1.86s\n",
            "357:\tlearn: 0.0592273\ttotal: 1.03s\tremaining: 1.85s\n",
            "358:\tlearn: 0.0592230\ttotal: 1.04s\tremaining: 1.85s\n",
            "359:\tlearn: 0.0592194\ttotal: 1.04s\tremaining: 1.85s\n",
            "360:\tlearn: 0.0592172\ttotal: 1.04s\tremaining: 1.84s\n",
            "361:\tlearn: 0.0592134\ttotal: 1.04s\tremaining: 1.84s\n",
            "362:\tlearn: 0.0592096\ttotal: 1.05s\tremaining: 1.84s\n",
            "363:\tlearn: 0.0592043\ttotal: 1.05s\tremaining: 1.83s\n",
            "364:\tlearn: 0.0592007\ttotal: 1.05s\tremaining: 1.83s\n",
            "365:\tlearn: 0.0591980\ttotal: 1.05s\tremaining: 1.83s\n",
            "366:\tlearn: 0.0591947\ttotal: 1.06s\tremaining: 1.82s\n",
            "367:\tlearn: 0.0591904\ttotal: 1.06s\tremaining: 1.82s\n",
            "368:\tlearn: 0.0591872\ttotal: 1.06s\tremaining: 1.82s\n",
            "369:\tlearn: 0.0591834\ttotal: 1.06s\tremaining: 1.81s\n",
            "370:\tlearn: 0.0591808\ttotal: 1.07s\tremaining: 1.81s\n",
            "371:\tlearn: 0.0591788\ttotal: 1.07s\tremaining: 1.81s\n",
            "372:\tlearn: 0.0591763\ttotal: 1.07s\tremaining: 1.8s\n",
            "373:\tlearn: 0.0591729\ttotal: 1.07s\tremaining: 1.8s\n",
            "374:\tlearn: 0.0591710\ttotal: 1.08s\tremaining: 1.8s\n",
            "375:\tlearn: 0.0591656\ttotal: 1.08s\tremaining: 1.79s\n",
            "376:\tlearn: 0.0591557\ttotal: 1.08s\tremaining: 1.79s\n",
            "377:\tlearn: 0.0591553\ttotal: 1.08s\tremaining: 1.79s\n",
            "378:\tlearn: 0.0591514\ttotal: 1.09s\tremaining: 1.78s\n",
            "379:\tlearn: 0.0591493\ttotal: 1.09s\tremaining: 1.78s\n",
            "380:\tlearn: 0.0591470\ttotal: 1.1s\tremaining: 1.78s\n",
            "381:\tlearn: 0.0591445\ttotal: 1.1s\tremaining: 1.78s\n",
            "382:\tlearn: 0.0591421\ttotal: 1.1s\tremaining: 1.78s\n",
            "383:\tlearn: 0.0591387\ttotal: 1.11s\tremaining: 1.77s\n",
            "384:\tlearn: 0.0591368\ttotal: 1.11s\tremaining: 1.77s\n",
            "385:\tlearn: 0.0591314\ttotal: 1.11s\tremaining: 1.77s\n",
            "386:\tlearn: 0.0591266\ttotal: 1.11s\tremaining: 1.77s\n",
            "387:\tlearn: 0.0591192\ttotal: 1.12s\tremaining: 1.76s\n",
            "388:\tlearn: 0.0591150\ttotal: 1.12s\tremaining: 1.76s\n",
            "389:\tlearn: 0.0591099\ttotal: 1.12s\tremaining: 1.76s\n",
            "390:\tlearn: 0.0591067\ttotal: 1.13s\tremaining: 1.75s\n",
            "391:\tlearn: 0.0590986\ttotal: 1.13s\tremaining: 1.75s\n",
            "392:\tlearn: 0.0590965\ttotal: 1.13s\tremaining: 1.75s\n",
            "393:\tlearn: 0.0590932\ttotal: 1.13s\tremaining: 1.74s\n",
            "394:\tlearn: 0.0590902\ttotal: 1.14s\tremaining: 1.74s\n",
            "395:\tlearn: 0.0590865\ttotal: 1.14s\tremaining: 1.74s\n",
            "396:\tlearn: 0.0590767\ttotal: 1.15s\tremaining: 1.75s\n",
            "397:\tlearn: 0.0590736\ttotal: 1.15s\tremaining: 1.74s\n",
            "398:\tlearn: 0.0590697\ttotal: 1.15s\tremaining: 1.74s\n",
            "399:\tlearn: 0.0590671\ttotal: 1.16s\tremaining: 1.74s\n",
            "400:\tlearn: 0.0590621\ttotal: 1.16s\tremaining: 1.73s\n",
            "401:\tlearn: 0.0590596\ttotal: 1.16s\tremaining: 1.73s\n",
            "402:\tlearn: 0.0590518\ttotal: 1.17s\tremaining: 1.73s\n",
            "403:\tlearn: 0.0590487\ttotal: 1.17s\tremaining: 1.72s\n",
            "404:\tlearn: 0.0590463\ttotal: 1.17s\tremaining: 1.72s\n",
            "405:\tlearn: 0.0590440\ttotal: 1.17s\tremaining: 1.72s\n",
            "406:\tlearn: 0.0590413\ttotal: 1.18s\tremaining: 1.71s\n",
            "407:\tlearn: 0.0590360\ttotal: 1.18s\tremaining: 1.71s\n",
            "408:\tlearn: 0.0590349\ttotal: 1.18s\tremaining: 1.71s\n",
            "409:\tlearn: 0.0590305\ttotal: 1.19s\tremaining: 1.71s\n",
            "410:\tlearn: 0.0590245\ttotal: 1.19s\tremaining: 1.71s\n",
            "411:\tlearn: 0.0590223\ttotal: 1.19s\tremaining: 1.7s\n",
            "412:\tlearn: 0.0590206\ttotal: 1.2s\tremaining: 1.7s\n",
            "413:\tlearn: 0.0590142\ttotal: 1.2s\tremaining: 1.7s\n",
            "414:\tlearn: 0.0590105\ttotal: 1.2s\tremaining: 1.69s\n",
            "415:\tlearn: 0.0590075\ttotal: 1.2s\tremaining: 1.69s\n",
            "416:\tlearn: 0.0590061\ttotal: 1.21s\tremaining: 1.69s\n",
            "417:\tlearn: 0.0590052\ttotal: 1.21s\tremaining: 1.68s\n",
            "418:\tlearn: 0.0590029\ttotal: 1.21s\tremaining: 1.68s\n",
            "419:\tlearn: 0.0590011\ttotal: 1.22s\tremaining: 1.68s\n",
            "420:\tlearn: 0.0589985\ttotal: 1.22s\tremaining: 1.67s\n",
            "421:\tlearn: 0.0589934\ttotal: 1.22s\tremaining: 1.67s\n",
            "422:\tlearn: 0.0589916\ttotal: 1.22s\tremaining: 1.67s\n",
            "423:\tlearn: 0.0589848\ttotal: 1.23s\tremaining: 1.67s\n",
            "424:\tlearn: 0.0589822\ttotal: 1.23s\tremaining: 1.66s\n",
            "425:\tlearn: 0.0589791\ttotal: 1.23s\tremaining: 1.66s\n",
            "426:\tlearn: 0.0589759\ttotal: 1.23s\tremaining: 1.66s\n",
            "427:\tlearn: 0.0589736\ttotal: 1.24s\tremaining: 1.65s\n",
            "428:\tlearn: 0.0589697\ttotal: 1.24s\tremaining: 1.65s\n",
            "429:\tlearn: 0.0589667\ttotal: 1.24s\tremaining: 1.65s\n",
            "430:\tlearn: 0.0589661\ttotal: 1.25s\tremaining: 1.64s\n",
            "431:\tlearn: 0.0589631\ttotal: 1.25s\tremaining: 1.64s\n",
            "432:\tlearn: 0.0589556\ttotal: 1.25s\tremaining: 1.64s\n",
            "433:\tlearn: 0.0589521\ttotal: 1.25s\tremaining: 1.63s\n",
            "434:\tlearn: 0.0589449\ttotal: 1.25s\tremaining: 1.63s\n",
            "435:\tlearn: 0.0589414\ttotal: 1.26s\tremaining: 1.63s\n",
            "436:\tlearn: 0.0589353\ttotal: 1.26s\tremaining: 1.63s\n",
            "437:\tlearn: 0.0589281\ttotal: 1.26s\tremaining: 1.62s\n",
            "438:\tlearn: 0.0589229\ttotal: 1.27s\tremaining: 1.62s\n",
            "439:\tlearn: 0.0589187\ttotal: 1.27s\tremaining: 1.61s\n",
            "440:\tlearn: 0.0589171\ttotal: 1.27s\tremaining: 1.61s\n",
            "441:\tlearn: 0.0589113\ttotal: 1.27s\tremaining: 1.61s\n",
            "442:\tlearn: 0.0589085\ttotal: 1.28s\tremaining: 1.6s\n",
            "443:\tlearn: 0.0589071\ttotal: 1.28s\tremaining: 1.6s\n",
            "444:\tlearn: 0.0589044\ttotal: 1.28s\tremaining: 1.6s\n",
            "445:\tlearn: 0.0589010\ttotal: 1.28s\tremaining: 1.6s\n",
            "446:\tlearn: 0.0588988\ttotal: 1.29s\tremaining: 1.59s\n",
            "447:\tlearn: 0.0588932\ttotal: 1.29s\tremaining: 1.59s\n",
            "448:\tlearn: 0.0588909\ttotal: 1.29s\tremaining: 1.59s\n",
            "449:\tlearn: 0.0588867\ttotal: 1.3s\tremaining: 1.58s\n",
            "450:\tlearn: 0.0588835\ttotal: 1.3s\tremaining: 1.58s\n",
            "451:\tlearn: 0.0588792\ttotal: 1.3s\tremaining: 1.58s\n",
            "452:\tlearn: 0.0588723\ttotal: 1.3s\tremaining: 1.57s\n",
            "453:\tlearn: 0.0588704\ttotal: 1.31s\tremaining: 1.57s\n",
            "454:\tlearn: 0.0588689\ttotal: 1.31s\tremaining: 1.57s\n",
            "455:\tlearn: 0.0588659\ttotal: 1.31s\tremaining: 1.57s\n",
            "456:\tlearn: 0.0588645\ttotal: 1.31s\tremaining: 1.56s\n",
            "457:\tlearn: 0.0588609\ttotal: 1.32s\tremaining: 1.56s\n",
            "458:\tlearn: 0.0588579\ttotal: 1.32s\tremaining: 1.56s\n",
            "459:\tlearn: 0.0588546\ttotal: 1.32s\tremaining: 1.55s\n",
            "460:\tlearn: 0.0588518\ttotal: 1.33s\tremaining: 1.55s\n",
            "461:\tlearn: 0.0588494\ttotal: 1.33s\tremaining: 1.55s\n",
            "462:\tlearn: 0.0588470\ttotal: 1.33s\tremaining: 1.54s\n",
            "463:\tlearn: 0.0588434\ttotal: 1.34s\tremaining: 1.54s\n",
            "464:\tlearn: 0.0588380\ttotal: 1.34s\tremaining: 1.54s\n",
            "465:\tlearn: 0.0588339\ttotal: 1.34s\tremaining: 1.54s\n",
            "466:\tlearn: 0.0588290\ttotal: 1.35s\tremaining: 1.54s\n",
            "467:\tlearn: 0.0588264\ttotal: 1.35s\tremaining: 1.53s\n",
            "468:\tlearn: 0.0588235\ttotal: 1.35s\tremaining: 1.53s\n",
            "469:\tlearn: 0.0588214\ttotal: 1.35s\tremaining: 1.53s\n",
            "470:\tlearn: 0.0588189\ttotal: 1.36s\tremaining: 1.52s\n",
            "471:\tlearn: 0.0588158\ttotal: 1.36s\tremaining: 1.52s\n",
            "472:\tlearn: 0.0588146\ttotal: 1.36s\tremaining: 1.52s\n",
            "473:\tlearn: 0.0588090\ttotal: 1.36s\tremaining: 1.51s\n",
            "474:\tlearn: 0.0588077\ttotal: 1.37s\tremaining: 1.51s\n",
            "475:\tlearn: 0.0588051\ttotal: 1.37s\tremaining: 1.51s\n",
            "476:\tlearn: 0.0588037\ttotal: 1.37s\tremaining: 1.5s\n",
            "477:\tlearn: 0.0587992\ttotal: 1.38s\tremaining: 1.5s\n",
            "478:\tlearn: 0.0587963\ttotal: 1.38s\tremaining: 1.5s\n",
            "479:\tlearn: 0.0587948\ttotal: 1.38s\tremaining: 1.5s\n",
            "480:\tlearn: 0.0587923\ttotal: 1.38s\tremaining: 1.49s\n",
            "481:\tlearn: 0.0587860\ttotal: 1.39s\tremaining: 1.49s\n",
            "482:\tlearn: 0.0587829\ttotal: 1.39s\tremaining: 1.49s\n",
            "483:\tlearn: 0.0587802\ttotal: 1.39s\tremaining: 1.48s\n",
            "484:\tlearn: 0.0587769\ttotal: 1.4s\tremaining: 1.48s\n",
            "485:\tlearn: 0.0587742\ttotal: 1.4s\tremaining: 1.48s\n",
            "486:\tlearn: 0.0587676\ttotal: 1.4s\tremaining: 1.48s\n",
            "487:\tlearn: 0.0587647\ttotal: 1.4s\tremaining: 1.47s\n",
            "488:\tlearn: 0.0587614\ttotal: 1.41s\tremaining: 1.47s\n",
            "489:\tlearn: 0.0587551\ttotal: 1.41s\tremaining: 1.47s\n",
            "490:\tlearn: 0.0587527\ttotal: 1.41s\tremaining: 1.46s\n",
            "491:\tlearn: 0.0587506\ttotal: 1.42s\tremaining: 1.46s\n",
            "492:\tlearn: 0.0587479\ttotal: 1.42s\tremaining: 1.46s\n",
            "493:\tlearn: 0.0587442\ttotal: 1.42s\tremaining: 1.46s\n",
            "494:\tlearn: 0.0587423\ttotal: 1.42s\tremaining: 1.45s\n",
            "495:\tlearn: 0.0587360\ttotal: 1.43s\tremaining: 1.45s\n",
            "496:\tlearn: 0.0587348\ttotal: 1.43s\tremaining: 1.45s\n",
            "497:\tlearn: 0.0587308\ttotal: 1.43s\tremaining: 1.44s\n",
            "498:\tlearn: 0.0587279\ttotal: 1.44s\tremaining: 1.44s\n",
            "499:\tlearn: 0.0587259\ttotal: 1.44s\tremaining: 1.44s\n",
            "500:\tlearn: 0.0587225\ttotal: 1.44s\tremaining: 1.44s\n",
            "501:\tlearn: 0.0587207\ttotal: 1.44s\tremaining: 1.43s\n",
            "502:\tlearn: 0.0587146\ttotal: 1.45s\tremaining: 1.43s\n",
            "503:\tlearn: 0.0587127\ttotal: 1.45s\tremaining: 1.43s\n",
            "504:\tlearn: 0.0587107\ttotal: 1.45s\tremaining: 1.42s\n",
            "505:\tlearn: 0.0587100\ttotal: 1.45s\tremaining: 1.42s\n",
            "506:\tlearn: 0.0587087\ttotal: 1.46s\tremaining: 1.42s\n",
            "507:\tlearn: 0.0587048\ttotal: 1.46s\tremaining: 1.41s\n",
            "508:\tlearn: 0.0587016\ttotal: 1.46s\tremaining: 1.41s\n",
            "509:\tlearn: 0.0586936\ttotal: 1.47s\tremaining: 1.41s\n",
            "510:\tlearn: 0.0586923\ttotal: 1.47s\tremaining: 1.4s\n",
            "511:\tlearn: 0.0586896\ttotal: 1.47s\tremaining: 1.4s\n",
            "512:\tlearn: 0.0586883\ttotal: 1.47s\tremaining: 1.4s\n",
            "513:\tlearn: 0.0586872\ttotal: 1.48s\tremaining: 1.4s\n",
            "514:\tlearn: 0.0586859\ttotal: 1.48s\tremaining: 1.39s\n",
            "515:\tlearn: 0.0586837\ttotal: 1.48s\tremaining: 1.39s\n",
            "516:\tlearn: 0.0586823\ttotal: 1.48s\tremaining: 1.39s\n",
            "517:\tlearn: 0.0586789\ttotal: 1.49s\tremaining: 1.38s\n",
            "518:\tlearn: 0.0586735\ttotal: 1.49s\tremaining: 1.38s\n",
            "519:\tlearn: 0.0586718\ttotal: 1.49s\tremaining: 1.38s\n",
            "520:\tlearn: 0.0586686\ttotal: 1.5s\tremaining: 1.38s\n",
            "521:\tlearn: 0.0586635\ttotal: 1.5s\tremaining: 1.37s\n",
            "522:\tlearn: 0.0586613\ttotal: 1.5s\tremaining: 1.37s\n",
            "523:\tlearn: 0.0586605\ttotal: 1.5s\tremaining: 1.37s\n",
            "524:\tlearn: 0.0586567\ttotal: 1.51s\tremaining: 1.36s\n",
            "525:\tlearn: 0.0586543\ttotal: 1.51s\tremaining: 1.36s\n",
            "526:\tlearn: 0.0586485\ttotal: 1.51s\tremaining: 1.36s\n",
            "527:\tlearn: 0.0586459\ttotal: 1.51s\tremaining: 1.35s\n",
            "528:\tlearn: 0.0586439\ttotal: 1.52s\tremaining: 1.35s\n",
            "529:\tlearn: 0.0586383\ttotal: 1.52s\tremaining: 1.35s\n",
            "530:\tlearn: 0.0586365\ttotal: 1.52s\tremaining: 1.35s\n",
            "531:\tlearn: 0.0586354\ttotal: 1.53s\tremaining: 1.34s\n",
            "532:\tlearn: 0.0586328\ttotal: 1.53s\tremaining: 1.34s\n",
            "533:\tlearn: 0.0586287\ttotal: 1.54s\tremaining: 1.34s\n",
            "534:\tlearn: 0.0586251\ttotal: 1.54s\tremaining: 1.34s\n",
            "535:\tlearn: 0.0586246\ttotal: 1.54s\tremaining: 1.33s\n",
            "536:\tlearn: 0.0586233\ttotal: 1.54s\tremaining: 1.33s\n",
            "537:\tlearn: 0.0586224\ttotal: 1.55s\tremaining: 1.33s\n",
            "538:\tlearn: 0.0586182\ttotal: 1.55s\tremaining: 1.33s\n",
            "539:\tlearn: 0.0586164\ttotal: 1.55s\tremaining: 1.32s\n",
            "540:\tlearn: 0.0586139\ttotal: 1.56s\tremaining: 1.32s\n",
            "541:\tlearn: 0.0586131\ttotal: 1.56s\tremaining: 1.32s\n",
            "542:\tlearn: 0.0586108\ttotal: 1.56s\tremaining: 1.32s\n",
            "543:\tlearn: 0.0586099\ttotal: 1.57s\tremaining: 1.31s\n",
            "544:\tlearn: 0.0586089\ttotal: 1.57s\tremaining: 1.31s\n",
            "545:\tlearn: 0.0586063\ttotal: 1.57s\tremaining: 1.31s\n",
            "546:\tlearn: 0.0586043\ttotal: 1.57s\tremaining: 1.3s\n",
            "547:\tlearn: 0.0586019\ttotal: 1.58s\tremaining: 1.3s\n",
            "548:\tlearn: 0.0585982\ttotal: 1.58s\tremaining: 1.3s\n",
            "549:\tlearn: 0.0585959\ttotal: 1.58s\tremaining: 1.29s\n",
            "550:\tlearn: 0.0585930\ttotal: 1.58s\tremaining: 1.29s\n",
            "551:\tlearn: 0.0585884\ttotal: 1.59s\tremaining: 1.29s\n",
            "552:\tlearn: 0.0585846\ttotal: 1.59s\tremaining: 1.29s\n",
            "553:\tlearn: 0.0585804\ttotal: 1.59s\tremaining: 1.28s\n",
            "554:\tlearn: 0.0585784\ttotal: 1.6s\tremaining: 1.28s\n",
            "555:\tlearn: 0.0585724\ttotal: 1.6s\tremaining: 1.28s\n",
            "556:\tlearn: 0.0585716\ttotal: 1.61s\tremaining: 1.28s\n",
            "557:\tlearn: 0.0585691\ttotal: 1.61s\tremaining: 1.27s\n",
            "558:\tlearn: 0.0585651\ttotal: 1.61s\tremaining: 1.27s\n",
            "559:\tlearn: 0.0585637\ttotal: 1.61s\tremaining: 1.27s\n",
            "560:\tlearn: 0.0585628\ttotal: 1.62s\tremaining: 1.26s\n",
            "561:\tlearn: 0.0585605\ttotal: 1.62s\tremaining: 1.26s\n",
            "562:\tlearn: 0.0585591\ttotal: 1.62s\tremaining: 1.26s\n",
            "563:\tlearn: 0.0585539\ttotal: 1.62s\tremaining: 1.25s\n",
            "564:\tlearn: 0.0585492\ttotal: 1.63s\tremaining: 1.25s\n",
            "565:\tlearn: 0.0585486\ttotal: 1.63s\tremaining: 1.25s\n",
            "566:\tlearn: 0.0585464\ttotal: 1.63s\tremaining: 1.25s\n",
            "567:\tlearn: 0.0585442\ttotal: 1.64s\tremaining: 1.24s\n",
            "568:\tlearn: 0.0585422\ttotal: 1.64s\tremaining: 1.24s\n",
            "569:\tlearn: 0.0585402\ttotal: 1.64s\tremaining: 1.24s\n",
            "570:\tlearn: 0.0585380\ttotal: 1.64s\tremaining: 1.23s\n",
            "571:\tlearn: 0.0585351\ttotal: 1.65s\tremaining: 1.23s\n",
            "572:\tlearn: 0.0585332\ttotal: 1.65s\tremaining: 1.23s\n",
            "573:\tlearn: 0.0585289\ttotal: 1.65s\tremaining: 1.23s\n",
            "574:\tlearn: 0.0585258\ttotal: 1.65s\tremaining: 1.22s\n",
            "575:\tlearn: 0.0585232\ttotal: 1.66s\tremaining: 1.22s\n",
            "576:\tlearn: 0.0585202\ttotal: 1.66s\tremaining: 1.22s\n",
            "577:\tlearn: 0.0585170\ttotal: 1.66s\tremaining: 1.21s\n",
            "578:\tlearn: 0.0585141\ttotal: 1.66s\tremaining: 1.21s\n",
            "579:\tlearn: 0.0585101\ttotal: 1.67s\tremaining: 1.21s\n",
            "580:\tlearn: 0.0585092\ttotal: 1.67s\tremaining: 1.2s\n",
            "581:\tlearn: 0.0585089\ttotal: 1.67s\tremaining: 1.2s\n",
            "582:\tlearn: 0.0585036\ttotal: 1.68s\tremaining: 1.2s\n",
            "583:\tlearn: 0.0585014\ttotal: 1.68s\tremaining: 1.2s\n",
            "584:\tlearn: 0.0584990\ttotal: 1.68s\tremaining: 1.19s\n",
            "585:\tlearn: 0.0584980\ttotal: 1.68s\tremaining: 1.19s\n",
            "586:\tlearn: 0.0584960\ttotal: 1.69s\tremaining: 1.19s\n",
            "587:\tlearn: 0.0584919\ttotal: 1.69s\tremaining: 1.18s\n",
            "588:\tlearn: 0.0584897\ttotal: 1.69s\tremaining: 1.18s\n",
            "589:\tlearn: 0.0584886\ttotal: 1.69s\tremaining: 1.18s\n",
            "590:\tlearn: 0.0584854\ttotal: 1.7s\tremaining: 1.17s\n",
            "591:\tlearn: 0.0584839\ttotal: 1.7s\tremaining: 1.17s\n",
            "592:\tlearn: 0.0584816\ttotal: 1.71s\tremaining: 1.17s\n",
            "593:\tlearn: 0.0584799\ttotal: 1.71s\tremaining: 1.17s\n",
            "594:\tlearn: 0.0584790\ttotal: 1.72s\tremaining: 1.17s\n",
            "595:\tlearn: 0.0584770\ttotal: 1.73s\tremaining: 1.17s\n",
            "596:\tlearn: 0.0584754\ttotal: 1.73s\tremaining: 1.17s\n",
            "597:\tlearn: 0.0584717\ttotal: 1.73s\tremaining: 1.17s\n",
            "598:\tlearn: 0.0584706\ttotal: 1.74s\tremaining: 1.16s\n",
            "599:\tlearn: 0.0584686\ttotal: 1.74s\tremaining: 1.16s\n",
            "600:\tlearn: 0.0584665\ttotal: 1.74s\tremaining: 1.16s\n",
            "601:\tlearn: 0.0584655\ttotal: 1.74s\tremaining: 1.15s\n",
            "602:\tlearn: 0.0584606\ttotal: 1.75s\tremaining: 1.15s\n",
            "603:\tlearn: 0.0584554\ttotal: 1.75s\tremaining: 1.15s\n",
            "604:\tlearn: 0.0584544\ttotal: 1.75s\tremaining: 1.14s\n",
            "605:\tlearn: 0.0584499\ttotal: 1.75s\tremaining: 1.14s\n",
            "606:\tlearn: 0.0584460\ttotal: 1.76s\tremaining: 1.14s\n",
            "607:\tlearn: 0.0584416\ttotal: 1.76s\tremaining: 1.14s\n",
            "608:\tlearn: 0.0584387\ttotal: 1.76s\tremaining: 1.13s\n",
            "609:\tlearn: 0.0584357\ttotal: 1.77s\tremaining: 1.13s\n",
            "610:\tlearn: 0.0584331\ttotal: 1.77s\tremaining: 1.13s\n",
            "611:\tlearn: 0.0584306\ttotal: 1.77s\tremaining: 1.12s\n",
            "612:\tlearn: 0.0584286\ttotal: 1.77s\tremaining: 1.12s\n",
            "613:\tlearn: 0.0584253\ttotal: 1.78s\tremaining: 1.12s\n",
            "614:\tlearn: 0.0584229\ttotal: 1.78s\tremaining: 1.11s\n",
            "615:\tlearn: 0.0584212\ttotal: 1.78s\tremaining: 1.11s\n",
            "616:\tlearn: 0.0584196\ttotal: 1.79s\tremaining: 1.11s\n",
            "617:\tlearn: 0.0584169\ttotal: 1.79s\tremaining: 1.11s\n",
            "618:\tlearn: 0.0584151\ttotal: 1.79s\tremaining: 1.1s\n",
            "619:\tlearn: 0.0584091\ttotal: 1.8s\tremaining: 1.1s\n",
            "620:\tlearn: 0.0584084\ttotal: 1.8s\tremaining: 1.1s\n",
            "621:\tlearn: 0.0584060\ttotal: 1.8s\tremaining: 1.09s\n",
            "622:\tlearn: 0.0584012\ttotal: 1.8s\tremaining: 1.09s\n",
            "623:\tlearn: 0.0583998\ttotal: 1.81s\tremaining: 1.09s\n",
            "624:\tlearn: 0.0583955\ttotal: 1.81s\tremaining: 1.09s\n",
            "625:\tlearn: 0.0583920\ttotal: 1.81s\tremaining: 1.08s\n",
            "626:\tlearn: 0.0583896\ttotal: 1.82s\tremaining: 1.08s\n",
            "627:\tlearn: 0.0583876\ttotal: 1.82s\tremaining: 1.08s\n",
            "628:\tlearn: 0.0583852\ttotal: 1.82s\tremaining: 1.07s\n",
            "629:\tlearn: 0.0583815\ttotal: 1.82s\tremaining: 1.07s\n",
            "630:\tlearn: 0.0583795\ttotal: 1.83s\tremaining: 1.07s\n",
            "631:\tlearn: 0.0583789\ttotal: 1.83s\tremaining: 1.06s\n",
            "632:\tlearn: 0.0583685\ttotal: 1.83s\tremaining: 1.06s\n",
            "633:\tlearn: 0.0583639\ttotal: 1.83s\tremaining: 1.06s\n",
            "634:\tlearn: 0.0583613\ttotal: 1.84s\tremaining: 1.06s\n",
            "635:\tlearn: 0.0583598\ttotal: 1.84s\tremaining: 1.05s\n",
            "636:\tlearn: 0.0583573\ttotal: 1.84s\tremaining: 1.05s\n",
            "637:\tlearn: 0.0583551\ttotal: 1.85s\tremaining: 1.05s\n",
            "638:\tlearn: 0.0583510\ttotal: 1.85s\tremaining: 1.04s\n",
            "639:\tlearn: 0.0583496\ttotal: 1.85s\tremaining: 1.04s\n",
            "640:\tlearn: 0.0583473\ttotal: 1.85s\tremaining: 1.04s\n",
            "641:\tlearn: 0.0583451\ttotal: 1.86s\tremaining: 1.03s\n",
            "642:\tlearn: 0.0583442\ttotal: 1.86s\tremaining: 1.03s\n",
            "643:\tlearn: 0.0583411\ttotal: 1.86s\tremaining: 1.03s\n",
            "644:\tlearn: 0.0583394\ttotal: 1.86s\tremaining: 1.03s\n",
            "645:\tlearn: 0.0583371\ttotal: 1.87s\tremaining: 1.02s\n",
            "646:\tlearn: 0.0583355\ttotal: 1.87s\tremaining: 1.02s\n",
            "647:\tlearn: 0.0583329\ttotal: 1.87s\tremaining: 1.02s\n",
            "648:\tlearn: 0.0583292\ttotal: 1.88s\tremaining: 1.01s\n",
            "649:\tlearn: 0.0583247\ttotal: 1.88s\tremaining: 1.01s\n",
            "650:\tlearn: 0.0583214\ttotal: 1.88s\tremaining: 1.01s\n",
            "651:\tlearn: 0.0583183\ttotal: 1.88s\tremaining: 1s\n",
            "652:\tlearn: 0.0583179\ttotal: 1.89s\tremaining: 1s\n",
            "653:\tlearn: 0.0583151\ttotal: 1.89s\tremaining: 1000ms\n",
            "654:\tlearn: 0.0583126\ttotal: 1.89s\tremaining: 997ms\n",
            "655:\tlearn: 0.0583069\ttotal: 1.89s\tremaining: 994ms\n",
            "656:\tlearn: 0.0583054\ttotal: 1.9s\tremaining: 990ms\n",
            "657:\tlearn: 0.0583016\ttotal: 1.9s\tremaining: 987ms\n",
            "658:\tlearn: 0.0583006\ttotal: 1.9s\tremaining: 984ms\n",
            "659:\tlearn: 0.0582991\ttotal: 1.91s\tremaining: 981ms\n",
            "660:\tlearn: 0.0582963\ttotal: 1.91s\tremaining: 978ms\n",
            "661:\tlearn: 0.0582928\ttotal: 1.91s\tremaining: 975ms\n",
            "662:\tlearn: 0.0582884\ttotal: 1.91s\tremaining: 972ms\n",
            "663:\tlearn: 0.0582849\ttotal: 1.92s\tremaining: 970ms\n",
            "664:\tlearn: 0.0582844\ttotal: 1.92s\tremaining: 969ms\n",
            "665:\tlearn: 0.0582823\ttotal: 1.93s\tremaining: 966ms\n",
            "666:\tlearn: 0.0582802\ttotal: 1.93s\tremaining: 963ms\n",
            "667:\tlearn: 0.0582800\ttotal: 1.93s\tremaining: 960ms\n",
            "668:\tlearn: 0.0582787\ttotal: 1.93s\tremaining: 957ms\n",
            "669:\tlearn: 0.0582779\ttotal: 1.94s\tremaining: 954ms\n",
            "670:\tlearn: 0.0582760\ttotal: 1.94s\tremaining: 951ms\n",
            "671:\tlearn: 0.0582759\ttotal: 1.94s\tremaining: 948ms\n",
            "672:\tlearn: 0.0582738\ttotal: 1.94s\tremaining: 945ms\n",
            "673:\tlearn: 0.0582718\ttotal: 1.95s\tremaining: 942ms\n",
            "674:\tlearn: 0.0582711\ttotal: 1.95s\tremaining: 939ms\n",
            "675:\tlearn: 0.0582691\ttotal: 1.95s\tremaining: 936ms\n",
            "676:\tlearn: 0.0582668\ttotal: 1.96s\tremaining: 933ms\n",
            "677:\tlearn: 0.0582633\ttotal: 1.96s\tremaining: 930ms\n",
            "678:\tlearn: 0.0582610\ttotal: 1.96s\tremaining: 927ms\n",
            "679:\tlearn: 0.0582591\ttotal: 1.96s\tremaining: 924ms\n",
            "680:\tlearn: 0.0582571\ttotal: 1.97s\tremaining: 921ms\n",
            "681:\tlearn: 0.0582546\ttotal: 1.97s\tremaining: 918ms\n",
            "682:\tlearn: 0.0582531\ttotal: 1.97s\tremaining: 915ms\n",
            "683:\tlearn: 0.0582507\ttotal: 1.97s\tremaining: 912ms\n",
            "684:\tlearn: 0.0582488\ttotal: 1.98s\tremaining: 909ms\n",
            "685:\tlearn: 0.0582470\ttotal: 1.98s\tremaining: 906ms\n",
            "686:\tlearn: 0.0582440\ttotal: 1.98s\tremaining: 903ms\n",
            "687:\tlearn: 0.0582413\ttotal: 1.98s\tremaining: 900ms\n",
            "688:\tlearn: 0.0582396\ttotal: 1.99s\tremaining: 897ms\n",
            "689:\tlearn: 0.0582354\ttotal: 1.99s\tremaining: 894ms\n",
            "690:\tlearn: 0.0582343\ttotal: 1.99s\tremaining: 891ms\n",
            "691:\tlearn: 0.0582336\ttotal: 2s\tremaining: 890ms\n",
            "692:\tlearn: 0.0582311\ttotal: 2.01s\tremaining: 890ms\n",
            "693:\tlearn: 0.0582306\ttotal: 2.01s\tremaining: 887ms\n",
            "694:\tlearn: 0.0582276\ttotal: 2.01s\tremaining: 884ms\n",
            "695:\tlearn: 0.0582261\ttotal: 2.02s\tremaining: 881ms\n",
            "696:\tlearn: 0.0582229\ttotal: 2.02s\tremaining: 879ms\n",
            "697:\tlearn: 0.0582189\ttotal: 2.02s\tremaining: 876ms\n",
            "698:\tlearn: 0.0582177\ttotal: 2.03s\tremaining: 873ms\n",
            "699:\tlearn: 0.0582162\ttotal: 2.03s\tremaining: 870ms\n",
            "700:\tlearn: 0.0582141\ttotal: 2.03s\tremaining: 867ms\n",
            "701:\tlearn: 0.0582117\ttotal: 2.04s\tremaining: 864ms\n",
            "702:\tlearn: 0.0582087\ttotal: 2.04s\tremaining: 861ms\n",
            "703:\tlearn: 0.0582062\ttotal: 2.04s\tremaining: 858ms\n",
            "704:\tlearn: 0.0582019\ttotal: 2.04s\tremaining: 855ms\n",
            "705:\tlearn: 0.0582011\ttotal: 2.04s\tremaining: 852ms\n",
            "706:\tlearn: 0.0581975\ttotal: 2.05s\tremaining: 849ms\n",
            "707:\tlearn: 0.0581966\ttotal: 2.05s\tremaining: 846ms\n",
            "708:\tlearn: 0.0581955\ttotal: 2.05s\tremaining: 843ms\n",
            "709:\tlearn: 0.0581939\ttotal: 2.06s\tremaining: 840ms\n",
            "710:\tlearn: 0.0581929\ttotal: 2.06s\tremaining: 837ms\n",
            "711:\tlearn: 0.0581891\ttotal: 2.06s\tremaining: 834ms\n",
            "712:\tlearn: 0.0581877\ttotal: 2.06s\tremaining: 831ms\n",
            "713:\tlearn: 0.0581867\ttotal: 2.07s\tremaining: 829ms\n",
            "714:\tlearn: 0.0581858\ttotal: 2.07s\tremaining: 826ms\n",
            "715:\tlearn: 0.0581845\ttotal: 2.07s\tremaining: 823ms\n",
            "716:\tlearn: 0.0581835\ttotal: 2.08s\tremaining: 820ms\n",
            "717:\tlearn: 0.0581799\ttotal: 2.08s\tremaining: 817ms\n",
            "718:\tlearn: 0.0581787\ttotal: 2.08s\tremaining: 814ms\n",
            "719:\tlearn: 0.0581761\ttotal: 2.08s\tremaining: 811ms\n",
            "720:\tlearn: 0.0581740\ttotal: 2.09s\tremaining: 808ms\n",
            "721:\tlearn: 0.0581695\ttotal: 2.09s\tremaining: 805ms\n",
            "722:\tlearn: 0.0581652\ttotal: 2.09s\tremaining: 802ms\n",
            "723:\tlearn: 0.0581641\ttotal: 2.1s\tremaining: 799ms\n",
            "724:\tlearn: 0.0581636\ttotal: 2.1s\tremaining: 796ms\n",
            "725:\tlearn: 0.0581623\ttotal: 2.1s\tremaining: 793ms\n",
            "726:\tlearn: 0.0581617\ttotal: 2.1s\tremaining: 790ms\n",
            "727:\tlearn: 0.0581592\ttotal: 2.11s\tremaining: 789ms\n",
            "728:\tlearn: 0.0581554\ttotal: 2.11s\tremaining: 786ms\n",
            "729:\tlearn: 0.0581536\ttotal: 2.12s\tremaining: 783ms\n",
            "730:\tlearn: 0.0581514\ttotal: 2.12s\tremaining: 780ms\n",
            "731:\tlearn: 0.0581492\ttotal: 2.12s\tremaining: 777ms\n",
            "732:\tlearn: 0.0581455\ttotal: 2.13s\tremaining: 774ms\n",
            "733:\tlearn: 0.0581449\ttotal: 2.13s\tremaining: 771ms\n",
            "734:\tlearn: 0.0581421\ttotal: 2.13s\tremaining: 768ms\n",
            "735:\tlearn: 0.0581402\ttotal: 2.13s\tremaining: 765ms\n",
            "736:\tlearn: 0.0581311\ttotal: 2.14s\tremaining: 762ms\n",
            "737:\tlearn: 0.0581294\ttotal: 2.14s\tremaining: 760ms\n",
            "738:\tlearn: 0.0581256\ttotal: 2.14s\tremaining: 757ms\n",
            "739:\tlearn: 0.0581244\ttotal: 2.14s\tremaining: 754ms\n",
            "740:\tlearn: 0.0581231\ttotal: 2.15s\tremaining: 751ms\n",
            "741:\tlearn: 0.0581195\ttotal: 2.15s\tremaining: 748ms\n",
            "742:\tlearn: 0.0581171\ttotal: 2.15s\tremaining: 745ms\n",
            "743:\tlearn: 0.0581153\ttotal: 2.15s\tremaining: 742ms\n",
            "744:\tlearn: 0.0581134\ttotal: 2.16s\tremaining: 739ms\n",
            "745:\tlearn: 0.0581120\ttotal: 2.16s\tremaining: 736ms\n",
            "746:\tlearn: 0.0581108\ttotal: 2.16s\tremaining: 733ms\n",
            "747:\tlearn: 0.0581099\ttotal: 2.17s\tremaining: 730ms\n",
            "748:\tlearn: 0.0581060\ttotal: 2.17s\tremaining: 727ms\n",
            "749:\tlearn: 0.0581036\ttotal: 2.17s\tremaining: 724ms\n",
            "750:\tlearn: 0.0581019\ttotal: 2.17s\tremaining: 721ms\n",
            "751:\tlearn: 0.0581009\ttotal: 2.18s\tremaining: 718ms\n",
            "752:\tlearn: 0.0580982\ttotal: 2.18s\tremaining: 715ms\n",
            "753:\tlearn: 0.0580964\ttotal: 2.18s\tremaining: 712ms\n",
            "754:\tlearn: 0.0580948\ttotal: 2.18s\tremaining: 709ms\n",
            "755:\tlearn: 0.0580930\ttotal: 2.19s\tremaining: 706ms\n",
            "756:\tlearn: 0.0580921\ttotal: 2.19s\tremaining: 703ms\n",
            "757:\tlearn: 0.0580888\ttotal: 2.19s\tremaining: 700ms\n",
            "758:\tlearn: 0.0580861\ttotal: 2.19s\tremaining: 697ms\n",
            "759:\tlearn: 0.0580817\ttotal: 2.2s\tremaining: 694ms\n",
            "760:\tlearn: 0.0580796\ttotal: 2.2s\tremaining: 691ms\n",
            "761:\tlearn: 0.0580776\ttotal: 2.2s\tremaining: 688ms\n",
            "762:\tlearn: 0.0580763\ttotal: 2.21s\tremaining: 685ms\n",
            "763:\tlearn: 0.0580756\ttotal: 2.21s\tremaining: 682ms\n",
            "764:\tlearn: 0.0580722\ttotal: 2.21s\tremaining: 679ms\n",
            "765:\tlearn: 0.0580690\ttotal: 2.21s\tremaining: 676ms\n",
            "766:\tlearn: 0.0580689\ttotal: 2.22s\tremaining: 673ms\n",
            "767:\tlearn: 0.0580677\ttotal: 2.22s\tremaining: 670ms\n",
            "768:\tlearn: 0.0580669\ttotal: 2.22s\tremaining: 667ms\n",
            "769:\tlearn: 0.0580649\ttotal: 2.22s\tremaining: 664ms\n",
            "770:\tlearn: 0.0580636\ttotal: 2.23s\tremaining: 661ms\n",
            "771:\tlearn: 0.0580621\ttotal: 2.23s\tremaining: 659ms\n",
            "772:\tlearn: 0.0580606\ttotal: 2.23s\tremaining: 656ms\n",
            "773:\tlearn: 0.0580574\ttotal: 2.23s\tremaining: 653ms\n",
            "774:\tlearn: 0.0580553\ttotal: 2.24s\tremaining: 650ms\n",
            "775:\tlearn: 0.0580545\ttotal: 2.24s\tremaining: 647ms\n",
            "776:\tlearn: 0.0580523\ttotal: 2.24s\tremaining: 644ms\n",
            "777:\tlearn: 0.0580512\ttotal: 2.25s\tremaining: 641ms\n",
            "778:\tlearn: 0.0580487\ttotal: 2.25s\tremaining: 638ms\n",
            "779:\tlearn: 0.0580486\ttotal: 2.25s\tremaining: 635ms\n",
            "780:\tlearn: 0.0580473\ttotal: 2.25s\tremaining: 632ms\n",
            "781:\tlearn: 0.0580431\ttotal: 2.26s\tremaining: 629ms\n",
            "782:\tlearn: 0.0580399\ttotal: 2.26s\tremaining: 626ms\n",
            "783:\tlearn: 0.0580377\ttotal: 2.26s\tremaining: 623ms\n",
            "784:\tlearn: 0.0580346\ttotal: 2.27s\tremaining: 620ms\n",
            "785:\tlearn: 0.0580338\ttotal: 2.27s\tremaining: 617ms\n",
            "786:\tlearn: 0.0580331\ttotal: 2.27s\tremaining: 614ms\n",
            "787:\tlearn: 0.0580315\ttotal: 2.27s\tremaining: 611ms\n",
            "788:\tlearn: 0.0580304\ttotal: 2.27s\tremaining: 609ms\n",
            "789:\tlearn: 0.0580299\ttotal: 2.28s\tremaining: 605ms\n",
            "790:\tlearn: 0.0580292\ttotal: 2.28s\tremaining: 603ms\n",
            "791:\tlearn: 0.0580278\ttotal: 2.28s\tremaining: 600ms\n",
            "792:\tlearn: 0.0580265\ttotal: 2.29s\tremaining: 597ms\n",
            "793:\tlearn: 0.0580251\ttotal: 2.29s\tremaining: 594ms\n",
            "794:\tlearn: 0.0580226\ttotal: 2.29s\tremaining: 591ms\n",
            "795:\tlearn: 0.0580215\ttotal: 2.29s\tremaining: 588ms\n",
            "796:\tlearn: 0.0580201\ttotal: 2.29s\tremaining: 585ms\n",
            "797:\tlearn: 0.0580178\ttotal: 2.3s\tremaining: 582ms\n",
            "798:\tlearn: 0.0580173\ttotal: 2.3s\tremaining: 580ms\n",
            "799:\tlearn: 0.0580162\ttotal: 2.31s\tremaining: 578ms\n",
            "800:\tlearn: 0.0580143\ttotal: 2.31s\tremaining: 575ms\n",
            "801:\tlearn: 0.0580130\ttotal: 2.32s\tremaining: 572ms\n",
            "802:\tlearn: 0.0580097\ttotal: 2.32s\tremaining: 569ms\n",
            "803:\tlearn: 0.0580084\ttotal: 2.32s\tremaining: 567ms\n",
            "804:\tlearn: 0.0580059\ttotal: 2.33s\tremaining: 564ms\n",
            "805:\tlearn: 0.0580029\ttotal: 2.33s\tremaining: 561ms\n",
            "806:\tlearn: 0.0580019\ttotal: 2.33s\tremaining: 558ms\n",
            "807:\tlearn: 0.0580005\ttotal: 2.33s\tremaining: 555ms\n",
            "808:\tlearn: 0.0579990\ttotal: 2.34s\tremaining: 552ms\n",
            "809:\tlearn: 0.0579966\ttotal: 2.34s\tremaining: 549ms\n",
            "810:\tlearn: 0.0579959\ttotal: 2.34s\tremaining: 546ms\n",
            "811:\tlearn: 0.0579947\ttotal: 2.35s\tremaining: 543ms\n",
            "812:\tlearn: 0.0579929\ttotal: 2.35s\tremaining: 540ms\n",
            "813:\tlearn: 0.0579925\ttotal: 2.35s\tremaining: 537ms\n",
            "814:\tlearn: 0.0579923\ttotal: 2.35s\tremaining: 534ms\n",
            "815:\tlearn: 0.0579890\ttotal: 2.36s\tremaining: 532ms\n",
            "816:\tlearn: 0.0579885\ttotal: 2.36s\tremaining: 529ms\n",
            "817:\tlearn: 0.0579847\ttotal: 2.37s\tremaining: 526ms\n",
            "818:\tlearn: 0.0579824\ttotal: 2.37s\tremaining: 523ms\n",
            "819:\tlearn: 0.0579811\ttotal: 2.37s\tremaining: 521ms\n",
            "820:\tlearn: 0.0579794\ttotal: 2.37s\tremaining: 518ms\n",
            "821:\tlearn: 0.0579772\ttotal: 2.38s\tremaining: 515ms\n",
            "822:\tlearn: 0.0579770\ttotal: 2.38s\tremaining: 512ms\n",
            "823:\tlearn: 0.0579757\ttotal: 2.38s\tremaining: 509ms\n",
            "824:\tlearn: 0.0579754\ttotal: 2.38s\tremaining: 506ms\n",
            "825:\tlearn: 0.0579724\ttotal: 2.39s\tremaining: 503ms\n",
            "826:\tlearn: 0.0579719\ttotal: 2.39s\tremaining: 500ms\n",
            "827:\tlearn: 0.0579702\ttotal: 2.39s\tremaining: 497ms\n",
            "828:\tlearn: 0.0579686\ttotal: 2.4s\tremaining: 494ms\n",
            "829:\tlearn: 0.0579672\ttotal: 2.4s\tremaining: 491ms\n",
            "830:\tlearn: 0.0579641\ttotal: 2.4s\tremaining: 489ms\n",
            "831:\tlearn: 0.0579627\ttotal: 2.4s\tremaining: 486ms\n",
            "832:\tlearn: 0.0579616\ttotal: 2.41s\tremaining: 483ms\n",
            "833:\tlearn: 0.0579605\ttotal: 2.41s\tremaining: 480ms\n",
            "834:\tlearn: 0.0579573\ttotal: 2.41s\tremaining: 477ms\n",
            "835:\tlearn: 0.0579548\ttotal: 2.42s\tremaining: 474ms\n",
            "836:\tlearn: 0.0579542\ttotal: 2.42s\tremaining: 471ms\n",
            "837:\tlearn: 0.0579524\ttotal: 2.42s\tremaining: 469ms\n",
            "838:\tlearn: 0.0579507\ttotal: 2.43s\tremaining: 466ms\n",
            "839:\tlearn: 0.0579494\ttotal: 2.43s\tremaining: 463ms\n",
            "840:\tlearn: 0.0579487\ttotal: 2.43s\tremaining: 460ms\n",
            "841:\tlearn: 0.0579459\ttotal: 2.44s\tremaining: 457ms\n",
            "842:\tlearn: 0.0579456\ttotal: 2.44s\tremaining: 454ms\n",
            "843:\tlearn: 0.0579451\ttotal: 2.44s\tremaining: 451ms\n",
            "844:\tlearn: 0.0579422\ttotal: 2.44s\tremaining: 448ms\n",
            "845:\tlearn: 0.0579406\ttotal: 2.45s\tremaining: 445ms\n",
            "846:\tlearn: 0.0579326\ttotal: 2.45s\tremaining: 443ms\n",
            "847:\tlearn: 0.0579296\ttotal: 2.45s\tremaining: 440ms\n",
            "848:\tlearn: 0.0579280\ttotal: 2.46s\tremaining: 437ms\n",
            "849:\tlearn: 0.0579240\ttotal: 2.46s\tremaining: 434ms\n",
            "850:\tlearn: 0.0579224\ttotal: 2.46s\tremaining: 431ms\n",
            "851:\tlearn: 0.0579218\ttotal: 2.46s\tremaining: 428ms\n",
            "852:\tlearn: 0.0579198\ttotal: 2.46s\tremaining: 425ms\n",
            "853:\tlearn: 0.0579192\ttotal: 2.47s\tremaining: 422ms\n",
            "854:\tlearn: 0.0579178\ttotal: 2.47s\tremaining: 419ms\n",
            "855:\tlearn: 0.0579169\ttotal: 2.47s\tremaining: 416ms\n",
            "856:\tlearn: 0.0579142\ttotal: 2.48s\tremaining: 414ms\n",
            "857:\tlearn: 0.0579124\ttotal: 2.48s\tremaining: 411ms\n",
            "858:\tlearn: 0.0579099\ttotal: 2.48s\tremaining: 408ms\n",
            "859:\tlearn: 0.0579087\ttotal: 2.49s\tremaining: 405ms\n",
            "860:\tlearn: 0.0579066\ttotal: 2.49s\tremaining: 402ms\n",
            "861:\tlearn: 0.0579052\ttotal: 2.49s\tremaining: 399ms\n",
            "862:\tlearn: 0.0579033\ttotal: 2.5s\tremaining: 396ms\n",
            "863:\tlearn: 0.0579016\ttotal: 2.5s\tremaining: 394ms\n",
            "864:\tlearn: 0.0579012\ttotal: 2.5s\tremaining: 391ms\n",
            "865:\tlearn: 0.0578991\ttotal: 2.51s\tremaining: 388ms\n",
            "866:\tlearn: 0.0578970\ttotal: 2.51s\tremaining: 385ms\n",
            "867:\tlearn: 0.0578965\ttotal: 2.51s\tremaining: 382ms\n",
            "868:\tlearn: 0.0578961\ttotal: 2.52s\tremaining: 380ms\n",
            "869:\tlearn: 0.0578943\ttotal: 2.52s\tremaining: 377ms\n",
            "870:\tlearn: 0.0578925\ttotal: 2.52s\tremaining: 374ms\n",
            "871:\tlearn: 0.0578906\ttotal: 2.53s\tremaining: 371ms\n",
            "872:\tlearn: 0.0578893\ttotal: 2.53s\tremaining: 368ms\n",
            "873:\tlearn: 0.0578878\ttotal: 2.53s\tremaining: 365ms\n",
            "874:\tlearn: 0.0578858\ttotal: 2.53s\tremaining: 362ms\n",
            "875:\tlearn: 0.0578852\ttotal: 2.54s\tremaining: 359ms\n",
            "876:\tlearn: 0.0578817\ttotal: 2.54s\tremaining: 356ms\n",
            "877:\tlearn: 0.0578793\ttotal: 2.54s\tremaining: 353ms\n",
            "878:\tlearn: 0.0578787\ttotal: 2.54s\tremaining: 350ms\n",
            "879:\tlearn: 0.0578769\ttotal: 2.55s\tremaining: 347ms\n",
            "880:\tlearn: 0.0578745\ttotal: 2.55s\tremaining: 345ms\n",
            "881:\tlearn: 0.0578732\ttotal: 2.55s\tremaining: 342ms\n",
            "882:\tlearn: 0.0578726\ttotal: 2.56s\tremaining: 339ms\n",
            "883:\tlearn: 0.0578714\ttotal: 2.56s\tremaining: 336ms\n",
            "884:\tlearn: 0.0578693\ttotal: 2.56s\tremaining: 333ms\n",
            "885:\tlearn: 0.0578669\ttotal: 2.56s\tremaining: 330ms\n",
            "886:\tlearn: 0.0578597\ttotal: 2.57s\tremaining: 327ms\n",
            "887:\tlearn: 0.0578595\ttotal: 2.57s\tremaining: 324ms\n",
            "888:\tlearn: 0.0578581\ttotal: 2.57s\tremaining: 321ms\n",
            "889:\tlearn: 0.0578565\ttotal: 2.58s\tremaining: 318ms\n",
            "890:\tlearn: 0.0578553\ttotal: 2.58s\tremaining: 315ms\n",
            "891:\tlearn: 0.0578525\ttotal: 2.58s\tremaining: 312ms\n",
            "892:\tlearn: 0.0578511\ttotal: 2.58s\tremaining: 310ms\n",
            "893:\tlearn: 0.0578496\ttotal: 2.59s\tremaining: 307ms\n",
            "894:\tlearn: 0.0578470\ttotal: 2.59s\tremaining: 304ms\n",
            "895:\tlearn: 0.0578453\ttotal: 2.59s\tremaining: 301ms\n",
            "896:\tlearn: 0.0578438\ttotal: 2.59s\tremaining: 298ms\n",
            "897:\tlearn: 0.0578428\ttotal: 2.6s\tremaining: 295ms\n",
            "898:\tlearn: 0.0578424\ttotal: 2.6s\tremaining: 292ms\n",
            "899:\tlearn: 0.0578409\ttotal: 2.6s\tremaining: 289ms\n",
            "900:\tlearn: 0.0578392\ttotal: 2.6s\tremaining: 286ms\n",
            "901:\tlearn: 0.0578380\ttotal: 2.61s\tremaining: 283ms\n",
            "902:\tlearn: 0.0578373\ttotal: 2.61s\tremaining: 280ms\n",
            "903:\tlearn: 0.0578337\ttotal: 2.61s\tremaining: 278ms\n",
            "904:\tlearn: 0.0578303\ttotal: 2.62s\tremaining: 275ms\n",
            "905:\tlearn: 0.0578289\ttotal: 2.62s\tremaining: 272ms\n",
            "906:\tlearn: 0.0578283\ttotal: 2.62s\tremaining: 269ms\n",
            "907:\tlearn: 0.0578255\ttotal: 2.62s\tremaining: 266ms\n",
            "908:\tlearn: 0.0578233\ttotal: 2.63s\tremaining: 263ms\n",
            "909:\tlearn: 0.0578213\ttotal: 2.63s\tremaining: 260ms\n",
            "910:\tlearn: 0.0578180\ttotal: 2.63s\tremaining: 257ms\n",
            "911:\tlearn: 0.0578174\ttotal: 2.63s\tremaining: 254ms\n",
            "912:\tlearn: 0.0578160\ttotal: 2.64s\tremaining: 251ms\n",
            "913:\tlearn: 0.0578154\ttotal: 2.64s\tremaining: 248ms\n",
            "914:\tlearn: 0.0578141\ttotal: 2.64s\tremaining: 246ms\n",
            "915:\tlearn: 0.0578139\ttotal: 2.65s\tremaining: 243ms\n",
            "916:\tlearn: 0.0578117\ttotal: 2.65s\tremaining: 240ms\n",
            "917:\tlearn: 0.0578110\ttotal: 2.66s\tremaining: 237ms\n",
            "918:\tlearn: 0.0578100\ttotal: 2.67s\tremaining: 235ms\n",
            "919:\tlearn: 0.0578093\ttotal: 2.67s\tremaining: 232ms\n",
            "920:\tlearn: 0.0578086\ttotal: 2.68s\tremaining: 230ms\n",
            "921:\tlearn: 0.0578077\ttotal: 2.69s\tremaining: 228ms\n",
            "922:\tlearn: 0.0578067\ttotal: 2.7s\tremaining: 225ms\n",
            "923:\tlearn: 0.0578054\ttotal: 2.7s\tremaining: 222ms\n",
            "924:\tlearn: 0.0578039\ttotal: 2.71s\tremaining: 220ms\n",
            "925:\tlearn: 0.0578025\ttotal: 2.71s\tremaining: 217ms\n",
            "926:\tlearn: 0.0578008\ttotal: 2.71s\tremaining: 214ms\n",
            "927:\tlearn: 0.0578005\ttotal: 2.71s\tremaining: 211ms\n",
            "928:\tlearn: 0.0577990\ttotal: 2.72s\tremaining: 208ms\n",
            "929:\tlearn: 0.0577971\ttotal: 2.72s\tremaining: 205ms\n",
            "930:\tlearn: 0.0577946\ttotal: 2.73s\tremaining: 202ms\n",
            "931:\tlearn: 0.0577928\ttotal: 2.73s\tremaining: 199ms\n",
            "932:\tlearn: 0.0577921\ttotal: 2.73s\tremaining: 196ms\n",
            "933:\tlearn: 0.0577912\ttotal: 2.73s\tremaining: 193ms\n",
            "934:\tlearn: 0.0577893\ttotal: 2.73s\tremaining: 190ms\n",
            "935:\tlearn: 0.0577887\ttotal: 2.74s\tremaining: 187ms\n",
            "936:\tlearn: 0.0577877\ttotal: 2.74s\tremaining: 184ms\n",
            "937:\tlearn: 0.0577855\ttotal: 2.74s\tremaining: 181ms\n",
            "938:\tlearn: 0.0577836\ttotal: 2.75s\tremaining: 178ms\n",
            "939:\tlearn: 0.0577822\ttotal: 2.75s\tremaining: 176ms\n",
            "940:\tlearn: 0.0577816\ttotal: 2.75s\tremaining: 173ms\n",
            "941:\tlearn: 0.0577797\ttotal: 2.75s\tremaining: 170ms\n",
            "942:\tlearn: 0.0577786\ttotal: 2.76s\tremaining: 167ms\n",
            "943:\tlearn: 0.0577776\ttotal: 2.76s\tremaining: 164ms\n",
            "944:\tlearn: 0.0577765\ttotal: 2.76s\tremaining: 161ms\n",
            "945:\tlearn: 0.0577753\ttotal: 2.77s\tremaining: 158ms\n",
            "946:\tlearn: 0.0577747\ttotal: 2.77s\tremaining: 155ms\n",
            "947:\tlearn: 0.0577735\ttotal: 2.77s\tremaining: 152ms\n",
            "948:\tlearn: 0.0577729\ttotal: 2.77s\tremaining: 149ms\n",
            "949:\tlearn: 0.0577719\ttotal: 2.78s\tremaining: 146ms\n",
            "950:\tlearn: 0.0577684\ttotal: 2.78s\tremaining: 143ms\n",
            "951:\tlearn: 0.0577667\ttotal: 2.78s\tremaining: 140ms\n",
            "952:\tlearn: 0.0577654\ttotal: 2.79s\tremaining: 137ms\n",
            "953:\tlearn: 0.0577653\ttotal: 2.79s\tremaining: 134ms\n",
            "954:\tlearn: 0.0577645\ttotal: 2.79s\tremaining: 131ms\n",
            "955:\tlearn: 0.0577640\ttotal: 2.79s\tremaining: 129ms\n",
            "956:\tlearn: 0.0577630\ttotal: 2.79s\tremaining: 126ms\n",
            "957:\tlearn: 0.0577619\ttotal: 2.8s\tremaining: 123ms\n",
            "958:\tlearn: 0.0577599\ttotal: 2.8s\tremaining: 120ms\n",
            "959:\tlearn: 0.0577582\ttotal: 2.8s\tremaining: 117ms\n",
            "960:\tlearn: 0.0577562\ttotal: 2.81s\tremaining: 114ms\n",
            "961:\tlearn: 0.0577549\ttotal: 2.81s\tremaining: 111ms\n",
            "962:\tlearn: 0.0577486\ttotal: 2.81s\tremaining: 108ms\n",
            "963:\tlearn: 0.0577470\ttotal: 2.81s\tremaining: 105ms\n",
            "964:\tlearn: 0.0577453\ttotal: 2.82s\tremaining: 102ms\n",
            "965:\tlearn: 0.0577452\ttotal: 2.82s\tremaining: 99.2ms\n",
            "966:\tlearn: 0.0577434\ttotal: 2.82s\tremaining: 96.3ms\n",
            "967:\tlearn: 0.0577429\ttotal: 2.83s\tremaining: 93.4ms\n",
            "968:\tlearn: 0.0577390\ttotal: 2.83s\tremaining: 90.5ms\n",
            "969:\tlearn: 0.0577381\ttotal: 2.83s\tremaining: 87.6ms\n",
            "970:\tlearn: 0.0577377\ttotal: 2.83s\tremaining: 84.6ms\n",
            "971:\tlearn: 0.0577359\ttotal: 2.84s\tremaining: 81.7ms\n",
            "972:\tlearn: 0.0577347\ttotal: 2.84s\tremaining: 78.8ms\n",
            "973:\tlearn: 0.0577327\ttotal: 2.84s\tremaining: 75.9ms\n",
            "974:\tlearn: 0.0577294\ttotal: 2.84s\tremaining: 72.9ms\n",
            "975:\tlearn: 0.0577288\ttotal: 2.85s\tremaining: 70ms\n",
            "976:\tlearn: 0.0577275\ttotal: 2.85s\tremaining: 67.1ms\n",
            "977:\tlearn: 0.0577260\ttotal: 2.85s\tremaining: 64.2ms\n",
            "978:\tlearn: 0.0577250\ttotal: 2.85s\tremaining: 61.3ms\n",
            "979:\tlearn: 0.0577224\ttotal: 2.86s\tremaining: 58.3ms\n",
            "980:\tlearn: 0.0577219\ttotal: 2.86s\tremaining: 55.4ms\n",
            "981:\tlearn: 0.0577208\ttotal: 2.86s\tremaining: 52.5ms\n",
            "982:\tlearn: 0.0577192\ttotal: 2.87s\tremaining: 49.6ms\n",
            "983:\tlearn: 0.0577174\ttotal: 2.87s\tremaining: 46.7ms\n",
            "984:\tlearn: 0.0577160\ttotal: 2.87s\tremaining: 43.7ms\n",
            "985:\tlearn: 0.0577110\ttotal: 2.88s\tremaining: 40.8ms\n",
            "986:\tlearn: 0.0577103\ttotal: 2.88s\tremaining: 37.9ms\n",
            "987:\tlearn: 0.0577090\ttotal: 2.88s\tremaining: 35ms\n",
            "988:\tlearn: 0.0577062\ttotal: 2.89s\tremaining: 32.1ms\n",
            "989:\tlearn: 0.0577058\ttotal: 2.9s\tremaining: 29.3ms\n",
            "990:\tlearn: 0.0577026\ttotal: 2.9s\tremaining: 26.3ms\n",
            "991:\tlearn: 0.0576996\ttotal: 2.9s\tremaining: 23.4ms\n",
            "992:\tlearn: 0.0576972\ttotal: 2.9s\tremaining: 20.5ms\n",
            "993:\tlearn: 0.0576957\ttotal: 2.91s\tremaining: 17.5ms\n",
            "994:\tlearn: 0.0576955\ttotal: 2.91s\tremaining: 14.6ms\n",
            "995:\tlearn: 0.0576937\ttotal: 2.91s\tremaining: 11.7ms\n",
            "996:\tlearn: 0.0576931\ttotal: 2.92s\tremaining: 8.77ms\n",
            "997:\tlearn: 0.0576919\ttotal: 2.92s\tremaining: 5.85ms\n",
            "998:\tlearn: 0.0576916\ttotal: 2.92s\tremaining: 2.92ms\n",
            "999:\tlearn: 0.0576890\ttotal: 2.92s\tremaining: 0us\n",
            "CatBoostRegressor : 3.22 secs \n",
            "\n",
            "CPU times: user 9.29 s, sys: 463 ms, total: 9.76 s\n",
            "Wall time: 7.22 s\n"
          ],
          "name": "stdout"
        }
      ]
    },
    {
      "cell_type": "code",
      "metadata": {
        "colab": {
          "base_uri": "https://localhost:8080/",
          "height": 230
        },
        "id": "rP93KQyFgA6M",
        "outputId": "798bb707-3d0a-4191-f22e-e9cc5d3938a1"
      },
      "source": [
        "accuracy_frame.sort_values(by=['Test Accuracy'],ascending=False)"
      ],
      "execution_count": null,
      "outputs": [
        {
          "output_type": "execute_result",
          "data": {
            "text/html": [
              "<div>\n",
              "<style scoped>\n",
              "    .dataframe tbody tr th:only-of-type {\n",
              "        vertical-align: middle;\n",
              "    }\n",
              "\n",
              "    .dataframe tbody tr th {\n",
              "        vertical-align: top;\n",
              "    }\n",
              "\n",
              "    .dataframe thead th {\n",
              "        text-align: right;\n",
              "    }\n",
              "</style>\n",
              "<table border=\"1\" class=\"dataframe\">\n",
              "  <thead>\n",
              "    <tr style=\"text-align: right;\">\n",
              "      <th></th>\n",
              "      <th>Train Accuracy</th>\n",
              "      <th>Test Accuracy</th>\n",
              "      <th>Train RMSE</th>\n",
              "      <th>Test RMSE</th>\n",
              "    </tr>\n",
              "  </thead>\n",
              "  <tbody>\n",
              "    <tr>\n",
              "      <th>LGBMRegressor</th>\n",
              "      <td>0.91167</td>\n",
              "      <td>0.90411</td>\n",
              "      <td>0.05905</td>\n",
              "      <td>0.06297</td>\n",
              "    </tr>\n",
              "    <tr>\n",
              "      <th>GradientBoostingRegressor</th>\n",
              "      <td>0.90567</td>\n",
              "      <td>0.90394</td>\n",
              "      <td>0.06102</td>\n",
              "      <td>0.06302</td>\n",
              "    </tr>\n",
              "    <tr>\n",
              "      <th>XGBRegressor</th>\n",
              "      <td>0.90573</td>\n",
              "      <td>0.90380</td>\n",
              "      <td>0.06100</td>\n",
              "      <td>0.06307</td>\n",
              "    </tr>\n",
              "    <tr>\n",
              "      <th>CatBoostRegressor</th>\n",
              "      <td>0.91568</td>\n",
              "      <td>0.90159</td>\n",
              "      <td>0.05769</td>\n",
              "      <td>0.06379</td>\n",
              "    </tr>\n",
              "    <tr>\n",
              "      <th>ExtraTreesRegressor</th>\n",
              "      <td>0.92730</td>\n",
              "      <td>0.88473</td>\n",
              "      <td>0.05357</td>\n",
              "      <td>0.06904</td>\n",
              "    </tr>\n",
              "    <tr>\n",
              "      <th>AdaBoostRegressor</th>\n",
              "      <td>0.75895</td>\n",
              "      <td>0.76287</td>\n",
              "      <td>0.09754</td>\n",
              "      <td>0.09902</td>\n",
              "    </tr>\n",
              "  </tbody>\n",
              "</table>\n",
              "</div>"
            ],
            "text/plain": [
              "                           Train Accuracy  Test Accuracy  Train RMSE  \\\n",
              "LGBMRegressor                     0.91167        0.90411     0.05905   \n",
              "GradientBoostingRegressor         0.90567        0.90394     0.06102   \n",
              "XGBRegressor                      0.90573        0.90380     0.06100   \n",
              "CatBoostRegressor                 0.91568        0.90159     0.05769   \n",
              "ExtraTreesRegressor               0.92730        0.88473     0.05357   \n",
              "AdaBoostRegressor                 0.75895        0.76287     0.09754   \n",
              "\n",
              "                           Test RMSE  \n",
              "LGBMRegressor                0.06297  \n",
              "GradientBoostingRegressor    0.06302  \n",
              "XGBRegressor                 0.06307  \n",
              "CatBoostRegressor            0.06379  \n",
              "ExtraTreesRegressor          0.06904  \n",
              "AdaBoostRegressor            0.09902  "
            ]
          },
          "metadata": {
            "tags": []
          },
          "execution_count": 166
        }
      ]
    },
    {
      "cell_type": "markdown",
      "metadata": {
        "id": "dZFzmkouxd6e"
      },
      "source": [
        "**LGBMRegressor was the fastest and most accurate of all the Boosting models trained.**"
      ]
    },
    {
      "cell_type": "markdown",
      "metadata": {
        "id": "JP81DYoLkmnd"
      },
      "source": [
        "<a name=Section802></a>\n",
        "### 8.2 Hyper Tuning Boosting Model"
      ]
    },
    {
      "cell_type": "markdown",
      "metadata": {
        "id": "tqY2ENqlhW7-"
      },
      "source": [
        "#### LGBMRegressor"
      ]
    },
    {
      "cell_type": "code",
      "metadata": {
        "id": "ElOSngEEhueL"
      },
      "source": [
        "# parameters for RandomSearchCV\n",
        "# Number of trees in LGBM\n",
        "n_estimators = [100,200,300,400,500]\n",
        "# Maximum number of levels in tree\n",
        "max_depth = [-1,2,4,6,8,10]\n",
        "param_grid = {\n",
        "    'n_estimators': n_estimators,\n",
        "    'boosting_type':['gbdt'],\n",
        "    'learning_rate':[0.0,0.05,0.1,0.15,0.2,0.3],\n",
        "    'colsample_bytree': [0.7,0.8,0.9,1],\n",
        "    'max_depth': max_depth,\n",
        "    'num_leaves': [10, 15, 20, 25, 31, 50, 100],\n",
        "    'reg_alpha': [0.0,0.1,0.2,0.3,0.4,0.5],\n",
        "    'reg_lambda': [0.0,0.1,0.2,0.3,0.4],\n",
        "    'min_split_gain': [0.0,0.05,0.1,0.2,0.3,0.4],\n",
        "    'subsample': [0.7, 0.8, 0.9]\n",
        "}\n",
        "# run randomized search\n",
        "n_iter_search = 300\n",
        "#neg_root_mean_squared_error\n",
        "lgbm_CV = RandomizedSearchCV(estimator = lgb, param_distributions = param_grid,\n",
        "                                  n_iter= n_iter_search, cv= 5,\n",
        "                                  n_jobs = -1,scoring='r2',verbose=2)"
      ],
      "execution_count": null,
      "outputs": []
    },
    {
      "cell_type": "code",
      "metadata": {
        "colab": {
          "base_uri": "https://localhost:8080/"
        },
        "id": "gGUEfUgmi_6Z",
        "outputId": "b96464c8-76fc-471d-ceb1-c22104d1a373"
      },
      "source": [
        "%%time\n",
        "#lgbm_CV.fit(X,y)"
      ],
      "execution_count": null,
      "outputs": [
        {
          "output_type": "stream",
          "text": [
            "Fitting 5 folds for each of 300 candidates, totalling 1500 fits\n"
          ],
          "name": "stdout"
        },
        {
          "output_type": "stream",
          "text": [
            "[Parallel(n_jobs=-1)]: Using backend LokyBackend with 2 concurrent workers.\n",
            "[Parallel(n_jobs=-1)]: Done 124 tasks      | elapsed:    9.6s\n",
            "[Parallel(n_jobs=-1)]: Done 304 tasks      | elapsed:   27.4s\n",
            "[Parallel(n_jobs=-1)]: Done 710 tasks      | elapsed:  1.0min\n",
            "[Parallel(n_jobs=-1)]: Done 1420 tasks      | elapsed:  2.0min\n"
          ],
          "name": "stderr"
        },
        {
          "output_type": "stream",
          "text": [
            "CPU times: user 7.88 s, sys: 757 ms, total: 8.64 s\n",
            "Wall time: 2min 3s\n"
          ],
          "name": "stdout"
        },
        {
          "output_type": "stream",
          "text": [
            "[Parallel(n_jobs=-1)]: Done 1500 out of 1500 | elapsed:  2.1min finished\n"
          ],
          "name": "stderr"
        },
        {
          "output_type": "execute_result",
          "data": {
            "text/plain": [
              "RandomizedSearchCV(cv=5, error_score=nan,\n",
              "                   estimator=LGBMRegressor(boosting_type='gbdt',\n",
              "                                           class_weight=None,\n",
              "                                           colsample_bytree=1.0,\n",
              "                                           importance_type='split',\n",
              "                                           learning_rate=0.1, max_depth=-1,\n",
              "                                           min_child_samples=20,\n",
              "                                           min_child_weight=0.001,\n",
              "                                           min_split_gain=0.0, n_estimators=100,\n",
              "                                           n_jobs=-1, num_leaves=31,\n",
              "                                           objective=None, random_state=42,\n",
              "                                           reg_alpha=0.0, reg_lambda=0.0,\n",
              "                                           silent=...\n",
              "                                                          0.2, 0.3],\n",
              "                                        'max_depth': [-1, 2, 4, 6, 8, 10],\n",
              "                                        'min_split_gain': [0.0, 0.05, 0.1, 0.2,\n",
              "                                                           0.3, 0.4],\n",
              "                                        'n_estimators': [100, 200, 300, 400,\n",
              "                                                         500],\n",
              "                                        'num_leaves': [10, 15, 20, 25, 31, 50,\n",
              "                                                       100],\n",
              "                                        'reg_alpha': [0.0, 0.1, 0.2, 0.3, 0.4,\n",
              "                                                      0.5],\n",
              "                                        'reg_lambda': [0.0, 0.1, 0.2, 0.3, 0.4],\n",
              "                                        'subsample': [0.7, 0.8, 0.9]},\n",
              "                   pre_dispatch='2*n_jobs', random_state=None, refit=True,\n",
              "                   return_train_score=False, scoring='r2', verbose=2)"
            ]
          },
          "metadata": {
            "tags": []
          },
          "execution_count": 322
        }
      ]
    },
    {
      "cell_type": "code",
      "metadata": {
        "colab": {
          "base_uri": "https://localhost:8080/"
        },
        "id": "ijxzI9M7XX8G",
        "outputId": "a185f577-a81d-4f56-9a3f-28371f2a0a2b"
      },
      "source": [
        "print('Best R2:',lgbm_CV.best_score_)\n",
        "print('Best Parameters:',lgbm_CV.best_params_)"
      ],
      "execution_count": null,
      "outputs": [
        {
          "output_type": "stream",
          "text": [
            "Best R2: 0.9065439341478811\n",
            "Best Parameters: {'subsample': 0.7, 'reg_lambda': 0.2, 'reg_alpha': 0.2, 'num_leaves': 25, 'n_estimators': 100, 'min_split_gain': 0.0, 'max_depth': 6, 'learning_rate': 0.05, 'colsample_bytree': 1, 'boosting_type': 'gbdt'}\n"
          ],
          "name": "stdout"
        }
      ]
    },
    {
      "cell_type": "code",
      "metadata": {
        "colab": {
          "base_uri": "https://localhost:8080/"
        },
        "id": "gbmMHMvIl2Cu",
        "outputId": "d13f67ea-fc72-4674-9139-c431f7e7a1c6"
      },
      "source": [
        "lgbm_CV.best_estimator_"
      ],
      "execution_count": null,
      "outputs": [
        {
          "output_type": "execute_result",
          "data": {
            "text/plain": [
              "LGBMRegressor(boosting_type='gbdt', class_weight=None, colsample_bytree=1,\n",
              "              importance_type='split', learning_rate=0.05, max_depth=6,\n",
              "              min_child_samples=20, min_child_weight=0.001, min_split_gain=0.0,\n",
              "              n_estimators=100, n_jobs=-1, num_leaves=25, objective=None,\n",
              "              random_state=42, reg_alpha=0.2, reg_lambda=0.2, silent=True,\n",
              "              subsample=0.7, subsample_for_bin=200000, subsample_freq=0)"
            ]
          },
          "metadata": {
            "tags": []
          },
          "execution_count": 326
        }
      ]
    },
    {
      "cell_type": "code",
      "metadata": {
        "id": "YgUVST9CkE84"
      },
      "source": [
        "lgbm_r2 = ltb.LGBMRegressor(boosting_type='gbdt', class_weight=None, colsample_bytree=1,\n",
        "                importance_type='split', learning_rate=0.05, max_depth=6,\n",
        "                min_child_samples=20, min_child_weight=0.001, min_split_gain=0.0,\n",
        "                n_estimators=100, n_jobs=-1, num_leaves=25, objective=None,\n",
        "                random_state=42, reg_alpha=0.2, reg_lambda=0.2, silent=True,\n",
        "                subsample=0.7, subsample_for_bin=200000, subsample_freq=0)"
      ],
      "execution_count": 37,
      "outputs": []
    },
    {
      "cell_type": "code",
      "metadata": {
        "colab": {
          "base_uri": "https://localhost:8080/"
        },
        "id": "sHcWAaA0Xf7V",
        "outputId": "f4f6ebcd-e44c-42b8-d483-b42736f5bc0a"
      },
      "source": [
        "%%time\n",
        "model_fit_predict(lgbm_r2)"
      ],
      "execution_count": null,
      "outputs": [
        {
          "output_type": "stream",
          "text": [
            "       Accuracy     RMSE\n",
            "Train   0.90837  0.06014\n",
            "Test    0.90496  0.06269\n",
            "CPU times: user 387 ms, sys: 8.03 ms, total: 395 ms\n",
            "Wall time: 398 ms\n"
          ],
          "name": "stdout"
        }
      ]
    },
    {
      "cell_type": "markdown",
      "metadata": {
        "id": "yNxhbkuSm2_l"
      },
      "source": [
        "#### GradientBoostingRegressor"
      ]
    },
    {
      "cell_type": "code",
      "metadata": {
        "id": "f2A3rSL0m9B5"
      },
      "source": [
        "# parameters for RandomSearchCV\n",
        "# Number of trees in GBR\n",
        "n_estimators = [100,200,300,400,500]\n",
        "# Maximum number of levels in tree\n",
        "max_depth = [2,4,6,8,10]\n",
        "max_features = ['sqrt','log2',None]\n",
        "param_grid = {\n",
        "    'n_estimators': n_estimators,\n",
        "    'learning_rate':[0.0,0.05,0.1,0.15,0.2,0.25,0.3],\n",
        "    'max_depth': max_depth,\n",
        "    'max_features': max_features,\n",
        "    'min_samples_split' : range(3,12,2)\n",
        "}\n",
        "\n",
        "# run randomized search\n",
        "n_iter_search = 100\n",
        "#neg_root_mean_squared_error\n",
        "gbr_CV = RandomizedSearchCV(estimator = gb_reg, param_distributions = param_grid,\n",
        "                                  n_iter = n_iter_search, cv= kfold,\n",
        "                                  n_jobs = -1,scoring='r2',verbose=2)"
      ],
      "execution_count": null,
      "outputs": []
    },
    {
      "cell_type": "code",
      "metadata": {
        "colab": {
          "base_uri": "https://localhost:8080/"
        },
        "id": "3zrarviTnXTe",
        "outputId": "3f4f86d8-065e-4283-fc34-d0e019bd3f20"
      },
      "source": [
        "#%%time\n",
        "#gbr_CV.fit(X,y)"
      ],
      "execution_count": null,
      "outputs": [
        {
          "output_type": "stream",
          "text": [
            "Fitting 3 folds for each of 100 candidates, totalling 300 fits\n"
          ],
          "name": "stdout"
        },
        {
          "output_type": "stream",
          "text": [
            "[Parallel(n_jobs=-1)]: Using backend LokyBackend with 2 concurrent workers.\n",
            "[Parallel(n_jobs=-1)]: Done  37 tasks      | elapsed:   51.8s\n",
            "[Parallel(n_jobs=-1)]: Done 158 tasks      | elapsed:  3.0min\n",
            "[Parallel(n_jobs=-1)]: Done 300 out of 300 | elapsed:  6.5min finished\n"
          ],
          "name": "stderr"
        },
        {
          "output_type": "stream",
          "text": [
            "CPU times: user 7.38 s, sys: 494 ms, total: 7.88 s\n",
            "Wall time: 6min 31s\n"
          ],
          "name": "stdout"
        },
        {
          "output_type": "execute_result",
          "data": {
            "text/plain": [
              "RandomizedSearchCV(cv=KFold(n_splits=3, random_state=13, shuffle=True),\n",
              "                   error_score=nan,\n",
              "                   estimator=GradientBoostingRegressor(alpha=0.9, ccp_alpha=0.0,\n",
              "                                                       criterion='friedman_mse',\n",
              "                                                       init=None,\n",
              "                                                       learning_rate=0.1,\n",
              "                                                       loss='ls', max_depth=3,\n",
              "                                                       max_features=None,\n",
              "                                                       max_leaf_nodes=None,\n",
              "                                                       min_impurity_decrease=0.0,\n",
              "                                                       min_impurity_split=None,\n",
              "                                                       min_samples_leaf=1,\n",
              "                                                       min_samples_split=2,\n",
              "                                                       min...\n",
              "                                                       warm_start=False),\n",
              "                   iid='deprecated', n_iter=100, n_jobs=-1,\n",
              "                   param_distributions={'learning_rate': [0.0, 0.05, 0.1, 0.15,\n",
              "                                                          0.2, 0.25, 0.3],\n",
              "                                        'max_depth': [2, 4, 6, 8, 10],\n",
              "                                        'max_features': ['sqrt', 'log2', None],\n",
              "                                        'min_samples_split': range(3, 12, 2),\n",
              "                                        'n_estimators': [100, 200, 300, 400,\n",
              "                                                         500]},\n",
              "                   pre_dispatch='2*n_jobs', random_state=None, refit=True,\n",
              "                   return_train_score=False, scoring='r2', verbose=2)"
            ]
          },
          "metadata": {
            "tags": []
          },
          "execution_count": 180
        }
      ]
    },
    {
      "cell_type": "code",
      "metadata": {
        "colab": {
          "base_uri": "https://localhost:8080/"
        },
        "id": "WEt7GfEFos1m",
        "outputId": "64e0c7c5-660c-40f5-efbd-2492eabaae14"
      },
      "source": [
        "print('Best R2:',gbr_CV.best_score_)\n",
        "print('Best Parameters:',gbr_CV.best_params_)"
      ],
      "execution_count": null,
      "outputs": [
        {
          "output_type": "stream",
          "text": [
            "Best R2: 0.9050256557063171\n",
            "Best Parameters: {'n_estimators': 300, 'min_samples_split': 11, 'max_features': None, 'max_depth': 4, 'learning_rate': 0.05}\n"
          ],
          "name": "stdout"
        }
      ]
    },
    {
      "cell_type": "code",
      "metadata": {
        "colab": {
          "base_uri": "https://localhost:8080/"
        },
        "id": "I-dT6sZY4BK_",
        "outputId": "7af6808d-58ee-4531-b3ae-b06c36044e1a"
      },
      "source": [
        "gbr_CV.best_estimator_"
      ],
      "execution_count": null,
      "outputs": [
        {
          "output_type": "execute_result",
          "data": {
            "text/plain": [
              "GradientBoostingRegressor(alpha=0.9, ccp_alpha=0.0, criterion='friedman_mse',\n",
              "                          init=None, learning_rate=0.05, loss='ls', max_depth=4,\n",
              "                          max_features=None, max_leaf_nodes=None,\n",
              "                          min_impurity_decrease=0.0, min_impurity_split=None,\n",
              "                          min_samples_leaf=1, min_samples_split=11,\n",
              "                          min_weight_fraction_leaf=0.0, n_estimators=300,\n",
              "                          n_iter_no_change=None, presort='deprecated',\n",
              "                          random_state=42, subsample=1.0, tol=0.0001,\n",
              "                          validation_fraction=0.1, verbose=0, warm_start=False)"
            ]
          },
          "metadata": {
            "tags": []
          },
          "execution_count": 222
        }
      ]
    },
    {
      "cell_type": "code",
      "metadata": {
        "id": "YiK3KKdXpHTH"
      },
      "source": [
        "gbr_r2 = GradientBoostingRegressor(alpha=0.9, ccp_alpha=0.0, criterion='friedman_mse',\n",
        "                            init=None, learning_rate=0.05, loss='ls', max_depth=6,\n",
        "                            max_features='log2', max_leaf_nodes=None,\n",
        "                            min_impurity_decrease=0.0, min_impurity_split=None,\n",
        "                            min_samples_leaf=1, min_samples_split=2,\n",
        "                            min_weight_fraction_leaf=0.0, n_estimators=100,\n",
        "                            n_iter_no_change=None, presort='deprecated',\n",
        "                            random_state=42, subsample=1.0, tol=0.0001,\n",
        "                            validation_fraction=0.1, verbose=0, warm_start=False)"
      ],
      "execution_count": 38,
      "outputs": []
    },
    {
      "cell_type": "code",
      "metadata": {
        "colab": {
          "base_uri": "https://localhost:8080/"
        },
        "id": "sE6yW7QQpOEV",
        "outputId": "2ebecf18-dc5d-4c34-84e2-b88d7e958859"
      },
      "source": [
        "%%time\n",
        "model_fit_predict(gbr_r2)"
      ],
      "execution_count": null,
      "outputs": [
        {
          "output_type": "stream",
          "text": [
            "       Accuracy     RMSE\n",
            "Train   0.90993  0.05962\n",
            "Test    0.90444  0.06286\n",
            "CPU times: user 2.64 s, sys: 8.61 ms, total: 2.65 s\n",
            "Wall time: 2.65 s\n"
          ],
          "name": "stdout"
        }
      ]
    },
    {
      "cell_type": "markdown",
      "metadata": {
        "id": "lEYvUk3bpbz2"
      },
      "source": [
        "#### XGBRegressor"
      ]
    },
    {
      "cell_type": "code",
      "metadata": {
        "id": "FF-NkHKvpsV2"
      },
      "source": [
        "# parameters for RandomSearchCV\n",
        "# Number of trees in XG\n",
        "n_estimators = [100,200,300,400,500]\n",
        "# Maximum number of levels in tree\n",
        "max_depth = [-1,2,4,6,8,10]\n",
        "param_grid = {\n",
        "    'n_estimators': n_estimators,\n",
        "    'learning_rate':[0.0,0.05,0.1,0.15,0.2,0.25,0.3],\n",
        "    'colsample_bytree': [0.3,0.4,0.5,0.7,0.8,0.9,1],\n",
        "    'max_depth': max_depth,\n",
        "    'min_child_weight': [1,3,5,7],\n",
        "    'gamma':[0.0,0.1,0.2,0.3,0.4],\n",
        "    'reg_alpha': [0.0,0.1,0.2,0.3,0.4,0.5],\n",
        "    'reg_lambda': [0.0,0.1,0.2,0.3,0.4],\n",
        "}\n",
        "                        \n",
        "# run randomized search\n",
        "n_iter_search = 100\n",
        "#neg_root_mean_squared_error\n",
        "xg_CV = RandomizedSearchCV(estimator = xg, param_distributions = param_grid,\n",
        "                                  n_iter = n_iter_search, cv= kfold,\n",
        "                                  n_jobs = -1,scoring='r2',verbose=2)"
      ],
      "execution_count": null,
      "outputs": []
    },
    {
      "cell_type": "code",
      "metadata": {
        "colab": {
          "base_uri": "https://localhost:8080/"
        },
        "id": "R2cYHGxMqTdL",
        "outputId": "2a1de6fd-4444-4235-f329-16714e85935f"
      },
      "source": [
        "#%%time\n",
        "#xg_CV.fit(X,y)"
      ],
      "execution_count": null,
      "outputs": [
        {
          "output_type": "stream",
          "text": [
            "Fitting 3 folds for each of 100 candidates, totalling 300 fits\n"
          ],
          "name": "stdout"
        },
        {
          "output_type": "stream",
          "text": [
            "[Parallel(n_jobs=-1)]: Using backend LokyBackend with 2 concurrent workers.\n",
            "[Parallel(n_jobs=-1)]: Done  37 tasks      | elapsed:   37.8s\n",
            "[Parallel(n_jobs=-1)]: Done 158 tasks      | elapsed:  3.0min\n",
            "[Parallel(n_jobs=-1)]: Done 300 out of 300 | elapsed:  5.9min finished\n"
          ],
          "name": "stderr"
        },
        {
          "output_type": "stream",
          "text": [
            "[09:08:26] WARNING: /workspace/src/objective/regression_obj.cu:152: reg:linear is now deprecated in favor of reg:squarederror.\n",
            "CPU times: user 5.67 s, sys: 472 ms, total: 6.14 s\n",
            "Wall time: 5min 57s\n"
          ],
          "name": "stdout"
        },
        {
          "output_type": "execute_result",
          "data": {
            "text/plain": [
              "RandomizedSearchCV(cv=KFold(n_splits=3, random_state=13, shuffle=True),\n",
              "                   error_score=nan,\n",
              "                   estimator=XGBRegressor(base_score=0.5, booster='gbtree',\n",
              "                                          colsample_bylevel=1,\n",
              "                                          colsample_bynode=1,\n",
              "                                          colsample_bytree=1, gamma=0,\n",
              "                                          importance_type='gain',\n",
              "                                          learning_rate=0.1, max_delta_step=0,\n",
              "                                          max_depth=3, min_child_weight=1,\n",
              "                                          missing=None, n_estimators=100,\n",
              "                                          n_jobs=1, nthread=None,\n",
              "                                          obj...\n",
              "                                                             0.8, 0.9, 1],\n",
              "                                        'gamma': [0.0, 0.1, 0.2, 0.3, 0.4],\n",
              "                                        'learning_rate': [0.0, 0.05, 0.1, 0.15,\n",
              "                                                          0.2, 0.25, 0.3],\n",
              "                                        'max_depth': [-1, 2, 4, 6, 8, 10],\n",
              "                                        'min_child_weight': [1, 3, 5, 7],\n",
              "                                        'n_estimators': [100, 200, 300, 400,\n",
              "                                                         500],\n",
              "                                        'reg_alpha': [0.0, 0.1, 0.2, 0.3, 0.4,\n",
              "                                                      0.5],\n",
              "                                        'reg_lambda': [0.0, 0.1, 0.2, 0.3,\n",
              "                                                       0.4]},\n",
              "                   pre_dispatch='2*n_jobs', random_state=None, refit=True,\n",
              "                   return_train_score=False, scoring='r2', verbose=2)"
            ]
          },
          "metadata": {
            "tags": []
          },
          "execution_count": 185
        }
      ]
    },
    {
      "cell_type": "code",
      "metadata": {
        "colab": {
          "base_uri": "https://localhost:8080/"
        },
        "id": "LbVOUQBtreH_",
        "outputId": "4760a2d6-faaf-4d8d-d601-96c120e4a1b0"
      },
      "source": [
        "print('Best R2:',xg_CV.best_score_)\n",
        "print('Best Parameters:',xg_CV.best_params_)"
      ],
      "execution_count": null,
      "outputs": [
        {
          "output_type": "stream",
          "text": [
            "Best R2: 0.9048235207884773\n",
            "Best Parameters: {'reg_lambda': 0.1, 'reg_alpha': 0.5, 'n_estimators': 100, 'min_child_weight': 5, 'max_depth': 8, 'learning_rate': 0.1, 'gamma': 0.0, 'colsample_bytree': 0.8}\n"
          ],
          "name": "stdout"
        }
      ]
    },
    {
      "cell_type": "code",
      "metadata": {
        "colab": {
          "base_uri": "https://localhost:8080/"
        },
        "id": "yGOVC6zF4H_r",
        "outputId": "69bf88b8-564f-46bc-b1e8-ca51c9b54d2d"
      },
      "source": [
        "xg_CV.best_estimator_"
      ],
      "execution_count": null,
      "outputs": [
        {
          "output_type": "execute_result",
          "data": {
            "text/plain": [
              "XGBRegressor(base_score=0.5, booster='gbtree', colsample_bylevel=1,\n",
              "             colsample_bynode=1, colsample_bytree=0.8, gamma=0.0,\n",
              "             importance_type='gain', learning_rate=0.1, max_delta_step=0,\n",
              "             max_depth=8, min_child_weight=5, missing=None, n_estimators=100,\n",
              "             n_jobs=1, nthread=None, objective='reg:linear', random_state=42,\n",
              "             reg_alpha=0.5, reg_lambda=0.1, scale_pos_weight=1, seed=None,\n",
              "             silent=None, subsample=1, verbosity=1)"
            ]
          },
          "metadata": {
            "tags": []
          },
          "execution_count": 224
        }
      ]
    },
    {
      "cell_type": "code",
      "metadata": {
        "id": "PQpT_cvErzDD"
      },
      "source": [
        "xg_r2 = xgb.XGBRegressor(base_score=0.5, booster='gbtree', colsample_bylevel=1,\n",
        "               colsample_bynode=1, colsample_bytree=1, gamma=0.0,\n",
        "               importance_type='gain', learning_rate=0.2, max_delta_step=0,\n",
        "               max_depth=4, min_child_weight=3, missing=None, n_estimators=200,\n",
        "               n_jobs=1, nthread=None, objective='reg:linear', random_state=42,\n",
        "               reg_alpha=0.4, reg_lambda=0.0, scale_pos_weight=1, seed=None,\n",
        "               silent=None, subsample=1, verbosity=1)"
      ],
      "execution_count": 39,
      "outputs": []
    },
    {
      "cell_type": "code",
      "metadata": {
        "colab": {
          "base_uri": "https://localhost:8080/"
        },
        "id": "28RFpF6mrwti",
        "outputId": "76bef002-31b8-470d-f388-fe5b055ee29a"
      },
      "source": [
        "%%time\n",
        "model_fit_predict(xg_r2)"
      ],
      "execution_count": null,
      "outputs": [
        {
          "output_type": "stream",
          "text": [
            "[09:09:07] WARNING: /workspace/src/objective/regression_obj.cu:152: reg:linear is now deprecated in favor of reg:squarederror.\n",
            "       Accuracy     RMSE\n",
            "Train   0.91095  0.05929\n",
            "Test    0.90441  0.06287\n",
            "CPU times: user 1.38 s, sys: 7.61 ms, total: 1.39 s\n",
            "Wall time: 1.39 s\n"
          ],
          "name": "stdout"
        }
      ]
    },
    {
      "cell_type": "markdown",
      "metadata": {
        "id": "l-PU0JHIsM3M"
      },
      "source": [
        "#### CatBoostRegressor"
      ]
    },
    {
      "cell_type": "code",
      "metadata": {
        "id": "YB5noKR0sSGG"
      },
      "source": [
        "parameters = {\n",
        "              'loss_function':['MAE','MAPE','RMSE'],\n",
        "              'depth': [2,4,6,8,10],\n",
        "              'learning_rate' : [0.001,0.01, 0.05, 0.1],\n",
        "              'iterations'    : [30,50,100,200,300,400,500]\n",
        "              }\n",
        "\n",
        "#neg_root_mean_squared_error\n",
        "cat_CV = GridSearchCV(estimator = cat, param_grid = parameters,\n",
        "                                  cv= 5, verbose = 2,\n",
        "                                  n_jobs = -1,scoring='r2')"
      ],
      "execution_count": null,
      "outputs": []
    },
    {
      "cell_type": "code",
      "metadata": {
        "colab": {
          "base_uri": "https://localhost:8080/"
        },
        "id": "NAK3gGsNtOWc",
        "outputId": "2c7352ae-0b99-4771-a7ce-31d04069ab22"
      },
      "source": [
        "%%time\n",
        "#cat_CV.fit(X,y)"
      ],
      "execution_count": null,
      "outputs": [
        {
          "output_type": "stream",
          "text": [
            "Fitting 5 folds for each of 420 candidates, totalling 2100 fits\n"
          ],
          "name": "stdout"
        },
        {
          "output_type": "stream",
          "text": [
            "[Parallel(n_jobs=-1)]: Using backend LokyBackend with 2 concurrent workers.\n",
            "[Parallel(n_jobs=-1)]: Done  37 tasks      | elapsed:    6.0s\n",
            "[Parallel(n_jobs=-1)]: Done 158 tasks      | elapsed:   26.7s\n",
            "[Parallel(n_jobs=-1)]: Done 361 tasks      | elapsed:  2.8min\n",
            "[Parallel(n_jobs=-1)]: Done 644 tasks      | elapsed:  5.1min\n",
            "[Parallel(n_jobs=-1)]: Done 1009 tasks      | elapsed:  9.6min\n",
            "[Parallel(n_jobs=-1)]: Done 1454 tasks      | elapsed: 16.0min\n",
            "/usr/local/lib/python3.7/dist-packages/joblib/externals/loky/process_executor.py:691: UserWarning: A worker stopped while some jobs were given to the executor. This can be caused by a too short worker timeout or by a memory leak.\n",
            "  \"timeout or by a memory leak.\", UserWarning\n",
            "[Parallel(n_jobs=-1)]: Done 1981 tasks      | elapsed: 27.8min\n",
            "[Parallel(n_jobs=-1)]: Done 2100 out of 2100 | elapsed: 34.4min finished\n"
          ],
          "name": "stderr"
        },
        {
          "output_type": "stream",
          "text": [
            "0:\tlearn: 0.1910449\ttotal: 56.7ms\tremaining: 11.3s\n",
            "1:\tlearn: 0.1829873\ttotal: 63.9ms\tremaining: 6.32s\n",
            "2:\tlearn: 0.1753203\ttotal: 70.6ms\tremaining: 4.63s\n",
            "3:\tlearn: 0.1680171\ttotal: 77.3ms\tremaining: 3.79s\n",
            "4:\tlearn: 0.1612908\ttotal: 84.6ms\tremaining: 3.3s\n",
            "5:\tlearn: 0.1549194\ttotal: 89.6ms\tremaining: 2.9s\n",
            "6:\tlearn: 0.1488374\ttotal: 96.4ms\tremaining: 2.66s\n",
            "7:\tlearn: 0.1431176\ttotal: 103ms\tremaining: 2.48s\n",
            "8:\tlearn: 0.1376698\ttotal: 110ms\tremaining: 2.34s\n",
            "9:\tlearn: 0.1325359\ttotal: 117ms\tremaining: 2.23s\n",
            "10:\tlearn: 0.1277749\ttotal: 124ms\tremaining: 2.13s\n",
            "11:\tlearn: 0.1234149\ttotal: 128ms\tremaining: 2s\n",
            "12:\tlearn: 0.1191298\ttotal: 134ms\tremaining: 1.93s\n",
            "13:\tlearn: 0.1151829\ttotal: 141ms\tremaining: 1.88s\n",
            "14:\tlearn: 0.1114273\ttotal: 148ms\tremaining: 1.82s\n",
            "15:\tlearn: 0.1079037\ttotal: 155ms\tremaining: 1.78s\n",
            "16:\tlearn: 0.1045322\ttotal: 162ms\tremaining: 1.74s\n",
            "17:\tlearn: 0.1013932\ttotal: 168ms\tremaining: 1.7s\n",
            "18:\tlearn: 0.0984457\ttotal: 181ms\tremaining: 1.73s\n",
            "19:\tlearn: 0.0958595\ttotal: 184ms\tremaining: 1.66s\n",
            "20:\tlearn: 0.0933155\ttotal: 191ms\tremaining: 1.63s\n",
            "21:\tlearn: 0.0909284\ttotal: 198ms\tremaining: 1.6s\n",
            "22:\tlearn: 0.0887888\ttotal: 202ms\tremaining: 1.55s\n",
            "23:\tlearn: 0.0867060\ttotal: 208ms\tremaining: 1.53s\n",
            "24:\tlearn: 0.0848445\ttotal: 215ms\tremaining: 1.51s\n",
            "25:\tlearn: 0.0830286\ttotal: 222ms\tremaining: 1.49s\n",
            "26:\tlearn: 0.0813758\ttotal: 229ms\tremaining: 1.47s\n",
            "27:\tlearn: 0.0798071\ttotal: 235ms\tremaining: 1.44s\n",
            "28:\tlearn: 0.0784156\ttotal: 242ms\tremaining: 1.43s\n",
            "29:\tlearn: 0.0770978\ttotal: 248ms\tremaining: 1.4s\n",
            "30:\tlearn: 0.0758331\ttotal: 261ms\tremaining: 1.42s\n",
            "31:\tlearn: 0.0746816\ttotal: 268ms\tremaining: 1.41s\n",
            "32:\tlearn: 0.0736219\ttotal: 275ms\tremaining: 1.39s\n",
            "33:\tlearn: 0.0726361\ttotal: 282ms\tremaining: 1.38s\n",
            "34:\tlearn: 0.0717673\ttotal: 289ms\tremaining: 1.36s\n",
            "35:\tlearn: 0.0709717\ttotal: 293ms\tremaining: 1.33s\n",
            "36:\tlearn: 0.0702036\ttotal: 299ms\tremaining: 1.32s\n",
            "37:\tlearn: 0.0694980\ttotal: 305ms\tremaining: 1.3s\n",
            "38:\tlearn: 0.0688469\ttotal: 312ms\tremaining: 1.29s\n",
            "39:\tlearn: 0.0682780\ttotal: 319ms\tremaining: 1.28s\n",
            "40:\tlearn: 0.0677398\ttotal: 326ms\tremaining: 1.26s\n",
            "41:\tlearn: 0.0672248\ttotal: 333ms\tremaining: 1.25s\n",
            "42:\tlearn: 0.0667636\ttotal: 340ms\tremaining: 1.24s\n",
            "43:\tlearn: 0.0663361\ttotal: 347ms\tremaining: 1.23s\n",
            "44:\tlearn: 0.0659309\ttotal: 354ms\tremaining: 1.22s\n",
            "45:\tlearn: 0.0655829\ttotal: 358ms\tremaining: 1.2s\n",
            "46:\tlearn: 0.0652464\ttotal: 365ms\tremaining: 1.19s\n",
            "47:\tlearn: 0.0649274\ttotal: 372ms\tremaining: 1.18s\n",
            "48:\tlearn: 0.0646308\ttotal: 379ms\tremaining: 1.17s\n",
            "49:\tlearn: 0.0643629\ttotal: 386ms\tremaining: 1.16s\n",
            "50:\tlearn: 0.0641189\ttotal: 393ms\tremaining: 1.15s\n",
            "51:\tlearn: 0.0638956\ttotal: 400ms\tremaining: 1.14s\n",
            "52:\tlearn: 0.0636922\ttotal: 406ms\tremaining: 1.13s\n",
            "53:\tlearn: 0.0635015\ttotal: 413ms\tremaining: 1.11s\n",
            "54:\tlearn: 0.0633301\ttotal: 419ms\tremaining: 1.1s\n",
            "55:\tlearn: 0.0631650\ttotal: 426ms\tremaining: 1.09s\n",
            "56:\tlearn: 0.0630213\ttotal: 433ms\tremaining: 1.08s\n",
            "57:\tlearn: 0.0628900\ttotal: 440ms\tremaining: 1.08s\n",
            "58:\tlearn: 0.0627931\ttotal: 442ms\tremaining: 1.06s\n",
            "59:\tlearn: 0.0626831\ttotal: 447ms\tremaining: 1.04s\n",
            "60:\tlearn: 0.0626111\ttotal: 449ms\tremaining: 1.02s\n",
            "61:\tlearn: 0.0625109\ttotal: 457ms\tremaining: 1.02s\n",
            "62:\tlearn: 0.0624111\ttotal: 468ms\tremaining: 1.02s\n",
            "63:\tlearn: 0.0623210\ttotal: 475ms\tremaining: 1.01s\n",
            "64:\tlearn: 0.0622549\ttotal: 478ms\tremaining: 993ms\n",
            "65:\tlearn: 0.0621751\ttotal: 485ms\tremaining: 985ms\n",
            "66:\tlearn: 0.0621043\ttotal: 492ms\tremaining: 976ms\n",
            "67:\tlearn: 0.0620387\ttotal: 498ms\tremaining: 967ms\n",
            "68:\tlearn: 0.0619821\ttotal: 505ms\tremaining: 958ms\n",
            "69:\tlearn: 0.0619186\ttotal: 511ms\tremaining: 950ms\n",
            "70:\tlearn: 0.0618658\ttotal: 518ms\tremaining: 941ms\n",
            "71:\tlearn: 0.0618291\ttotal: 521ms\tremaining: 926ms\n",
            "72:\tlearn: 0.0617936\ttotal: 524ms\tremaining: 912ms\n",
            "73:\tlearn: 0.0617437\ttotal: 531ms\tremaining: 904ms\n",
            "74:\tlearn: 0.0616904\ttotal: 537ms\tremaining: 896ms\n",
            "75:\tlearn: 0.0616501\ttotal: 544ms\tremaining: 888ms\n",
            "76:\tlearn: 0.0616316\ttotal: 547ms\tremaining: 873ms\n",
            "77:\tlearn: 0.0615875\ttotal: 554ms\tremaining: 866ms\n",
            "78:\tlearn: 0.0615501\ttotal: 561ms\tremaining: 859ms\n",
            "79:\tlearn: 0.0615131\ttotal: 567ms\tremaining: 851ms\n",
            "80:\tlearn: 0.0614823\ttotal: 574ms\tremaining: 844ms\n",
            "81:\tlearn: 0.0614438\ttotal: 581ms\tremaining: 836ms\n",
            "82:\tlearn: 0.0614137\ttotal: 588ms\tremaining: 829ms\n",
            "83:\tlearn: 0.0613832\ttotal: 593ms\tremaining: 819ms\n",
            "84:\tlearn: 0.0613532\ttotal: 600ms\tremaining: 812ms\n",
            "85:\tlearn: 0.0613256\ttotal: 607ms\tremaining: 804ms\n",
            "86:\tlearn: 0.0613008\ttotal: 613ms\tremaining: 797ms\n",
            "87:\tlearn: 0.0612755\ttotal: 621ms\tremaining: 790ms\n",
            "88:\tlearn: 0.0612485\ttotal: 628ms\tremaining: 783ms\n",
            "89:\tlearn: 0.0612275\ttotal: 635ms\tremaining: 776ms\n",
            "90:\tlearn: 0.0612151\ttotal: 638ms\tremaining: 764ms\n",
            "91:\tlearn: 0.0611856\ttotal: 645ms\tremaining: 757ms\n",
            "92:\tlearn: 0.0611666\ttotal: 658ms\tremaining: 757ms\n",
            "93:\tlearn: 0.0611528\ttotal: 662ms\tremaining: 747ms\n",
            "94:\tlearn: 0.0611353\ttotal: 669ms\tremaining: 740ms\n",
            "95:\tlearn: 0.0611142\ttotal: 676ms\tremaining: 732ms\n",
            "96:\tlearn: 0.0610924\ttotal: 683ms\tremaining: 725ms\n",
            "97:\tlearn: 0.0610738\ttotal: 689ms\tremaining: 718ms\n",
            "98:\tlearn: 0.0610569\ttotal: 696ms\tremaining: 710ms\n",
            "99:\tlearn: 0.0610374\ttotal: 703ms\tremaining: 703ms\n",
            "100:\tlearn: 0.0610180\ttotal: 709ms\tremaining: 695ms\n",
            "101:\tlearn: 0.0610043\ttotal: 716ms\tremaining: 688ms\n",
            "102:\tlearn: 0.0609904\ttotal: 723ms\tremaining: 681ms\n",
            "103:\tlearn: 0.0609780\ttotal: 730ms\tremaining: 673ms\n",
            "104:\tlearn: 0.0609684\ttotal: 733ms\tremaining: 663ms\n",
            "105:\tlearn: 0.0609613\ttotal: 736ms\tremaining: 653ms\n",
            "106:\tlearn: 0.0609449\ttotal: 743ms\tremaining: 646ms\n",
            "107:\tlearn: 0.0609405\ttotal: 746ms\tremaining: 636ms\n",
            "108:\tlearn: 0.0609330\ttotal: 750ms\tremaining: 626ms\n",
            "109:\tlearn: 0.0609289\ttotal: 752ms\tremaining: 615ms\n",
            "110:\tlearn: 0.0609148\ttotal: 764ms\tremaining: 612ms\n",
            "111:\tlearn: 0.0608993\ttotal: 770ms\tremaining: 605ms\n",
            "112:\tlearn: 0.0608956\ttotal: 774ms\tremaining: 596ms\n",
            "113:\tlearn: 0.0608750\ttotal: 781ms\tremaining: 589ms\n",
            "114:\tlearn: 0.0608686\ttotal: 784ms\tremaining: 579ms\n",
            "115:\tlearn: 0.0608586\ttotal: 789ms\tremaining: 571ms\n",
            "116:\tlearn: 0.0608450\ttotal: 795ms\tremaining: 564ms\n",
            "117:\tlearn: 0.0608400\ttotal: 802ms\tremaining: 557ms\n",
            "118:\tlearn: 0.0608230\ttotal: 809ms\tremaining: 551ms\n",
            "119:\tlearn: 0.0608060\ttotal: 816ms\tremaining: 544ms\n",
            "120:\tlearn: 0.0607907\ttotal: 823ms\tremaining: 537ms\n",
            "121:\tlearn: 0.0607902\ttotal: 825ms\tremaining: 528ms\n",
            "122:\tlearn: 0.0607820\ttotal: 832ms\tremaining: 521ms\n",
            "123:\tlearn: 0.0607611\ttotal: 840ms\tremaining: 515ms\n",
            "124:\tlearn: 0.0607552\ttotal: 851ms\tremaining: 511ms\n",
            "125:\tlearn: 0.0607396\ttotal: 865ms\tremaining: 508ms\n",
            "126:\tlearn: 0.0607279\ttotal: 872ms\tremaining: 501ms\n",
            "127:\tlearn: 0.0607277\ttotal: 874ms\tremaining: 492ms\n",
            "128:\tlearn: 0.0607236\ttotal: 877ms\tremaining: 483ms\n",
            "129:\tlearn: 0.0607102\ttotal: 884ms\tremaining: 476ms\n",
            "130:\tlearn: 0.0607029\ttotal: 887ms\tremaining: 467ms\n",
            "131:\tlearn: 0.0606892\ttotal: 895ms\tremaining: 461ms\n",
            "132:\tlearn: 0.0606640\ttotal: 902ms\tremaining: 454ms\n",
            "133:\tlearn: 0.0606574\ttotal: 909ms\tremaining: 447ms\n",
            "134:\tlearn: 0.0606562\ttotal: 911ms\tremaining: 439ms\n",
            "135:\tlearn: 0.0606493\ttotal: 918ms\tremaining: 432ms\n",
            "136:\tlearn: 0.0606309\ttotal: 927ms\tremaining: 426ms\n",
            "137:\tlearn: 0.0606127\ttotal: 934ms\tremaining: 420ms\n",
            "138:\tlearn: 0.0606112\ttotal: 937ms\tremaining: 411ms\n",
            "139:\tlearn: 0.0605938\ttotal: 943ms\tremaining: 404ms\n",
            "140:\tlearn: 0.0605934\ttotal: 946ms\tremaining: 396ms\n",
            "141:\tlearn: 0.0605795\ttotal: 952ms\tremaining: 389ms\n",
            "142:\tlearn: 0.0605737\ttotal: 956ms\tremaining: 381ms\n",
            "143:\tlearn: 0.0605631\ttotal: 963ms\tremaining: 375ms\n",
            "144:\tlearn: 0.0605550\ttotal: 970ms\tremaining: 368ms\n",
            "145:\tlearn: 0.0605368\ttotal: 977ms\tremaining: 361ms\n",
            "146:\tlearn: 0.0605324\ttotal: 981ms\tremaining: 354ms\n",
            "147:\tlearn: 0.0605250\ttotal: 985ms\tremaining: 346ms\n",
            "148:\tlearn: 0.0605135\ttotal: 993ms\tremaining: 340ms\n",
            "149:\tlearn: 0.0605101\ttotal: 996ms\tremaining: 332ms\n",
            "150:\tlearn: 0.0605080\ttotal: 999ms\tremaining: 324ms\n",
            "151:\tlearn: 0.0604913\ttotal: 1.01s\tremaining: 318ms\n",
            "152:\tlearn: 0.0604838\ttotal: 1.01s\tremaining: 311ms\n",
            "153:\tlearn: 0.0604742\ttotal: 1.02s\tremaining: 305ms\n",
            "154:\tlearn: 0.0604680\ttotal: 1.03s\tremaining: 298ms\n",
            "155:\tlearn: 0.0604561\ttotal: 1.03s\tremaining: 292ms\n",
            "156:\tlearn: 0.0604501\ttotal: 1.04s\tremaining: 284ms\n",
            "157:\tlearn: 0.0604395\ttotal: 1.04s\tremaining: 277ms\n",
            "158:\tlearn: 0.0604351\ttotal: 1.05s\tremaining: 271ms\n",
            "159:\tlearn: 0.0604256\ttotal: 1.06s\tremaining: 265ms\n",
            "160:\tlearn: 0.0604241\ttotal: 1.06s\tremaining: 257ms\n",
            "161:\tlearn: 0.0604163\ttotal: 1.07s\tremaining: 250ms\n",
            "162:\tlearn: 0.0604129\ttotal: 1.07s\tremaining: 243ms\n",
            "163:\tlearn: 0.0604033\ttotal: 1.08s\tremaining: 236ms\n",
            "164:\tlearn: 0.0603872\ttotal: 1.08s\tremaining: 230ms\n",
            "165:\tlearn: 0.0603728\ttotal: 1.09s\tremaining: 223ms\n",
            "166:\tlearn: 0.0603673\ttotal: 1.09s\tremaining: 216ms\n",
            "167:\tlearn: 0.0603521\ttotal: 1.1s\tremaining: 210ms\n",
            "168:\tlearn: 0.0603513\ttotal: 1.1s\tremaining: 203ms\n",
            "169:\tlearn: 0.0603499\ttotal: 1.11s\tremaining: 195ms\n",
            "170:\tlearn: 0.0603411\ttotal: 1.11s\tremaining: 188ms\n",
            "171:\tlearn: 0.0603363\ttotal: 1.12s\tremaining: 182ms\n",
            "172:\tlearn: 0.0603182\ttotal: 1.12s\tremaining: 176ms\n",
            "173:\tlearn: 0.0603046\ttotal: 1.13s\tremaining: 169ms\n",
            "174:\tlearn: 0.0602878\ttotal: 1.14s\tremaining: 163ms\n",
            "175:\tlearn: 0.0602877\ttotal: 1.14s\tremaining: 156ms\n",
            "176:\tlearn: 0.0602787\ttotal: 1.15s\tremaining: 149ms\n",
            "177:\tlearn: 0.0602703\ttotal: 1.15s\tremaining: 142ms\n",
            "178:\tlearn: 0.0602573\ttotal: 1.16s\tremaining: 136ms\n",
            "179:\tlearn: 0.0602505\ttotal: 1.17s\tremaining: 129ms\n",
            "180:\tlearn: 0.0602356\ttotal: 1.17s\tremaining: 123ms\n",
            "181:\tlearn: 0.0602251\ttotal: 1.18s\tremaining: 117ms\n",
            "182:\tlearn: 0.0602179\ttotal: 1.19s\tremaining: 110ms\n",
            "183:\tlearn: 0.0602091\ttotal: 1.19s\tremaining: 104ms\n",
            "184:\tlearn: 0.0601923\ttotal: 1.2s\tremaining: 97.3ms\n",
            "185:\tlearn: 0.0601869\ttotal: 1.21s\tremaining: 91.1ms\n",
            "186:\tlearn: 0.0601765\ttotal: 1.22s\tremaining: 84.7ms\n",
            "187:\tlearn: 0.0601665\ttotal: 1.23s\tremaining: 78.2ms\n",
            "188:\tlearn: 0.0601634\ttotal: 1.23s\tremaining: 71.5ms\n",
            "189:\tlearn: 0.0601552\ttotal: 1.24s\tremaining: 65.1ms\n",
            "190:\tlearn: 0.0601363\ttotal: 1.24s\tremaining: 58.6ms\n",
            "191:\tlearn: 0.0601273\ttotal: 1.26s\tremaining: 52.4ms\n",
            "192:\tlearn: 0.0601152\ttotal: 1.26s\tremaining: 45.9ms\n",
            "193:\tlearn: 0.0601088\ttotal: 1.27s\tremaining: 39.3ms\n",
            "194:\tlearn: 0.0600977\ttotal: 1.28s\tremaining: 32.8ms\n",
            "195:\tlearn: 0.0600821\ttotal: 1.28s\tremaining: 26.2ms\n",
            "196:\tlearn: 0.0600701\ttotal: 1.29s\tremaining: 19.7ms\n",
            "197:\tlearn: 0.0600661\ttotal: 1.29s\tremaining: 13.1ms\n",
            "198:\tlearn: 0.0600497\ttotal: 1.3s\tremaining: 6.54ms\n",
            "199:\tlearn: 0.0600423\ttotal: 1.31s\tremaining: 0us\n",
            "CPU times: user 22 s, sys: 2.46 s, total: 24.4 s\n",
            "Wall time: 34min 25s\n"
          ],
          "name": "stdout"
        },
        {
          "output_type": "execute_result",
          "data": {
            "text/plain": [
              "GridSearchCV(cv=5, error_score=nan,\n",
              "             estimator=<catboost.core.CatBoostRegressor object at 0x7fa56a298f90>,\n",
              "             iid='deprecated', n_jobs=-1,\n",
              "             param_grid={'depth': [2, 4, 6, 8, 10],\n",
              "                         'iterations': [30, 50, 100, 200, 300, 400, 500],\n",
              "                         'learning_rate': [0.001, 0.01, 0.05, 0.1],\n",
              "                         'loss_function': ['MAE', 'MAPE', 'RMSE']},\n",
              "             pre_dispatch='2*n_jobs', refit=True, return_train_score=False,\n",
              "             scoring='r2', verbose=2)"
            ]
          },
          "metadata": {
            "tags": []
          },
          "execution_count": 25
        }
      ]
    },
    {
      "cell_type": "code",
      "metadata": {
        "colab": {
          "base_uri": "https://localhost:8080/"
        },
        "id": "tAPMfQZFtXuw",
        "outputId": "5e778b96-4761-40c6-d791-cef1738d680a"
      },
      "source": [
        "print('Best R2:',cat_CV.best_score_)\n",
        "print('Best Parameters:',cat_CV.best_params_)"
      ],
      "execution_count": null,
      "outputs": [
        {
          "output_type": "stream",
          "text": [
            "Best R2: 0.9047784876358071\n",
            "Best Parameters: {'depth': 10, 'iterations': 100, 'learning_rate': 0.1, 'loss_function': 'RMSE'}\n"
          ],
          "name": "stdout"
        }
      ]
    },
    {
      "cell_type": "code",
      "metadata": {
        "id": "8VcXlYZEtZVB"
      },
      "source": [
        "cat_r2 = cb.CatBoostRegressor(depth= 10, iterations= 100, learning_rate= 0.1, loss_function= 'MAE')"
      ],
      "execution_count": 40,
      "outputs": []
    },
    {
      "cell_type": "code",
      "metadata": {
        "colab": {
          "base_uri": "https://localhost:8080/"
        },
        "id": "B2tk-nu5txS-",
        "outputId": "31823fbf-978e-44cf-f457-dd7664de9c56"
      },
      "source": [
        "%%time\n",
        "model_fit_predict(cat_r2)"
      ],
      "execution_count": 62,
      "outputs": [
        {
          "output_type": "stream",
          "text": [
            "0:\tlearn: 0.1820986\ttotal: 5.94ms\tremaining: 589ms\n",
            "1:\tlearn: 0.1667222\ttotal: 12.4ms\tremaining: 606ms\n",
            "2:\tlearn: 0.1532933\ttotal: 18.7ms\tremaining: 605ms\n",
            "3:\tlearn: 0.1415535\ttotal: 25.6ms\tremaining: 615ms\n",
            "4:\tlearn: 0.1308994\ttotal: 31.8ms\tremaining: 604ms\n",
            "5:\tlearn: 0.1215577\ttotal: 35.6ms\tremaining: 558ms\n",
            "6:\tlearn: 0.1132537\ttotal: 41.7ms\tremaining: 554ms\n",
            "7:\tlearn: 0.1060795\ttotal: 47.7ms\tremaining: 548ms\n",
            "8:\tlearn: 0.0996848\ttotal: 53.7ms\tremaining: 543ms\n",
            "9:\tlearn: 0.0941457\ttotal: 59.8ms\tremaining: 538ms\n",
            "10:\tlearn: 0.0894619\ttotal: 65.9ms\tremaining: 533ms\n",
            "11:\tlearn: 0.0854462\ttotal: 69ms\tremaining: 506ms\n",
            "12:\tlearn: 0.0817430\ttotal: 75.2ms\tremaining: 503ms\n",
            "13:\tlearn: 0.0785621\ttotal: 81.4ms\tremaining: 500ms\n",
            "14:\tlearn: 0.0758673\ttotal: 86.8ms\tremaining: 492ms\n",
            "15:\tlearn: 0.0737063\ttotal: 89.8ms\tremaining: 471ms\n",
            "16:\tlearn: 0.0717724\ttotal: 96ms\tremaining: 469ms\n",
            "17:\tlearn: 0.0701449\ttotal: 102ms\tremaining: 465ms\n",
            "18:\tlearn: 0.0687658\ttotal: 108ms\tremaining: 459ms\n",
            "19:\tlearn: 0.0675696\ttotal: 114ms\tremaining: 456ms\n",
            "20:\tlearn: 0.0665768\ttotal: 120ms\tremaining: 452ms\n",
            "21:\tlearn: 0.0657227\ttotal: 127ms\tremaining: 451ms\n",
            "22:\tlearn: 0.0650677\ttotal: 130ms\tremaining: 435ms\n",
            "23:\tlearn: 0.0644671\ttotal: 137ms\tremaining: 433ms\n",
            "24:\tlearn: 0.0639594\ttotal: 143ms\tremaining: 430ms\n",
            "25:\tlearn: 0.0635104\ttotal: 150ms\tremaining: 427ms\n",
            "26:\tlearn: 0.0632015\ttotal: 153ms\tremaining: 414ms\n",
            "27:\tlearn: 0.0628594\ttotal: 160ms\tremaining: 411ms\n",
            "28:\tlearn: 0.0625623\ttotal: 167ms\tremaining: 409ms\n",
            "29:\tlearn: 0.0623382\ttotal: 174ms\tremaining: 406ms\n",
            "30:\tlearn: 0.0621293\ttotal: 181ms\tremaining: 402ms\n",
            "31:\tlearn: 0.0619603\ttotal: 184ms\tremaining: 391ms\n",
            "32:\tlearn: 0.0618330\ttotal: 191ms\tremaining: 387ms\n",
            "33:\tlearn: 0.0617193\ttotal: 202ms\tremaining: 392ms\n",
            "34:\tlearn: 0.0616108\ttotal: 208ms\tremaining: 387ms\n",
            "35:\tlearn: 0.0615386\ttotal: 215ms\tremaining: 382ms\n",
            "36:\tlearn: 0.0614453\ttotal: 220ms\tremaining: 375ms\n",
            "37:\tlearn: 0.0613526\ttotal: 227ms\tremaining: 370ms\n",
            "38:\tlearn: 0.0612512\ttotal: 233ms\tremaining: 365ms\n",
            "39:\tlearn: 0.0612167\ttotal: 235ms\tremaining: 353ms\n",
            "40:\tlearn: 0.0611482\ttotal: 242ms\tremaining: 348ms\n",
            "41:\tlearn: 0.0610902\ttotal: 249ms\tremaining: 343ms\n",
            "42:\tlearn: 0.0610181\ttotal: 255ms\tremaining: 338ms\n",
            "43:\tlearn: 0.0609701\ttotal: 261ms\tremaining: 333ms\n",
            "44:\tlearn: 0.0609262\ttotal: 268ms\tremaining: 328ms\n",
            "45:\tlearn: 0.0609065\ttotal: 270ms\tremaining: 317ms\n",
            "46:\tlearn: 0.0608591\ttotal: 277ms\tremaining: 312ms\n",
            "47:\tlearn: 0.0608196\ttotal: 283ms\tremaining: 307ms\n",
            "48:\tlearn: 0.0607852\ttotal: 287ms\tremaining: 299ms\n",
            "49:\tlearn: 0.0607571\ttotal: 294ms\tremaining: 294ms\n",
            "50:\tlearn: 0.0607253\ttotal: 300ms\tremaining: 288ms\n",
            "51:\tlearn: 0.0606819\ttotal: 310ms\tremaining: 286ms\n",
            "52:\tlearn: 0.0606263\ttotal: 317ms\tremaining: 281ms\n",
            "53:\tlearn: 0.0605752\ttotal: 323ms\tremaining: 275ms\n",
            "54:\tlearn: 0.0605509\ttotal: 327ms\tremaining: 268ms\n",
            "55:\tlearn: 0.0605268\ttotal: 330ms\tremaining: 259ms\n",
            "56:\tlearn: 0.0604842\ttotal: 337ms\tremaining: 254ms\n",
            "57:\tlearn: 0.0604490\ttotal: 343ms\tremaining: 249ms\n",
            "58:\tlearn: 0.0603941\ttotal: 350ms\tremaining: 243ms\n",
            "59:\tlearn: 0.0603860\ttotal: 353ms\tremaining: 235ms\n",
            "60:\tlearn: 0.0603844\ttotal: 355ms\tremaining: 227ms\n",
            "61:\tlearn: 0.0603522\ttotal: 362ms\tremaining: 222ms\n",
            "62:\tlearn: 0.0603141\ttotal: 367ms\tremaining: 215ms\n",
            "63:\tlearn: 0.0602746\ttotal: 374ms\tremaining: 210ms\n",
            "64:\tlearn: 0.0602362\ttotal: 381ms\tremaining: 205ms\n",
            "65:\tlearn: 0.0601997\ttotal: 388ms\tremaining: 200ms\n",
            "66:\tlearn: 0.0601700\ttotal: 403ms\tremaining: 199ms\n",
            "67:\tlearn: 0.0601473\ttotal: 410ms\tremaining: 193ms\n",
            "68:\tlearn: 0.0601015\ttotal: 417ms\tremaining: 187ms\n",
            "69:\tlearn: 0.0600714\ttotal: 423ms\tremaining: 181ms\n",
            "70:\tlearn: 0.0600454\ttotal: 430ms\tremaining: 176ms\n",
            "71:\tlearn: 0.0600131\ttotal: 437ms\tremaining: 170ms\n",
            "72:\tlearn: 0.0599636\ttotal: 445ms\tremaining: 164ms\n",
            "73:\tlearn: 0.0599365\ttotal: 451ms\tremaining: 159ms\n",
            "74:\tlearn: 0.0599333\ttotal: 454ms\tremaining: 151ms\n",
            "75:\tlearn: 0.0599262\ttotal: 456ms\tremaining: 144ms\n",
            "76:\tlearn: 0.0598931\ttotal: 463ms\tremaining: 138ms\n",
            "77:\tlearn: 0.0598761\ttotal: 467ms\tremaining: 132ms\n",
            "78:\tlearn: 0.0598649\ttotal: 474ms\tremaining: 126ms\n",
            "79:\tlearn: 0.0598281\ttotal: 481ms\tremaining: 120ms\n",
            "80:\tlearn: 0.0598156\ttotal: 487ms\tremaining: 114ms\n",
            "81:\tlearn: 0.0597763\ttotal: 494ms\tremaining: 108ms\n",
            "82:\tlearn: 0.0597594\ttotal: 501ms\tremaining: 103ms\n",
            "83:\tlearn: 0.0597105\ttotal: 507ms\tremaining: 96.6ms\n",
            "84:\tlearn: 0.0596840\ttotal: 514ms\tremaining: 90.7ms\n",
            "85:\tlearn: 0.0596493\ttotal: 521ms\tremaining: 84.8ms\n",
            "86:\tlearn: 0.0596476\ttotal: 523ms\tremaining: 78.2ms\n",
            "87:\tlearn: 0.0596268\ttotal: 530ms\tremaining: 72.2ms\n",
            "88:\tlearn: 0.0596127\ttotal: 537ms\tremaining: 66.3ms\n",
            "89:\tlearn: 0.0596030\ttotal: 544ms\tremaining: 60.4ms\n",
            "90:\tlearn: 0.0595880\ttotal: 555ms\tremaining: 54.9ms\n",
            "91:\tlearn: 0.0595510\ttotal: 564ms\tremaining: 49ms\n",
            "92:\tlearn: 0.0595280\ttotal: 579ms\tremaining: 43.6ms\n",
            "93:\tlearn: 0.0595239\ttotal: 583ms\tremaining: 37.2ms\n",
            "94:\tlearn: 0.0594916\ttotal: 589ms\tremaining: 31ms\n",
            "95:\tlearn: 0.0594503\ttotal: 601ms\tremaining: 25ms\n",
            "96:\tlearn: 0.0594323\ttotal: 608ms\tremaining: 18.8ms\n",
            "97:\tlearn: 0.0594161\ttotal: 616ms\tremaining: 12.6ms\n",
            "98:\tlearn: 0.0593754\ttotal: 623ms\tremaining: 6.29ms\n",
            "99:\tlearn: 0.0593351\ttotal: 630ms\tremaining: 0us\n",
            "       Accuracy     RMSE\n",
            "Train   0.91080  0.05934\n",
            "Test    0.90434  0.06289\n",
            "CPU times: user 1.09 s, sys: 63.4 ms, total: 1.16 s\n",
            "Wall time: 741 ms\n"
          ],
          "name": "stdout"
        }
      ]
    },
    {
      "cell_type": "markdown",
      "metadata": {
        "id": "t82SMJUnrxtD"
      },
      "source": [
        "<a name=Section803></a>\n",
        "### 8.3 Comparing Trained Models"
      ]
    },
    {
      "cell_type": "code",
      "metadata": {
        "id": "NFWvMqtJ92Dq"
      },
      "source": [
        "Tuned_list = [lr, lar, rd_r2, br_r2, kr_r2, dt_r2, rf_r2, svr_r2, knn_r2, sgd, lgbm_r2, gbr_r2, xg_r2, cat_r2]"
      ],
      "execution_count": null,
      "outputs": []
    },
    {
      "cell_type": "code",
      "metadata": {
        "colab": {
          "base_uri": "https://localhost:8080/"
        },
        "id": "wkKaDyjY5olm",
        "outputId": "60feb36a-c19d-460a-9604-aa5db631ed39"
      },
      "source": [
        "%%time\n",
        "accuracy_frame = model_train_list(Tuned_list)"
      ],
      "execution_count": null,
      "outputs": [
        {
          "output_type": "stream",
          "text": [
            "LinearRegression : 0.01 secs \n",
            "\n",
            "Lars : 0.01 secs \n",
            "\n",
            "Ridge : 0.01 secs \n",
            "\n",
            "BayesianRidge : 0.01 secs \n",
            "\n",
            "KernelRidge : 98.71 secs \n",
            "\n",
            "DecisionTreeRegressor : 0.03 secs \n",
            "\n",
            "RandomForestRegressor : 2.32 secs \n",
            "\n",
            "SVR : 27.36 secs \n",
            "\n",
            "KNeighborsRegressor : 0.48 secs \n",
            "\n",
            "SGDRegressor : 0.02 secs \n",
            "\n",
            "LGBMRegressor : 0.37 secs \n",
            "\n",
            "GradientBoostingRegressor : 2.48 secs \n",
            "\n",
            "[10:12:21] WARNING: /workspace/src/objective/regression_obj.cu:152: reg:linear is now deprecated in favor of reg:squarederror.\n",
            "XGBRegressor : 1.21 secs \n",
            "\n",
            "0:\tlearn: 0.1816576\ttotal: 9.42ms\tremaining: 933ms\n",
            "1:\tlearn: 0.1666637\ttotal: 15.8ms\tremaining: 776ms\n",
            "2:\tlearn: 0.1531901\ttotal: 22.3ms\tremaining: 720ms\n",
            "3:\tlearn: 0.1411212\ttotal: 28.7ms\tremaining: 688ms\n",
            "4:\tlearn: 0.1305842\ttotal: 34.9ms\tremaining: 663ms\n",
            "5:\tlearn: 0.1213115\ttotal: 39.4ms\tremaining: 618ms\n",
            "6:\tlearn: 0.1131127\ttotal: 46.1ms\tremaining: 612ms\n",
            "7:\tlearn: 0.1061022\ttotal: 52.8ms\tremaining: 607ms\n",
            "8:\tlearn: 0.0996251\ttotal: 59.6ms\tremaining: 603ms\n",
            "9:\tlearn: 0.0941957\ttotal: 66.2ms\tremaining: 596ms\n",
            "10:\tlearn: 0.0893465\ttotal: 72.8ms\tremaining: 589ms\n",
            "11:\tlearn: 0.0853455\ttotal: 75.8ms\tremaining: 556ms\n",
            "12:\tlearn: 0.0816848\ttotal: 82.4ms\tremaining: 551ms\n",
            "13:\tlearn: 0.0786668\ttotal: 89.3ms\tremaining: 548ms\n",
            "14:\tlearn: 0.0760402\ttotal: 96.1ms\tremaining: 544ms\n",
            "15:\tlearn: 0.0738105\ttotal: 103ms\tremaining: 540ms\n",
            "16:\tlearn: 0.0718501\ttotal: 109ms\tremaining: 530ms\n",
            "17:\tlearn: 0.0702128\ttotal: 115ms\tremaining: 525ms\n",
            "18:\tlearn: 0.0688372\ttotal: 122ms\tremaining: 518ms\n",
            "19:\tlearn: 0.0677454\ttotal: 124ms\tremaining: 497ms\n",
            "20:\tlearn: 0.0667726\ttotal: 131ms\tremaining: 492ms\n",
            "21:\tlearn: 0.0659102\ttotal: 137ms\tremaining: 487ms\n",
            "22:\tlearn: 0.0652113\ttotal: 144ms\tremaining: 482ms\n",
            "23:\tlearn: 0.0646853\ttotal: 148ms\tremaining: 467ms\n",
            "24:\tlearn: 0.0641790\ttotal: 154ms\tremaining: 463ms\n",
            "25:\tlearn: 0.0637117\ttotal: 161ms\tremaining: 459ms\n",
            "26:\tlearn: 0.0633817\ttotal: 164ms\tremaining: 443ms\n",
            "27:\tlearn: 0.0630762\ttotal: 171ms\tremaining: 439ms\n",
            "28:\tlearn: 0.0628246\ttotal: 174ms\tremaining: 425ms\n",
            "29:\tlearn: 0.0625483\ttotal: 184ms\tremaining: 430ms\n",
            "30:\tlearn: 0.0623123\ttotal: 192ms\tremaining: 428ms\n",
            "31:\tlearn: 0.0621369\ttotal: 199ms\tremaining: 422ms\n",
            "32:\tlearn: 0.0619665\ttotal: 205ms\tremaining: 416ms\n",
            "33:\tlearn: 0.0618102\ttotal: 211ms\tremaining: 410ms\n",
            "34:\tlearn: 0.0616841\ttotal: 218ms\tremaining: 405ms\n",
            "35:\tlearn: 0.0615935\ttotal: 225ms\tremaining: 401ms\n",
            "36:\tlearn: 0.0614925\ttotal: 232ms\tremaining: 395ms\n",
            "37:\tlearn: 0.0614063\ttotal: 239ms\tremaining: 389ms\n",
            "38:\tlearn: 0.0613690\ttotal: 241ms\tremaining: 377ms\n",
            "39:\tlearn: 0.0612998\ttotal: 245ms\tremaining: 368ms\n",
            "40:\tlearn: 0.0612358\ttotal: 251ms\tremaining: 361ms\n",
            "41:\tlearn: 0.0611882\ttotal: 257ms\tremaining: 354ms\n",
            "42:\tlearn: 0.0611247\ttotal: 263ms\tremaining: 349ms\n",
            "43:\tlearn: 0.0610740\ttotal: 272ms\tremaining: 347ms\n",
            "44:\tlearn: 0.0610155\ttotal: 282ms\tremaining: 345ms\n",
            "45:\tlearn: 0.0609466\ttotal: 290ms\tremaining: 341ms\n",
            "46:\tlearn: 0.0609060\ttotal: 300ms\tremaining: 338ms\n",
            "47:\tlearn: 0.0608702\ttotal: 306ms\tremaining: 331ms\n",
            "48:\tlearn: 0.0608372\ttotal: 312ms\tremaining: 325ms\n",
            "49:\tlearn: 0.0608029\ttotal: 318ms\tremaining: 318ms\n",
            "50:\tlearn: 0.0607736\ttotal: 324ms\tremaining: 312ms\n",
            "51:\tlearn: 0.0607294\ttotal: 330ms\tremaining: 305ms\n",
            "52:\tlearn: 0.0607011\ttotal: 333ms\tremaining: 296ms\n",
            "53:\tlearn: 0.0606698\ttotal: 340ms\tremaining: 289ms\n",
            "54:\tlearn: 0.0606065\ttotal: 346ms\tremaining: 283ms\n",
            "55:\tlearn: 0.0605810\ttotal: 353ms\tremaining: 278ms\n",
            "56:\tlearn: 0.0605434\ttotal: 360ms\tremaining: 272ms\n",
            "57:\tlearn: 0.0605157\ttotal: 367ms\tremaining: 266ms\n",
            "58:\tlearn: 0.0604891\ttotal: 373ms\tremaining: 259ms\n",
            "59:\tlearn: 0.0604615\ttotal: 385ms\tremaining: 257ms\n",
            "60:\tlearn: 0.0604026\ttotal: 391ms\tremaining: 250ms\n",
            "61:\tlearn: 0.0603582\ttotal: 398ms\tremaining: 244ms\n",
            "62:\tlearn: 0.0603435\ttotal: 402ms\tremaining: 236ms\n",
            "63:\tlearn: 0.0603149\ttotal: 409ms\tremaining: 230ms\n",
            "64:\tlearn: 0.0602879\ttotal: 415ms\tremaining: 224ms\n",
            "65:\tlearn: 0.0602804\ttotal: 418ms\tremaining: 215ms\n",
            "66:\tlearn: 0.0602787\ttotal: 420ms\tremaining: 207ms\n",
            "67:\tlearn: 0.0602373\ttotal: 426ms\tremaining: 201ms\n",
            "68:\tlearn: 0.0602256\ttotal: 430ms\tremaining: 193ms\n",
            "69:\tlearn: 0.0601839\ttotal: 436ms\tremaining: 187ms\n",
            "70:\tlearn: 0.0601555\ttotal: 443ms\tremaining: 181ms\n",
            "71:\tlearn: 0.0601528\ttotal: 446ms\tremaining: 173ms\n",
            "72:\tlearn: 0.0601157\ttotal: 452ms\tremaining: 167ms\n",
            "73:\tlearn: 0.0600797\ttotal: 458ms\tremaining: 161ms\n",
            "74:\tlearn: 0.0600611\ttotal: 464ms\tremaining: 155ms\n",
            "75:\tlearn: 0.0600434\ttotal: 471ms\tremaining: 149ms\n",
            "76:\tlearn: 0.0600023\ttotal: 477ms\tremaining: 143ms\n",
            "77:\tlearn: 0.0599697\ttotal: 484ms\tremaining: 137ms\n",
            "78:\tlearn: 0.0599273\ttotal: 492ms\tremaining: 131ms\n",
            "79:\tlearn: 0.0598976\ttotal: 499ms\tremaining: 125ms\n",
            "80:\tlearn: 0.0598752\ttotal: 505ms\tremaining: 119ms\n",
            "81:\tlearn: 0.0598578\ttotal: 515ms\tremaining: 113ms\n",
            "82:\tlearn: 0.0598321\ttotal: 522ms\tremaining: 107ms\n",
            "83:\tlearn: 0.0598143\ttotal: 528ms\tremaining: 101ms\n",
            "84:\tlearn: 0.0597978\ttotal: 535ms\tremaining: 94.5ms\n",
            "85:\tlearn: 0.0597577\ttotal: 542ms\tremaining: 88.2ms\n",
            "86:\tlearn: 0.0597346\ttotal: 549ms\tremaining: 82ms\n",
            "87:\tlearn: 0.0597162\ttotal: 556ms\tremaining: 75.8ms\n",
            "88:\tlearn: 0.0596870\ttotal: 563ms\tremaining: 69.6ms\n",
            "89:\tlearn: 0.0596556\ttotal: 570ms\tremaining: 63.3ms\n",
            "90:\tlearn: 0.0596228\ttotal: 577ms\tremaining: 57ms\n",
            "91:\tlearn: 0.0595786\ttotal: 586ms\tremaining: 51ms\n",
            "92:\tlearn: 0.0595539\ttotal: 590ms\tremaining: 44.4ms\n",
            "93:\tlearn: 0.0595365\ttotal: 597ms\tremaining: 38.1ms\n",
            "94:\tlearn: 0.0595170\ttotal: 603ms\tremaining: 31.8ms\n",
            "95:\tlearn: 0.0595030\ttotal: 607ms\tremaining: 25.3ms\n",
            "96:\tlearn: 0.0594840\ttotal: 611ms\tremaining: 18.9ms\n",
            "97:\tlearn: 0.0594692\ttotal: 617ms\tremaining: 12.6ms\n",
            "98:\tlearn: 0.0594354\ttotal: 624ms\tremaining: 6.3ms\n",
            "99:\tlearn: 0.0594135\ttotal: 631ms\tremaining: 0us\n",
            "CatBoostRegressor : 0.72 secs \n",
            "\n",
            "CPU times: user 3min 16s, sys: 7.26 s, total: 3min 23s\n",
            "Wall time: 2min 43s\n"
          ],
          "name": "stdout"
        }
      ]
    },
    {
      "cell_type": "code",
      "metadata": {
        "colab": {
          "base_uri": "https://localhost:8080/",
          "height": 473
        },
        "id": "PSgOA0fC6aJ9",
        "outputId": "6dce7e1b-6bea-483b-d8b0-2a420a83a323"
      },
      "source": [
        "accuracy_frame.sort_values(by=['Test Accuracy'],ascending=False)"
      ],
      "execution_count": null,
      "outputs": [
        {
          "output_type": "execute_result",
          "data": {
            "text/html": [
              "<div>\n",
              "<style scoped>\n",
              "    .dataframe tbody tr th:only-of-type {\n",
              "        vertical-align: middle;\n",
              "    }\n",
              "\n",
              "    .dataframe tbody tr th {\n",
              "        vertical-align: top;\n",
              "    }\n",
              "\n",
              "    .dataframe thead th {\n",
              "        text-align: right;\n",
              "    }\n",
              "</style>\n",
              "<table border=\"1\" class=\"dataframe\">\n",
              "  <thead>\n",
              "    <tr style=\"text-align: right;\">\n",
              "      <th></th>\n",
              "      <th>Train Accuracy</th>\n",
              "      <th>Test Accuracy</th>\n",
              "      <th>Train RMSE</th>\n",
              "      <th>Test RMSE</th>\n",
              "    </tr>\n",
              "  </thead>\n",
              "  <tbody>\n",
              "    <tr>\n",
              "      <th>CatBoostRegressor</th>\n",
              "      <td>0.91057</td>\n",
              "      <td>0.90501</td>\n",
              "      <td>0.05941</td>\n",
              "      <td>0.06267</td>\n",
              "    </tr>\n",
              "    <tr>\n",
              "      <th>LGBMRegressor</th>\n",
              "      <td>0.90838</td>\n",
              "      <td>0.90476</td>\n",
              "      <td>0.06014</td>\n",
              "      <td>0.06275</td>\n",
              "    </tr>\n",
              "    <tr>\n",
              "      <th>KernelRidge</th>\n",
              "      <td>0.90542</td>\n",
              "      <td>0.90467</td>\n",
              "      <td>0.06110</td>\n",
              "      <td>0.06279</td>\n",
              "    </tr>\n",
              "    <tr>\n",
              "      <th>SVR</th>\n",
              "      <td>0.90595</td>\n",
              "      <td>0.90454</td>\n",
              "      <td>0.06093</td>\n",
              "      <td>0.06283</td>\n",
              "    </tr>\n",
              "    <tr>\n",
              "      <th>GradientBoostingRegressor</th>\n",
              "      <td>0.90993</td>\n",
              "      <td>0.90444</td>\n",
              "      <td>0.05962</td>\n",
              "      <td>0.06286</td>\n",
              "    </tr>\n",
              "    <tr>\n",
              "      <th>XGBRegressor</th>\n",
              "      <td>0.91095</td>\n",
              "      <td>0.90441</td>\n",
              "      <td>0.05929</td>\n",
              "      <td>0.06287</td>\n",
              "    </tr>\n",
              "    <tr>\n",
              "      <th>RandomForestRegressor</th>\n",
              "      <td>0.91069</td>\n",
              "      <td>0.90405</td>\n",
              "      <td>0.05937</td>\n",
              "      <td>0.06299</td>\n",
              "    </tr>\n",
              "    <tr>\n",
              "      <th>KNeighborsRegressor</th>\n",
              "      <td>0.90751</td>\n",
              "      <td>0.90237</td>\n",
              "      <td>0.06042</td>\n",
              "      <td>0.06354</td>\n",
              "    </tr>\n",
              "    <tr>\n",
              "      <th>DecisionTreeRegressor</th>\n",
              "      <td>0.90811</td>\n",
              "      <td>0.90096</td>\n",
              "      <td>0.06022</td>\n",
              "      <td>0.06400</td>\n",
              "    </tr>\n",
              "    <tr>\n",
              "      <th>Ridge</th>\n",
              "      <td>0.89733</td>\n",
              "      <td>0.89818</td>\n",
              "      <td>0.06366</td>\n",
              "      <td>0.06489</td>\n",
              "    </tr>\n",
              "    <tr>\n",
              "      <th>BayesianRidge</th>\n",
              "      <td>0.89733</td>\n",
              "      <td>0.89818</td>\n",
              "      <td>0.06366</td>\n",
              "      <td>0.06489</td>\n",
              "    </tr>\n",
              "    <tr>\n",
              "      <th>LinearRegression</th>\n",
              "      <td>0.89733</td>\n",
              "      <td>0.89817</td>\n",
              "      <td>0.06366</td>\n",
              "      <td>0.06489</td>\n",
              "    </tr>\n",
              "    <tr>\n",
              "      <th>Lars</th>\n",
              "      <td>0.89733</td>\n",
              "      <td>0.89817</td>\n",
              "      <td>0.06366</td>\n",
              "      <td>0.06489</td>\n",
              "    </tr>\n",
              "    <tr>\n",
              "      <th>SGDRegressor</th>\n",
              "      <td>0.89412</td>\n",
              "      <td>0.89545</td>\n",
              "      <td>0.06465</td>\n",
              "      <td>0.06575</td>\n",
              "    </tr>\n",
              "  </tbody>\n",
              "</table>\n",
              "</div>"
            ],
            "text/plain": [
              "                           Train Accuracy  Test Accuracy  Train RMSE  \\\n",
              "CatBoostRegressor                 0.91057        0.90501     0.05941   \n",
              "LGBMRegressor                     0.90838        0.90476     0.06014   \n",
              "KernelRidge                       0.90542        0.90467     0.06110   \n",
              "SVR                               0.90595        0.90454     0.06093   \n",
              "GradientBoostingRegressor         0.90993        0.90444     0.05962   \n",
              "XGBRegressor                      0.91095        0.90441     0.05929   \n",
              "RandomForestRegressor             0.91069        0.90405     0.05937   \n",
              "KNeighborsRegressor               0.90751        0.90237     0.06042   \n",
              "DecisionTreeRegressor             0.90811        0.90096     0.06022   \n",
              "Ridge                             0.89733        0.89818     0.06366   \n",
              "BayesianRidge                     0.89733        0.89818     0.06366   \n",
              "LinearRegression                  0.89733        0.89817     0.06366   \n",
              "Lars                              0.89733        0.89817     0.06366   \n",
              "SGDRegressor                      0.89412        0.89545     0.06465   \n",
              "\n",
              "                           Test RMSE  \n",
              "CatBoostRegressor            0.06267  \n",
              "LGBMRegressor                0.06275  \n",
              "KernelRidge                  0.06279  \n",
              "SVR                          0.06283  \n",
              "GradientBoostingRegressor    0.06286  \n",
              "XGBRegressor                 0.06287  \n",
              "RandomForestRegressor        0.06299  \n",
              "KNeighborsRegressor          0.06354  \n",
              "DecisionTreeRegressor        0.06400  \n",
              "Ridge                        0.06489  \n",
              "BayesianRidge                0.06489  \n",
              "LinearRegression             0.06489  \n",
              "Lars                         0.06489  \n",
              "SGDRegressor                 0.06575  "
            ]
          },
          "metadata": {
            "tags": []
          },
          "execution_count": 231
        }
      ]
    },
    {
      "cell_type": "markdown",
      "metadata": {
        "id": "z8B81mHGwRDS"
      },
      "source": [
        "Selecting the top 8 candidates for Stacking Regressor and final_estimator as *SGDRegressor*"
      ]
    },
    {
      "cell_type": "markdown",
      "metadata": {
        "id": "BIxmdnoEVL6a"
      },
      "source": [
        "<a name=Section804></a>\n",
        "### 8.4 Stacking Models"
      ]
    },
    {
      "cell_type": "markdown",
      "metadata": {
        "id": "_DHSSN_1vnva"
      },
      "source": [
        "Adding best accuracy models *CatBoostRegressor*, *LGBMRegressor*, *KernelRidge*, *SVR*, *GradientBoostingRegressor*, *XGBRegressor*, *RandomForestRegressor*, *KNeighborsRegressor* to stack and making **SGD Regressor** as final estimator"
      ]
    },
    {
      "cell_type": "code",
      "metadata": {
        "id": "FzXBE1pZO3-E"
      },
      "source": [
        "# Creating a collection of estimators\n",
        "estimators = [('CatBoostRegressor', cat_r2), \n",
        "              ('LGBMRegressor', lgbm_r2),\n",
        "              ('KernelRidge',kr_r2),\n",
        "              ('SVR', svr_r2),\n",
        "              ('GradientBoostingRegressor', gbr_r2),\n",
        "              ('XGBRegressor',xg_r2),\n",
        "              ('RandomForestRegressor',rf_r2),\n",
        "              ('KNeighborsRegressor',knn_r2)\n",
        "              ]\n",
        "\n",
        "# Setting StackingRegressor with initiated estimators and a final estimator\n",
        "stack_reg = StackingRegressor(estimators=estimators, final_estimator=sgd_r2, n_jobs=-1, cv=5,verbose=2)"
      ],
      "execution_count": 41,
      "outputs": []
    },
    {
      "cell_type": "code",
      "metadata": {
        "colab": {
          "base_uri": "https://localhost:8080/"
        },
        "id": "WFZJp5lsUeoz",
        "outputId": "bcb8fe39-0c47-4843-a525-f10e70e0fb53"
      },
      "source": [
        "%%time\n",
        "model_fit_predict(stack_reg)"
      ],
      "execution_count": 42,
      "outputs": [
        {
          "output_type": "stream",
          "text": [
            "/usr/local/lib/python3.7/dist-packages/joblib/externals/loky/process_executor.py:691: UserWarning: A worker stopped while some jobs were given to the executor. This can be caused by a too short worker timeout or by a memory leak.\n",
            "  \"timeout or by a memory leak.\", UserWarning\n"
          ],
          "name": "stderr"
        },
        {
          "output_type": "stream",
          "text": [
            "       Accuracy     RMSE\n",
            "Train   0.91055  0.05942\n",
            "Test    0.90571  0.06244\n",
            "CPU times: user 58.9 s, sys: 2.24 s, total: 1min 1s\n",
            "Wall time: 5min 31s\n"
          ],
          "name": "stdout"
        }
      ]
    },
    {
      "cell_type": "code",
      "metadata": {
        "colab": {
          "base_uri": "https://localhost:8080/"
        },
        "id": "cOIYrfWqTvWG",
        "outputId": "46c05344-46b6-4897-ca84-5dcc3e13dc74"
      },
      "source": [
        "drive.mount('/drive') #to save the trained stack reg model"
      ],
      "execution_count": 51,
      "outputs": [
        {
          "output_type": "stream",
          "text": [
            "Mounted at /drive\n"
          ],
          "name": "stdout"
        }
      ]
    },
    {
      "cell_type": "code",
      "metadata": {
        "id": "vVcTt9KbU9XC",
        "colab": {
          "base_uri": "https://localhost:8080/"
        },
        "outputId": "8dc8b86a-b718-4471-db03-66042dceaac4"
      },
      "source": [
        "with open('/drive/My Drive/Colab Notebooks/WLI_Reg_Model','wb') as f:\n",
        "  pickle.dump(stack_reg,f)\n",
        "f.close"
      ],
      "execution_count": 52,
      "outputs": [
        {
          "output_type": "execute_result",
          "data": {
            "text/plain": [
              "<function BufferedWriter.close>"
            ]
          },
          "metadata": {
            "tags": []
          },
          "execution_count": 52
        }
      ]
    },
    {
      "cell_type": "markdown",
      "metadata": {
        "id": "0GZp49acQ4pN"
      },
      "source": [
        "<a name=Section9></a>\n",
        "## 9. Predictions"
      ]
    },
    {
      "cell_type": "code",
      "metadata": {
        "id": "Ig4AwPQ5vVu0",
        "colab": {
          "resources": {
            "http://localhost:8080/nbextensions/google.colab/files.js": {
              "data": "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",
              "ok": true,
              "headers": [
                [
                  "content-type",
                  "application/javascript"
                ]
              ],
              "status": 200,
              "status_text": ""
            }
          },
          "base_uri": "https://localhost:8080/",
          "height": 91
        },
        "outputId": "2b912325-15cb-490b-9924-e7e64494af33"
      },
      "source": [
        "data_to_load = files.upload()\n",
        "data_test = pd.read_csv('test.csv')\n",
        "print('Data Shape:', data_test.shape)\n",
        "test = data_test.copy()"
      ],
      "execution_count": 43,
      "outputs": [
        {
          "output_type": "display_data",
          "data": {
            "text/html": [
              "\n",
              "     <input type=\"file\" id=\"files-70dfa0c4-903b-4114-ae7b-2878f92a4e50\" name=\"files[]\" multiple disabled\n",
              "        style=\"border:none\" />\n",
              "     <output id=\"result-70dfa0c4-903b-4114-ae7b-2878f92a4e50\">\n",
              "      Upload widget is only available when the cell has been executed in the\n",
              "      current browser session. Please rerun this cell to enable.\n",
              "      </output>\n",
              "      <script src=\"/nbextensions/google.colab/files.js\"></script> "
            ],
            "text/plain": [
              "<IPython.core.display.HTML object>"
            ]
          },
          "metadata": {
            "tags": []
          }
        },
        {
          "output_type": "stream",
          "text": [
            "Saving test.csv to test.csv\n",
            "Data Shape: (12250, 11)\n"
          ],
          "name": "stdout"
        }
      ]
    },
    {
      "cell_type": "code",
      "metadata": {
        "colab": {
          "base_uri": "https://localhost:8080/"
        },
        "id": "WP8XHLveNCQP",
        "outputId": "db28ed5b-de21-46ce-9e56-61523578fc4f"
      },
      "source": [
        "test.isnull().sum()"
      ],
      "execution_count": 44,
      "outputs": [
        {
          "output_type": "execute_result",
          "data": {
            "text/plain": [
              "Employee ID                     0\n",
              "Date of Joining                 0\n",
              "Gender                          0\n",
              "Company Type                    0\n",
              "WFH Setup Available             0\n",
              "Age                             0\n",
              "Tenure                          0\n",
              "Vacations taken                 0\n",
              "Designation                     0\n",
              "Average Hours worked per day    0\n",
              "Employee satisfaction score     0\n",
              "dtype: int64"
            ]
          },
          "metadata": {
            "tags": []
          },
          "execution_count": 44
        }
      ]
    },
    {
      "cell_type": "code",
      "metadata": {
        "id": "JqEz78voNdep"
      },
      "source": [
        "test.drop(['Employee ID','Date of Joining','Vacations taken','Tenure','Age','Company Type'],axis=1,inplace=True)"
      ],
      "execution_count": 45,
      "outputs": []
    },
    {
      "cell_type": "code",
      "metadata": {
        "id": "EiuwvkFvSIxd"
      },
      "source": [
        "# convert objects to category\n",
        "for col in test.columns:\n",
        "  if test[col].dtype == 'object':\n",
        "    test[col] = test[col].astype('category')"
      ],
      "execution_count": 46,
      "outputs": []
    },
    {
      "cell_type": "code",
      "metadata": {
        "colab": {
          "base_uri": "https://localhost:8080/",
          "height": 219
        },
        "id": "dWIBa1fON0S1",
        "outputId": "84a785a6-dcb2-4acb-ddbe-3d9a137a5348"
      },
      "source": [
        "test_uncorr = test.copy()\n",
        "for col in test_uncorr.select_dtypes(include='category').columns:\n",
        "  test_uncorr =ApplyOneHot(test_uncorr,col)\n",
        "test_uncorr.head()"
      ],
      "execution_count": 47,
      "outputs": [
        {
          "output_type": "execute_result",
          "data": {
            "text/html": [
              "<div>\n",
              "<style scoped>\n",
              "    .dataframe tbody tr th:only-of-type {\n",
              "        vertical-align: middle;\n",
              "    }\n",
              "\n",
              "    .dataframe tbody tr th {\n",
              "        vertical-align: top;\n",
              "    }\n",
              "\n",
              "    .dataframe thead th {\n",
              "        text-align: right;\n",
              "    }\n",
              "</style>\n",
              "<table border=\"1\" class=\"dataframe\">\n",
              "  <thead>\n",
              "    <tr style=\"text-align: right;\">\n",
              "      <th></th>\n",
              "      <th>Designation</th>\n",
              "      <th>Average Hours worked per day</th>\n",
              "      <th>Employee satisfaction score</th>\n",
              "      <th>Gender_Male</th>\n",
              "      <th>WFH Setup Available_Yes</th>\n",
              "    </tr>\n",
              "  </thead>\n",
              "  <tbody>\n",
              "    <tr>\n",
              "      <th>0</th>\n",
              "      <td>2</td>\n",
              "      <td>5</td>\n",
              "      <td>7.7</td>\n",
              "      <td>0</td>\n",
              "      <td>0</td>\n",
              "    </tr>\n",
              "    <tr>\n",
              "      <th>1</th>\n",
              "      <td>1</td>\n",
              "      <td>2</td>\n",
              "      <td>5.2</td>\n",
              "      <td>0</td>\n",
              "      <td>1</td>\n",
              "    </tr>\n",
              "    <tr>\n",
              "      <th>2</th>\n",
              "      <td>1</td>\n",
              "      <td>3</td>\n",
              "      <td>5.9</td>\n",
              "      <td>1</td>\n",
              "      <td>1</td>\n",
              "    </tr>\n",
              "    <tr>\n",
              "      <th>3</th>\n",
              "      <td>3</td>\n",
              "      <td>6</td>\n",
              "      <td>4.6</td>\n",
              "      <td>0</td>\n",
              "      <td>0</td>\n",
              "    </tr>\n",
              "    <tr>\n",
              "      <th>4</th>\n",
              "      <td>2</td>\n",
              "      <td>5</td>\n",
              "      <td>6.4</td>\n",
              "      <td>0</td>\n",
              "      <td>0</td>\n",
              "    </tr>\n",
              "  </tbody>\n",
              "</table>\n",
              "</div>"
            ],
            "text/plain": [
              "   Designation  Average Hours worked per day  Employee satisfaction score  \\\n",
              "0            2                             5                          7.7   \n",
              "1            1                             2                          5.2   \n",
              "2            1                             3                          5.9   \n",
              "3            3                             6                          4.6   \n",
              "4            2                             5                          6.4   \n",
              "\n",
              "   Gender_Male  WFH Setup Available_Yes  \n",
              "0            0                        0  \n",
              "1            0                        1  \n",
              "2            1                        1  \n",
              "3            0                        0  \n",
              "4            0                        0  "
            ]
          },
          "metadata": {
            "tags": []
          },
          "execution_count": 47
        }
      ]
    },
    {
      "cell_type": "code",
      "metadata": {
        "id": "T3zzGvNnOG-w"
      },
      "source": [
        "prediction = stack_reg.predict(test_uncorr)"
      ],
      "execution_count": 48,
      "outputs": []
    },
    {
      "cell_type": "code",
      "metadata": {
        "id": "Y1ouY-hgTHBH",
        "colab": {
          "base_uri": "https://localhost:8080/",
          "height": 233
        },
        "outputId": "68ba0d41-a875-4ad6-b3b9-4c0ca37dccfe"
      },
      "source": [
        "data_test['Mental Fatigue Score'] =prediction\n",
        "predicted_df = data_test[['Employee ID','Mental Fatigue Score']]\n",
        "predicted_df = predicted_df.set_index('Employee ID')\n",
        "predicted_df.head()"
      ],
      "execution_count": 49,
      "outputs": [
        {
          "output_type": "execute_result",
          "data": {
            "text/html": [
              "<div>\n",
              "<style scoped>\n",
              "    .dataframe tbody tr th:only-of-type {\n",
              "        vertical-align: middle;\n",
              "    }\n",
              "\n",
              "    .dataframe tbody tr th {\n",
              "        vertical-align: top;\n",
              "    }\n",
              "\n",
              "    .dataframe thead th {\n",
              "        text-align: right;\n",
              "    }\n",
              "</style>\n",
              "<table border=\"1\" class=\"dataframe\">\n",
              "  <thead>\n",
              "    <tr style=\"text-align: right;\">\n",
              "      <th></th>\n",
              "      <th>Mental Fatigue Score</th>\n",
              "    </tr>\n",
              "    <tr>\n",
              "      <th>Employee ID</th>\n",
              "      <th></th>\n",
              "    </tr>\n",
              "  </thead>\n",
              "  <tbody>\n",
              "    <tr>\n",
              "      <th>fffe31003300390039003000</th>\n",
              "      <td>0.619408</td>\n",
              "    </tr>\n",
              "    <tr>\n",
              "      <th>fffe31003300310037003800</th>\n",
              "      <td>0.354591</td>\n",
              "    </tr>\n",
              "    <tr>\n",
              "      <th>fffe33003400380035003900</th>\n",
              "      <td>0.435436</td>\n",
              "    </tr>\n",
              "    <tr>\n",
              "      <th>fffe3100370039003200</th>\n",
              "      <td>0.384255</td>\n",
              "    </tr>\n",
              "    <tr>\n",
              "      <th>fffe32003600390036003700</th>\n",
              "      <td>0.529665</td>\n",
              "    </tr>\n",
              "  </tbody>\n",
              "</table>\n",
              "</div>"
            ],
            "text/plain": [
              "                          Mental Fatigue Score\n",
              "Employee ID                                   \n",
              "fffe31003300390039003000              0.619408\n",
              "fffe31003300310037003800              0.354591\n",
              "fffe33003400380035003900              0.435436\n",
              "fffe3100370039003200                  0.384255\n",
              "fffe32003600390036003700              0.529665"
            ]
          },
          "metadata": {
            "tags": []
          },
          "execution_count": 49
        }
      ]
    },
    {
      "cell_type": "code",
      "metadata": {
        "id": "c7X68FT-U9hH",
        "colab": {
          "base_uri": "https://localhost:8080/",
          "height": 17
        },
        "outputId": "3a293d73-ead5-441c-a66f-e5fa2d88a065"
      },
      "source": [
        "predicted_df.to_csv('submission.csv')\n",
        "files.download('submission.csv')"
      ],
      "execution_count": 50,
      "outputs": [
        {
          "output_type": "display_data",
          "data": {
            "application/javascript": [
              "\n",
              "    async function download(id, filename, size) {\n",
              "      if (!google.colab.kernel.accessAllowed) {\n",
              "        return;\n",
              "      }\n",
              "      const div = document.createElement('div');\n",
              "      const label = document.createElement('label');\n",
              "      label.textContent = `Downloading \"${filename}\": `;\n",
              "      div.appendChild(label);\n",
              "      const progress = document.createElement('progress');\n",
              "      progress.max = size;\n",
              "      div.appendChild(progress);\n",
              "      document.body.appendChild(div);\n",
              "\n",
              "      const buffers = [];\n",
              "      let downloaded = 0;\n",
              "\n",
              "      const channel = await google.colab.kernel.comms.open(id);\n",
              "      // Send a message to notify the kernel that we're ready.\n",
              "      channel.send({})\n",
              "\n",
              "      for await (const message of channel.messages) {\n",
              "        // Send a message to notify the kernel that we're ready.\n",
              "        channel.send({})\n",
              "        if (message.buffers) {\n",
              "          for (const buffer of message.buffers) {\n",
              "            buffers.push(buffer);\n",
              "            downloaded += buffer.byteLength;\n",
              "            progress.value = downloaded;\n",
              "          }\n",
              "        }\n",
              "      }\n",
              "      const blob = new Blob(buffers, {type: 'application/binary'});\n",
              "      const a = document.createElement('a');\n",
              "      a.href = window.URL.createObjectURL(blob);\n",
              "      a.download = filename;\n",
              "      div.appendChild(a);\n",
              "      a.click();\n",
              "      div.remove();\n",
              "    }\n",
              "  "
            ],
            "text/plain": [
              "<IPython.core.display.Javascript object>"
            ]
          },
          "metadata": {
            "tags": []
          }
        },
        {
          "output_type": "display_data",
          "data": {
            "application/javascript": [
              "download(\"download_2038fab3-fe54-40ea-9167-60eb1966dd2c\", \"submission.csv\", 526229)"
            ],
            "text/plain": [
              "<IPython.core.display.Javascript object>"
            ]
          },
          "metadata": {
            "tags": []
          }
        }
      ]
    }
  ]
}